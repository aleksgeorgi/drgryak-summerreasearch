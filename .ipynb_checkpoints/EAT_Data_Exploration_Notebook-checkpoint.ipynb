{
 "cells": [
  {
   "cell_type": "code",
   "execution_count": 1,
   "metadata": {},
   "outputs": [],
   "source": [
    "import pandas as pd\n",
    "import numpy as np"
   ]
  },
  {
   "cell_type": "markdown",
   "metadata": {},
   "source": [
    "# Loading the LEAP Dataset for reference\n",
    "#### this code comes from the \"Revised LEAP Pipeline\" notebook"
   ]
  },
  {
   "cell_type": "code",
   "execution_count": 2,
   "metadata": {},
   "outputs": [
    {
     "name": "stdout",
     "output_type": "stream",
     "text": [
      "(463, 18)\n"
     ]
    },
    {
     "data": {
      "text/html": [
       "<div>\n",
       "<style scoped>\n",
       "    .dataframe tbody tr th:only-of-type {\n",
       "        vertical-align: middle;\n",
       "    }\n",
       "\n",
       "    .dataframe tbody tr th {\n",
       "        vertical-align: top;\n",
       "    }\n",
       "\n",
       "    .dataframe thead th {\n",
       "        text-align: right;\n",
       "    }\n",
       "</style>\n",
       "<table border=\"1\" class=\"dataframe\">\n",
       "  <thead>\n",
       "    <tr style=\"text-align: right;\">\n",
       "      <th></th>\n",
       "      <th>Age</th>\n",
       "      <th>Male</th>\n",
       "      <th>White</th>\n",
       "      <th>Black</th>\n",
       "      <th>Asian</th>\n",
       "      <th>Other</th>\n",
       "      <th>Mixed</th>\n",
       "      <th>Unknown</th>\n",
       "      <th>Wheal (mm)</th>\n",
       "      <th>Flare (mm)</th>\n",
       "      <th>Total IgE (kU/L)</th>\n",
       "      <th>Peanut IgE (kU/L)</th>\n",
       "      <th>Ara h1 (kU/L)</th>\n",
       "      <th>Ara h2 (kU/L)</th>\n",
       "      <th>Ara h3 (kU/L)</th>\n",
       "      <th>Ara h8 (kU/L)</th>\n",
       "      <th>Ara h9 (kU/L)</th>\n",
       "      <th>OFC Pass</th>\n",
       "    </tr>\n",
       "  </thead>\n",
       "  <tbody>\n",
       "    <tr>\n",
       "      <th>0</th>\n",
       "      <td>6.078029</td>\n",
       "      <td>0</td>\n",
       "      <td>0</td>\n",
       "      <td>1</td>\n",
       "      <td>0</td>\n",
       "      <td>0</td>\n",
       "      <td>0</td>\n",
       "      <td>0</td>\n",
       "      <td>0</td>\n",
       "      <td>0</td>\n",
       "      <td>18</td>\n",
       "      <td>0.04</td>\n",
       "      <td>0.01</td>\n",
       "      <td>0.01</td>\n",
       "      <td>0.01</td>\n",
       "      <td>0.01</td>\n",
       "      <td>0.01</td>\n",
       "      <td>1</td>\n",
       "    </tr>\n",
       "    <tr>\n",
       "      <th>1</th>\n",
       "      <td>5.979466</td>\n",
       "      <td>1</td>\n",
       "      <td>1</td>\n",
       "      <td>0</td>\n",
       "      <td>0</td>\n",
       "      <td>0</td>\n",
       "      <td>0</td>\n",
       "      <td>0</td>\n",
       "      <td>0</td>\n",
       "      <td>0</td>\n",
       "      <td>84</td>\n",
       "      <td>0.01</td>\n",
       "      <td>0.01</td>\n",
       "      <td>0.01</td>\n",
       "      <td>0.01</td>\n",
       "      <td>0.01</td>\n",
       "      <td>0.01</td>\n",
       "      <td>1</td>\n",
       "    </tr>\n",
       "    <tr>\n",
       "      <th>2</th>\n",
       "      <td>7.030801</td>\n",
       "      <td>0</td>\n",
       "      <td>1</td>\n",
       "      <td>0</td>\n",
       "      <td>0</td>\n",
       "      <td>0</td>\n",
       "      <td>0</td>\n",
       "      <td>0</td>\n",
       "      <td>0</td>\n",
       "      <td>0</td>\n",
       "      <td>67</td>\n",
       "      <td>0.07</td>\n",
       "      <td>0.01</td>\n",
       "      <td>0.01</td>\n",
       "      <td>0.01</td>\n",
       "      <td>0.01</td>\n",
       "      <td>0.01</td>\n",
       "      <td>1</td>\n",
       "    </tr>\n",
       "    <tr>\n",
       "      <th>3</th>\n",
       "      <td>6.406571</td>\n",
       "      <td>1</td>\n",
       "      <td>1</td>\n",
       "      <td>0</td>\n",
       "      <td>0</td>\n",
       "      <td>0</td>\n",
       "      <td>0</td>\n",
       "      <td>0</td>\n",
       "      <td>0</td>\n",
       "      <td>0</td>\n",
       "      <td>41</td>\n",
       "      <td>0.01</td>\n",
       "      <td>0.01</td>\n",
       "      <td>0.01</td>\n",
       "      <td>0.01</td>\n",
       "      <td>0.01</td>\n",
       "      <td>0.01</td>\n",
       "      <td>1</td>\n",
       "    </tr>\n",
       "    <tr>\n",
       "      <th>4</th>\n",
       "      <td>6.045175</td>\n",
       "      <td>0</td>\n",
       "      <td>1</td>\n",
       "      <td>0</td>\n",
       "      <td>0</td>\n",
       "      <td>0</td>\n",
       "      <td>0</td>\n",
       "      <td>0</td>\n",
       "      <td>0</td>\n",
       "      <td>0</td>\n",
       "      <td>1</td>\n",
       "      <td>0.01</td>\n",
       "      <td>0.01</td>\n",
       "      <td>0.01</td>\n",
       "      <td>0.01</td>\n",
       "      <td>0.01</td>\n",
       "      <td>0.01</td>\n",
       "      <td>1</td>\n",
       "    </tr>\n",
       "  </tbody>\n",
       "</table>\n",
       "</div>"
      ],
      "text/plain": [
       "        Age  Male  White  Black  Asian  Other  Mixed  Unknown  Wheal (mm)  \\\n",
       "0  6.078029     0      0      1      0      0      0        0           0   \n",
       "1  5.979466     1      1      0      0      0      0        0           0   \n",
       "2  7.030801     0      1      0      0      0      0        0           0   \n",
       "3  6.406571     1      1      0      0      0      0        0           0   \n",
       "4  6.045175     0      1      0      0      0      0        0           0   \n",
       "\n",
       "   Flare (mm)  Total IgE (kU/L)  Peanut IgE (kU/L)  Ara h1 (kU/L)  \\\n",
       "0           0                18               0.04           0.01   \n",
       "1           0                84               0.01           0.01   \n",
       "2           0                67               0.07           0.01   \n",
       "3           0                41               0.01           0.01   \n",
       "4           0                 1               0.01           0.01   \n",
       "\n",
       "   Ara h2 (kU/L)  Ara h3 (kU/L)  Ara h8 (kU/L)  Ara h9 (kU/L)  OFC Pass  \n",
       "0           0.01           0.01           0.01           0.01         1  \n",
       "1           0.01           0.01           0.01           0.01         1  \n",
       "2           0.01           0.01           0.01           0.01         1  \n",
       "3           0.01           0.01           0.01           0.01         1  \n",
       "4           0.01           0.01           0.01           0.01         1  "
      ]
     },
     "execution_count": 2,
     "metadata": {},
     "output_type": "execute_result"
    }
   ],
   "source": [
    "import matplotlib.pyplot as plt\n",
    "def save_fig(fig_id,FIG_PATH=None, tight_layout=True, fig_extension=\"png\", resolution=300):\n",
    "    if FIG_PATH is not None:\n",
    "        path = os.path.join(SHAP_PATH, fig_id + \".\" + fig_extension)\n",
    "    else:\n",
    "        path = fig_id + \".\" + fig_extension\n",
    "    \n",
    "    print(\"Saving figure\", fig_id)\n",
    "    if tight_layout:\n",
    "        plt.tight_layout()\n",
    "    plt.savefig(path, format=fig_extension, dpi=resolution)\n",
    "    \n",
    "    \n",
    "#Aleks' file pathway cell\n",
    "\n",
    "import pandas as pd\n",
    "import numpy as np\n",
    "import matplotlib.pyplot as plt\n",
    "import os\n",
    "import sys\n",
    "\n",
    "#change to save data/models to file\n",
    "SAVE_OUTPUT = True\n",
    "NUM_FOLDS = 5\n",
    "SEED = 1211\n",
    "\n",
    "#change paths as necessary\n",
    "DROPBOX_PATH=r\"/Users/aleksandrageorgievska/Downloads/0-SummerResearch/Data\"\n",
    "GITHUB_PATH = r\"/Users/aleksandrageorgievska/Downloads/0-SummerResearch\"\n",
    "\n",
    "#set paths to data files\n",
    "DBX_OFC_FILE = [\"LEAP_Study\", r'leap-all-final-pipeline.xlsx']\n",
    "DBX_UM_VALIDATION_FILE = ['Work','Research','Food Allery with Chase',r\"JGryakPeanutData All Subjects-working.xlsx\"]\n",
    "OFC_FILE= os.path.join(DROPBOX_PATH,*DBX_OFC_FILE)\n",
    "UM_VALIDATION_FILE= os.path.join(DROPBOX_PATH,*DBX_UM_VALIDATION_FILE)\n",
    "\n",
    "#import LUCCK from separate repository\n",
    "GH_LUCCK_PATH=\"LUCCK\"\n",
    "LUCCK_PATH=os.path.join(GITHUB_PATH,GH_LUCCK_PATH)\n",
    "sys.path.insert(0, LUCCK_PATH)\n",
    "from ncn import NCN\n",
    "\n",
    "\n",
    "#leap dataset columns\n",
    "perm_cols=[\"Age\",\n",
    "    \"Male\",\n",
    "    \"White\",\n",
    "    \"Black\",\n",
    "    \"Asian\",\n",
    "    \"Other\",\n",
    "    \"Mixed\",\n",
    "    \"Unknown\",\n",
    "    \"Wheal (mm)\",\n",
    "    \"Flare (mm)\",\n",
    "    \"Total IgE (kU/L)\",\n",
    "    \"Peanut IgE (kU/L)\",\n",
    "    \"Ara h1 (kU/L)\",\n",
    "    \"Ara h2 (kU/L)\",\n",
    "    \"Ara h3 (kU/L)\",\n",
    "    \"Ara h8 (kU/L)\",\n",
    "    \"Ara h9 (kU/L)\",\n",
    "    \"OFC Pass\"]\n",
    "\n",
    "\n",
    "#check leap data permutation loading\n",
    "leap_dataset = pd.read_excel(OFC_FILE,header=None,names=perm_cols)\n",
    "print(leap_dataset.shape)\n",
    "leap_dataset.head()"
   ]
  },
  {
   "cell_type": "markdown",
   "metadata": {},
   "source": [
    "---"
   ]
  },
  {
   "cell_type": "markdown",
   "metadata": {},
   "source": [
    "# Loading the EAT Datasets"
   ]
  },
  {
   "cell_type": "code",
   "execution_count": 3,
   "metadata": {},
   "outputs": [],
   "source": [
    "eat_working = pd.read_excel(\"Data/EAT_Study/EAT study data 2019_2022-10-12_13-13-35_working.xlsx\")"
   ]
  },
  {
   "cell_type": "code",
   "execution_count": 4,
   "metadata": {},
   "outputs": [
    {
     "data": {
      "text/html": [
       "<div>\n",
       "<style scoped>\n",
       "    .dataframe tbody tr th:only-of-type {\n",
       "        vertical-align: middle;\n",
       "    }\n",
       "\n",
       "    .dataframe tbody tr th {\n",
       "        vertical-align: top;\n",
       "    }\n",
       "\n",
       "    .dataframe thead th {\n",
       "        text-align: right;\n",
       "    }\n",
       "</style>\n",
       "<table border=\"1\" class=\"dataframe\">\n",
       "  <thead>\n",
       "    <tr style=\"text-align: right;\">\n",
       "      <th></th>\n",
       "      <th>Participant ID</th>\n",
       "      <th>Visit</th>\n",
       "      <th>ethnicity</th>\n",
       "      <th>mother's age at enrolment (years)</th>\n",
       "      <th>age mum left full time education</th>\n",
       "      <th>family history of asthma</th>\n",
       "      <th>mother has asthma</th>\n",
       "      <th>father has asthma</th>\n",
       "      <th>family history of eczema</th>\n",
       "      <th>mother has eczema</th>\n",
       "      <th>...</th>\n",
       "      <th>Wheat week 11 consumption in grams</th>\n",
       "      <th>Fish week 11 consumption in grams</th>\n",
       "      <th>Sesame week 11 consumption in grams</th>\n",
       "      <th>Egg week 12 consumption in grams</th>\n",
       "      <th>Milk week 12 consumption in grams</th>\n",
       "      <th>Peanut week 12 consumption in grams</th>\n",
       "      <th>Wheat week 12 consumption in grams</th>\n",
       "      <th>Fish week 12 consumption in grams</th>\n",
       "      <th>Sesame week 12 consumption in grams</th>\n",
       "      <th>case ID</th>\n",
       "    </tr>\n",
       "  </thead>\n",
       "  <tbody>\n",
       "    <tr>\n",
       "      <th>0</th>\n",
       "      <td>1.0</td>\n",
       "      <td>NaN</td>\n",
       "      <td>0.0</td>\n",
       "      <td>32.0</td>\n",
       "      <td>2.0</td>\n",
       "      <td>1.0</td>\n",
       "      <td>1.0</td>\n",
       "      <td>0.0</td>\n",
       "      <td>1.0</td>\n",
       "      <td>1.0</td>\n",
       "      <td>...</td>\n",
       "      <td>NaN</td>\n",
       "      <td>NaN</td>\n",
       "      <td>NaN</td>\n",
       "      <td>NaN</td>\n",
       "      <td>NaN</td>\n",
       "      <td>NaN</td>\n",
       "      <td>NaN</td>\n",
       "      <td>NaN</td>\n",
       "      <td>NaN</td>\n",
       "      <td>1.0</td>\n",
       "    </tr>\n",
       "    <tr>\n",
       "      <th>1</th>\n",
       "      <td>2.0</td>\n",
       "      <td>NaN</td>\n",
       "      <td>0.0</td>\n",
       "      <td>27.0</td>\n",
       "      <td>2.0</td>\n",
       "      <td>1.0</td>\n",
       "      <td>1.0</td>\n",
       "      <td>0.0</td>\n",
       "      <td>1.0</td>\n",
       "      <td>1.0</td>\n",
       "      <td>...</td>\n",
       "      <td>4.0</td>\n",
       "      <td>4.0</td>\n",
       "      <td>4.0</td>\n",
       "      <td>1.0</td>\n",
       "      <td>4.0</td>\n",
       "      <td>4.0</td>\n",
       "      <td>4.0</td>\n",
       "      <td>4.0</td>\n",
       "      <td>4.0</td>\n",
       "      <td>2.0</td>\n",
       "    </tr>\n",
       "    <tr>\n",
       "      <th>2</th>\n",
       "      <td>3.0</td>\n",
       "      <td>NaN</td>\n",
       "      <td>0.0</td>\n",
       "      <td>32.0</td>\n",
       "      <td>2.0</td>\n",
       "      <td>1.0</td>\n",
       "      <td>0.0</td>\n",
       "      <td>0.0</td>\n",
       "      <td>1.0</td>\n",
       "      <td>0.0</td>\n",
       "      <td>...</td>\n",
       "      <td>4.0</td>\n",
       "      <td>4.0</td>\n",
       "      <td>4.0</td>\n",
       "      <td>4.0</td>\n",
       "      <td>4.0</td>\n",
       "      <td>4.0</td>\n",
       "      <td>4.0</td>\n",
       "      <td>4.0</td>\n",
       "      <td>4.0</td>\n",
       "      <td>3.0</td>\n",
       "    </tr>\n",
       "    <tr>\n",
       "      <th>3</th>\n",
       "      <td>4.0</td>\n",
       "      <td>NaN</td>\n",
       "      <td>3.0</td>\n",
       "      <td>36.0</td>\n",
       "      <td>2.0</td>\n",
       "      <td>1.0</td>\n",
       "      <td>0.0</td>\n",
       "      <td>0.0</td>\n",
       "      <td>1.0</td>\n",
       "      <td>0.0</td>\n",
       "      <td>...</td>\n",
       "      <td>NaN</td>\n",
       "      <td>NaN</td>\n",
       "      <td>NaN</td>\n",
       "      <td>NaN</td>\n",
       "      <td>NaN</td>\n",
       "      <td>NaN</td>\n",
       "      <td>NaN</td>\n",
       "      <td>NaN</td>\n",
       "      <td>NaN</td>\n",
       "      <td>4.0</td>\n",
       "    </tr>\n",
       "    <tr>\n",
       "      <th>4</th>\n",
       "      <td>5.0</td>\n",
       "      <td>NaN</td>\n",
       "      <td>0.0</td>\n",
       "      <td>31.0</td>\n",
       "      <td>3.0</td>\n",
       "      <td>0.0</td>\n",
       "      <td>0.0</td>\n",
       "      <td>0.0</td>\n",
       "      <td>0.0</td>\n",
       "      <td>0.0</td>\n",
       "      <td>...</td>\n",
       "      <td>4.0</td>\n",
       "      <td>4.0</td>\n",
       "      <td>4.0</td>\n",
       "      <td>4.0</td>\n",
       "      <td>4.0</td>\n",
       "      <td>4.0</td>\n",
       "      <td>4.0</td>\n",
       "      <td>4.0</td>\n",
       "      <td>4.0</td>\n",
       "      <td>5.0</td>\n",
       "    </tr>\n",
       "  </tbody>\n",
       "</table>\n",
       "<p>5 rows × 985 columns</p>\n",
       "</div>"
      ],
      "text/plain": [
       "   Participant ID  Visit  ethnicity  mother's age at enrolment (years)  \\\n",
       "0             1.0    NaN        0.0                               32.0   \n",
       "1             2.0    NaN        0.0                               27.0   \n",
       "2             3.0    NaN        0.0                               32.0   \n",
       "3             4.0    NaN        3.0                               36.0   \n",
       "4             5.0    NaN        0.0                               31.0   \n",
       "\n",
       "   age mum left full time education  family history of asthma  \\\n",
       "0                               2.0                       1.0   \n",
       "1                               2.0                       1.0   \n",
       "2                               2.0                       1.0   \n",
       "3                               2.0                       1.0   \n",
       "4                               3.0                       0.0   \n",
       "\n",
       "   mother has asthma  father has asthma  family history of eczema  \\\n",
       "0                1.0                0.0                       1.0   \n",
       "1                1.0                0.0                       1.0   \n",
       "2                0.0                0.0                       1.0   \n",
       "3                0.0                0.0                       1.0   \n",
       "4                0.0                0.0                       0.0   \n",
       "\n",
       "   mother has eczema  ...  Wheat week 11 consumption in grams  \\\n",
       "0                1.0  ...                                 NaN   \n",
       "1                1.0  ...                                 4.0   \n",
       "2                0.0  ...                                 4.0   \n",
       "3                0.0  ...                                 NaN   \n",
       "4                0.0  ...                                 4.0   \n",
       "\n",
       "   Fish week 11 consumption in grams  Sesame week 11 consumption in grams  \\\n",
       "0                                NaN                                  NaN   \n",
       "1                                4.0                                  4.0   \n",
       "2                                4.0                                  4.0   \n",
       "3                                NaN                                  NaN   \n",
       "4                                4.0                                  4.0   \n",
       "\n",
       "   Egg week 12 consumption in grams  Milk week 12 consumption in grams  \\\n",
       "0                               NaN                                NaN   \n",
       "1                               1.0                                4.0   \n",
       "2                               4.0                                4.0   \n",
       "3                               NaN                                NaN   \n",
       "4                               4.0                                4.0   \n",
       "\n",
       "   Peanut week 12 consumption in grams  Wheat week 12 consumption in grams  \\\n",
       "0                                  NaN                                 NaN   \n",
       "1                                  4.0                                 4.0   \n",
       "2                                  4.0                                 4.0   \n",
       "3                                  NaN                                 NaN   \n",
       "4                                  4.0                                 4.0   \n",
       "\n",
       "   Fish week 12 consumption in grams  Sesame week 12 consumption in grams  \\\n",
       "0                                NaN                                  NaN   \n",
       "1                                4.0                                  4.0   \n",
       "2                                4.0                                  4.0   \n",
       "3                                NaN                                  NaN   \n",
       "4                                4.0                                  4.0   \n",
       "\n",
       "   case ID  \n",
       "0      1.0  \n",
       "1      2.0  \n",
       "2      3.0  \n",
       "3      4.0  \n",
       "4      5.0  \n",
       "\n",
       "[5 rows x 985 columns]"
      ]
     },
     "execution_count": 4,
     "metadata": {},
     "output_type": "execute_result"
    }
   ],
   "source": [
    "eat_working.head()"
   ]
  },
  {
   "cell_type": "code",
   "execution_count": 5,
   "metadata": {},
   "outputs": [],
   "source": [
    "eat_variables = pd.read_excel(\"Data/EAT_Study/EAT_variables_for_TrialShare_dataset_30JAN2019_clean.xlsx\")"
   ]
  },
  {
   "cell_type": "markdown",
   "metadata": {},
   "source": [
    "# Investigating Wheal & Flare in LEAP\n",
    "### goal is to determine values of the wheal and flaire values from LEAP to draw conclusions on whether the EAT data set contains just wheal, or just flare, or both\n",
    "- will do a statistical analysis on the distribution of values of wheal and flare to see what are the most common values and compare that distribution to the mm values reported in EAT"
   ]
  },
  {
   "cell_type": "code",
   "execution_count": 6,
   "metadata": {},
   "outputs": [
    {
     "data": {
      "text/plain": [
       "array([ 0,  1,  2,  3,  4,  5,  6,  7,  8,  9, 10, 11, 12, 13, 14, 15, 16,\n",
       "       18, 21, 22, 24])"
      ]
     },
     "execution_count": 6,
     "metadata": {},
     "output_type": "execute_result"
    }
   ],
   "source": [
    "wheal=leap_dataset[\"Wheal (mm)\"].unique()\n",
    "wheal.sort()\n",
    "wheal"
   ]
  },
  {
   "cell_type": "code",
   "execution_count": 7,
   "metadata": {},
   "outputs": [
    {
     "data": {
      "text/plain": [
       "array([ 0,  1,  2,  3,  4,  5,  6,  7,  8,  9, 10, 11, 12, 13, 14, 15, 16,\n",
       "       18, 19, 20, 21, 22, 23, 24, 25, 26, 27, 28, 29, 30, 35])"
      ]
     },
     "execution_count": 7,
     "metadata": {},
     "output_type": "execute_result"
    }
   ],
   "source": [
    "flare=leap_dataset[\"Flare (mm)\"].unique()\n",
    "flare.sort()\n",
    "flare"
   ]
  },
  {
   "cell_type": "code",
   "execution_count": 8,
   "metadata": {},
   "outputs": [
    {
     "name": "stdout",
     "output_type": "stream",
     "text": [
      "[  nan 0.    2.25  0.875 4.    3.    3.5   2.    1.5   2.75 ]\n",
      "10\n"
     ]
    }
   ],
   "source": [
    "print(eat_working[\"skin prick test to peanut at 3 month clinic visit\"].unique())\n",
    "print(len(eat_working[\"skin prick test to peanut at 3 month clinic visit\"].unique()))"
   ]
  },
  {
   "cell_type": "markdown",
   "metadata": {},
   "source": [
    "# Investigating differences between the two EAT datasets given\n",
    "- EAT study data 2019_2022-10-12_13-13-35_working\n",
    "- EAT study data 2019_2022-10-12_13-13-35"
   ]
  },
  {
   "cell_type": "code",
   "execution_count": 9,
   "metadata": {},
   "outputs": [
    {
     "name": "stdout",
     "output_type": "stream",
     "text": [
      "the file named EAT study data 2019_2022-10-12_13-13-35_working has  985  columns\n"
     ]
    }
   ],
   "source": [
    "eat_cols = eat_working.columns.unique()\n",
    "eat_cols_list = []\n",
    "eat_cols_list = eat_cols\n",
    "print(\"the file named EAT study data 2019_2022-10-12_13-13-35_working has \", len(eat_cols_list), \" columns\")"
   ]
  },
  {
   "cell_type": "code",
   "execution_count": 10,
   "metadata": {},
   "outputs": [
    {
     "name": "stdout",
     "output_type": "stream",
     "text": [
      "the file named EAT study data 2019_2022-10-12_13-13-35 has  981  columns\n"
     ]
    }
   ],
   "source": [
    "eat_2 = pd.read_excel(\"Data/EAT_Study/EAT study data 2019_2022-10-12_13-13-35.xlsx\")\n",
    "eat_cols2 = eat_2.columns.unique()\n",
    "eat_cols2_list = []\n",
    "eat_cols2_list = eat_cols2\n",
    "print(\"the file named EAT study data 2019_2022-10-12_13-13-35 has \", len(eat_cols2_list), \" columns\")"
   ]
  },
  {
   "cell_type": "code",
   "execution_count": 11,
   "metadata": {},
   "outputs": [
    {
     "name": "stdout",
     "output_type": "stream",
     "text": [
      "Unique columns in eat_cols_list: {'Wheat OFC', 'Cod OFC', 'Milk OFC', 'Egg OFC'}\n",
      "Unique columns in eat_cols2_list: set()\n"
     ]
    }
   ],
   "source": [
    "# Find column names unique to eat_cols_list\n",
    "unique_cols_eat = set(eat_cols_list) - set(eat_cols2_list)\n",
    "print(\"Unique columns in eat_cols_list:\", unique_cols_eat)\n",
    "\n",
    "# Find column names unique to eat_cols2_list\n",
    "unique_cols_eat2 = set(eat_cols2_list) - set(eat_cols_list)\n",
    "print(\"Unique columns in eat_cols2_list:\", unique_cols_eat2)"
   ]
  },
  {
   "cell_type": "code",
   "execution_count": 12,
   "metadata": {},
   "outputs": [
    {
     "name": "stdout",
     "output_type": "stream",
     "text": [
      "shape of eat_working:  (1307, 985)\n",
      "shape of eat_2 (1303, 981)\n"
     ]
    }
   ],
   "source": [
    "print(\"shape of eat_working: \", eat_working.shape)\n",
    "print(\"shape of eat_2\" ,eat_2.shape)"
   ]
  },
  {
   "cell_type": "code",
   "execution_count": 14,
   "metadata": {},
   "outputs": [],
   "source": [
    "#Making a dataset from eat_working without {'Milk OFC', 'Cod OFC', 'Egg OFC', 'Wheat OFC'} to compare rows\n",
    "\n",
    "# List of columns to exclude\n",
    "cols_to_exclude = ['Milk OFC', 'Cod OFC', 'Egg OFC', 'Wheat OFC']\n",
    "\n",
    "# Exclude columns from eat_cols_list\n",
    "eat_cols_no_OFC = [col for col in eat_cols_list if col not in cols_to_exclude]\n",
    "\n",
    "# Create eat_working_no_OFC by copying eat_working with excluded columns\n",
    "eat_working_no_OFC = eat_working[eat_cols_no_OFC].copy()\n"
   ]
  },
  {
   "cell_type": "code",
   "execution_count": 15,
   "metadata": {},
   "outputs": [
    {
     "name": "stdout",
     "output_type": "stream",
     "text": [
      "shape of eat_working_no_OFC:  (1307, 981)\n",
      "shape of eat_2 (1303, 981)\n"
     ]
    }
   ],
   "source": [
    "# check if the shapes match \n",
    "print(\"shape of eat_working_no_OFC: \", eat_working_no_OFC.shape)\n",
    "print(\"shape of eat_2\" ,eat_2.shape)"
   ]
  },
  {
   "cell_type": "code",
   "execution_count": 16,
   "metadata": {},
   "outputs": [
    {
     "name": "stdout",
     "output_type": "stream",
     "text": [
      "Unique columns in eat_cols_list: set()\n",
      "Unique columns in eat_cols2_list: set()\n"
     ]
    }
   ],
   "source": [
    "eat_working_no_OFC_cols = list(eat_working_no_OFC.columns.unique())\n",
    "\n",
    "# Find column names unique to eat_cols_list\n",
    "unique_cols_eat = set(eat_working_no_OFC_cols) - set(eat_cols2_list)\n",
    "print(\"Unique columns in eat_cols_list:\", unique_cols_eat)\n",
    "\n",
    "# Find column names unique to eat_cols2_list\n",
    "unique_cols_eat2 = set(eat_cols2_list) - set(eat_working_no_OFC_cols)\n",
    "print(\"Unique columns in eat_cols2_list:\", unique_cols_eat2)"
   ]
  },
  {
   "cell_type": "markdown",
   "metadata": {},
   "source": [
    "at this point there is a difference of 4 rows but the columns are exactly the same.\n",
    "Checking to see what rows are different"
   ]
  },
  {
   "cell_type": "code",
   "execution_count": 17,
   "metadata": {},
   "outputs": [
    {
     "name": "stdout",
     "output_type": "stream",
     "text": [
      "Unique rows in eat_working: 1307\n",
      "Unique rows in eat_2: 1303\n"
     ]
    }
   ],
   "source": [
    "# Find rows unique to eat_working_no_OFC\n",
    "unique_rows_eat_working_no_OFC = set(eat_working_no_OFC) - set(eat_2)\n",
    "print(\"Unique rows in eat_working:\", len(eat_working_no_OFC))\n",
    "\n",
    "# Find rows unique to eat_2\n",
    "unique_rows_eat_2 = set(eat_2) - set(eat_working_no_OFC)\n",
    "print(\"Unique rows in eat_2:\", len(eat_2))"
   ]
  },
  {
   "cell_type": "markdown",
   "metadata": {},
   "source": [
    "all rows are coming up as unique to each dataset. comparing row by row..."
   ]
  },
  {
   "cell_type": "code",
   "execution_count": 18,
   "metadata": {},
   "outputs": [
    {
     "data": {
      "text/plain": [
       "151"
      ]
     },
     "execution_count": 18,
     "metadata": {},
     "output_type": "execute_result"
    }
   ],
   "source": [
    "len(set(eat_working_no_OFC.iloc[2]) - set(eat_2.iloc[2]))"
   ]
  },
  {
   "cell_type": "code",
   "execution_count": 19,
   "metadata": {},
   "outputs": [
    {
     "data": {
      "text/plain": [
       "981"
      ]
     },
     "execution_count": 19,
     "metadata": {},
     "output_type": "execute_result"
    }
   ],
   "source": [
    "len(eat_working_no_OFC.iloc[2])"
   ]
  },
  {
   "cell_type": "code",
   "execution_count": 20,
   "metadata": {},
   "outputs": [
    {
     "data": {
      "text/plain": [
       "799"
      ]
     },
     "execution_count": 20,
     "metadata": {},
     "output_type": "execute_result"
    }
   ],
   "source": [
    "len(set(eat_working_no_OFC.iloc[3]) - set(eat_2.iloc[3]))"
   ]
  },
  {
   "cell_type": "code",
   "execution_count": 21,
   "metadata": {},
   "outputs": [
    {
     "data": {
      "text/plain": [
       "26"
      ]
     },
     "execution_count": 21,
     "metadata": {},
     "output_type": "execute_result"
    }
   ],
   "source": [
    "len(set(eat_working_no_OFC.iloc[4]) - set(eat_2.iloc[4]))"
   ]
  },
  {
   "cell_type": "markdown",
   "metadata": {},
   "source": [
    "#### Differences are of varying length. Could be due to many reasons such as rows are shifted to different indexes.  \n",
    "  \n",
    "Looking at differences between case ID number rows: "
   ]
  },
  {
   "cell_type": "code",
   "execution_count": 22,
   "metadata": {},
   "outputs": [],
   "source": [
    "matching_index = eat_working_no_OFC[eat_working_no_OFC['case ID'] == 1286].index\n"
   ]
  },
  {
   "cell_type": "code",
   "execution_count": 23,
   "metadata": {},
   "outputs": [
    {
     "data": {
      "text/plain": [
       "Int64Index([1285], dtype='int64')"
      ]
     },
     "execution_count": 23,
     "metadata": {},
     "output_type": "execute_result"
    }
   ],
   "source": [
    "matching_index"
   ]
  },
  {
   "cell_type": "code",
   "execution_count": 24,
   "metadata": {},
   "outputs": [
    {
     "data": {
      "text/plain": [
       "Participant ID                         1286\n",
       "Visit                                   NaN\n",
       "ethnicity                                 0\n",
       "mother's age at enrolment (years)        28\n",
       "age mum left full time education          2\n",
       "                                       ... \n",
       "Peanut week 12 consumption in grams       4\n",
       "Wheat week 12 consumption in grams        4\n",
       "Fish week 12 consumption in grams         4\n",
       "Sesame week 12 consumption in grams       4\n",
       "case ID                                1286\n",
       "Name: 1285, Length: 981, dtype: object"
      ]
     },
     "execution_count": 24,
     "metadata": {},
     "output_type": "execute_result"
    }
   ],
   "source": [
    "eat_working_no_OFC.iloc[1285]"
   ]
  },
  {
   "cell_type": "code",
   "execution_count": 25,
   "metadata": {},
   "outputs": [
    {
     "data": {
      "text/plain": [
       "Int64Index([1285], dtype='int64')"
      ]
     },
     "execution_count": 25,
     "metadata": {},
     "output_type": "execute_result"
    }
   ],
   "source": [
    "matching_index = eat_2[eat_2['case ID'] == 1286].index\n",
    "matching_index"
   ]
  },
  {
   "cell_type": "code",
   "execution_count": 26,
   "metadata": {},
   "outputs": [
    {
     "data": {
      "text/plain": [
       "Participant ID                         1286\n",
       "Visit                                   NaN\n",
       "ethnicity                                 0\n",
       "mother's age at enrolment (years)        28\n",
       "age mum left full time education          2\n",
       "                                       ... \n",
       "Peanut week 12 consumption in grams       4\n",
       "Wheat week 12 consumption in grams        4\n",
       "Fish week 12 consumption in grams         4\n",
       "Sesame week 12 consumption in grams       4\n",
       "case ID                                1286\n",
       "Name: 1285, Length: 981, dtype: object"
      ]
     },
     "execution_count": 26,
     "metadata": {},
     "output_type": "execute_result"
    }
   ],
   "source": [
    "eat_2.iloc[1285]"
   ]
  },
  {
   "cell_type": "code",
   "execution_count": 27,
   "metadata": {},
   "outputs": [
    {
     "data": {
      "text/plain": [
       "27"
      ]
     },
     "execution_count": 27,
     "metadata": {},
     "output_type": "execute_result"
    }
   ],
   "source": [
    "diff_in_1285= set(eat_working_no_OFC.loc[1285])-set(eat_2.loc[1285])\n",
    "len(diff_in_1285)"
   ]
  },
  {
   "cell_type": "code",
   "execution_count": 28,
   "metadata": {},
   "outputs": [
    {
     "data": {
      "text/plain": [
       "[nan,\n",
       " nan,\n",
       " nan,\n",
       " nan,\n",
       " nan,\n",
       " nan,\n",
       " nan,\n",
       " nan,\n",
       " nan,\n",
       " nan,\n",
       " nan,\n",
       " nan,\n",
       " nan,\n",
       " nan,\n",
       " nan,\n",
       " nan,\n",
       " nan,\n",
       " nan,\n",
       " nan,\n",
       " nan,\n",
       " nan,\n",
       " nan,\n",
       " nan,\n",
       " nan,\n",
       " nan,\n",
       " nan,\n",
       " nan]"
      ]
     },
     "execution_count": 28,
     "metadata": {},
     "output_type": "execute_result"
    }
   ],
   "source": [
    "list(diff_in_1285)"
   ]
  },
  {
   "cell_type": "code",
   "execution_count": 29,
   "metadata": {},
   "outputs": [
    {
     "data": {
      "text/plain": [
       "38"
      ]
     },
     "execution_count": 29,
     "metadata": {},
     "output_type": "execute_result"
    }
   ],
   "source": [
    "diff_in_1285= set(set(eat_2.loc[1285]-eat_working_no_OFC.loc[1285]))\n",
    "len(diff_in_1285)"
   ]
  },
  {
   "cell_type": "code",
   "execution_count": 30,
   "metadata": {},
   "outputs": [
    {
     "data": {
      "text/plain": [
       "{0.0,\n",
       " nan,\n",
       " nan,\n",
       " nan,\n",
       " nan,\n",
       " nan,\n",
       " nan,\n",
       " nan,\n",
       " nan,\n",
       " nan,\n",
       " nan,\n",
       " nan,\n",
       " nan,\n",
       " nan,\n",
       " nan,\n",
       " nan,\n",
       " nan,\n",
       " nan,\n",
       " nan,\n",
       " nan,\n",
       " nan,\n",
       " nan,\n",
       " nan,\n",
       " nan,\n",
       " nan,\n",
       " nan,\n",
       " nan,\n",
       " nan,\n",
       " nan,\n",
       " nan,\n",
       " nan,\n",
       " nan,\n",
       " nan,\n",
       " nan,\n",
       " nan,\n",
       " nan,\n",
       " nan,\n",
       " nan}"
      ]
     },
     "execution_count": 30,
     "metadata": {},
     "output_type": "execute_result"
    }
   ],
   "source": [
    "diff_in_1285"
   ]
  },
  {
   "cell_type": "code",
   "execution_count": 31,
   "metadata": {},
   "outputs": [],
   "source": [
    "df_1285 = pd.concat([eat_working_no_OFC.loc[1285], eat_2.loc[1285]], axis=1)\n"
   ]
  },
  {
   "cell_type": "code",
   "execution_count": 32,
   "metadata": {},
   "outputs": [
    {
     "data": {
      "text/plain": [
       "(981, 2)"
      ]
     },
     "execution_count": 32,
     "metadata": {},
     "output_type": "execute_result"
    }
   ],
   "source": [
    "df_1285.shape"
   ]
  },
  {
   "cell_type": "code",
   "execution_count": 33,
   "metadata": {},
   "outputs": [
    {
     "data": {
      "text/html": [
       "<div>\n",
       "<style scoped>\n",
       "    .dataframe tbody tr th:only-of-type {\n",
       "        vertical-align: middle;\n",
       "    }\n",
       "\n",
       "    .dataframe tbody tr th {\n",
       "        vertical-align: top;\n",
       "    }\n",
       "\n",
       "    .dataframe thead th {\n",
       "        text-align: right;\n",
       "    }\n",
       "</style>\n",
       "<table border=\"1\" class=\"dataframe\">\n",
       "  <thead>\n",
       "    <tr style=\"text-align: right;\">\n",
       "      <th></th>\n",
       "      <th>1285</th>\n",
       "      <th>1285</th>\n",
       "    </tr>\n",
       "  </thead>\n",
       "  <tbody>\n",
       "    <tr>\n",
       "      <th>Participant ID</th>\n",
       "      <td>1286</td>\n",
       "      <td>1286</td>\n",
       "    </tr>\n",
       "    <tr>\n",
       "      <th>Visit</th>\n",
       "      <td>NaN</td>\n",
       "      <td>NaN</td>\n",
       "    </tr>\n",
       "    <tr>\n",
       "      <th>ethnicity</th>\n",
       "      <td>0</td>\n",
       "      <td>0</td>\n",
       "    </tr>\n",
       "    <tr>\n",
       "      <th>mother's age at enrolment (years)</th>\n",
       "      <td>28</td>\n",
       "      <td>28</td>\n",
       "    </tr>\n",
       "    <tr>\n",
       "      <th>age mum left full time education</th>\n",
       "      <td>2</td>\n",
       "      <td>2</td>\n",
       "    </tr>\n",
       "  </tbody>\n",
       "</table>\n",
       "</div>"
      ],
      "text/plain": [
       "                                   1285  1285\n",
       "Participant ID                     1286  1286\n",
       "Visit                               NaN   NaN\n",
       "ethnicity                             0     0\n",
       "mother's age at enrolment (years)    28    28\n",
       "age mum left full time education      2     2"
      ]
     },
     "execution_count": 33,
     "metadata": {},
     "output_type": "execute_result"
    }
   ],
   "source": [
    "df_1285.head()"
   ]
  },
  {
   "cell_type": "code",
   "execution_count": 34,
   "metadata": {},
   "outputs": [
    {
     "data": {
      "text/html": [
       "<div>\n",
       "<style scoped>\n",
       "    .dataframe tbody tr th:only-of-type {\n",
       "        vertical-align: middle;\n",
       "    }\n",
       "\n",
       "    .dataframe tbody tr th {\n",
       "        vertical-align: top;\n",
       "    }\n",
       "\n",
       "    .dataframe thead th {\n",
       "        text-align: right;\n",
       "    }\n",
       "</style>\n",
       "<table border=\"1\" class=\"dataframe\">\n",
       "  <thead>\n",
       "    <tr style=\"text-align: right;\">\n",
       "      <th></th>\n",
       "      <th>Participant ID</th>\n",
       "      <th>Visit</th>\n",
       "      <th>ethnicity</th>\n",
       "      <th>mother's age at enrolment (years)</th>\n",
       "      <th>age mum left full time education</th>\n",
       "      <th>family history of asthma</th>\n",
       "      <th>mother has asthma</th>\n",
       "      <th>father has asthma</th>\n",
       "      <th>family history of eczema</th>\n",
       "      <th>mother has eczema</th>\n",
       "      <th>...</th>\n",
       "      <th>Wheat week 11 consumption in grams</th>\n",
       "      <th>Fish week 11 consumption in grams</th>\n",
       "      <th>Sesame week 11 consumption in grams</th>\n",
       "      <th>Egg week 12 consumption in grams</th>\n",
       "      <th>Milk week 12 consumption in grams</th>\n",
       "      <th>Peanut week 12 consumption in grams</th>\n",
       "      <th>Wheat week 12 consumption in grams</th>\n",
       "      <th>Fish week 12 consumption in grams</th>\n",
       "      <th>Sesame week 12 consumption in grams</th>\n",
       "      <th>case ID</th>\n",
       "    </tr>\n",
       "  </thead>\n",
       "  <tbody>\n",
       "    <tr>\n",
       "      <th>1285</th>\n",
       "      <td>1286</td>\n",
       "      <td>NaN</td>\n",
       "      <td>0</td>\n",
       "      <td>28</td>\n",
       "      <td>2</td>\n",
       "      <td>1</td>\n",
       "      <td>0</td>\n",
       "      <td>1</td>\n",
       "      <td>0</td>\n",
       "      <td>0</td>\n",
       "      <td>...</td>\n",
       "      <td>3</td>\n",
       "      <td>1</td>\n",
       "      <td>3</td>\n",
       "      <td>4</td>\n",
       "      <td>4</td>\n",
       "      <td>4</td>\n",
       "      <td>4</td>\n",
       "      <td>4</td>\n",
       "      <td>4</td>\n",
       "      <td>1286</td>\n",
       "    </tr>\n",
       "    <tr>\n",
       "      <th>1285</th>\n",
       "      <td>1286</td>\n",
       "      <td>NaN</td>\n",
       "      <td>0</td>\n",
       "      <td>28</td>\n",
       "      <td>2</td>\n",
       "      <td>1</td>\n",
       "      <td>0</td>\n",
       "      <td>1</td>\n",
       "      <td>0</td>\n",
       "      <td>0</td>\n",
       "      <td>...</td>\n",
       "      <td>3</td>\n",
       "      <td>1</td>\n",
       "      <td>3</td>\n",
       "      <td>4</td>\n",
       "      <td>4</td>\n",
       "      <td>4</td>\n",
       "      <td>4</td>\n",
       "      <td>4</td>\n",
       "      <td>4</td>\n",
       "      <td>1286</td>\n",
       "    </tr>\n",
       "  </tbody>\n",
       "</table>\n",
       "<p>2 rows × 981 columns</p>\n",
       "</div>"
      ],
      "text/plain": [
       "     Participant ID Visit ethnicity mother's age at enrolment (years)  \\\n",
       "1285           1286   NaN         0                                28   \n",
       "1285           1286   NaN         0                                28   \n",
       "\n",
       "     age mum left full time education family history of asthma  \\\n",
       "1285                                2                        1   \n",
       "1285                                2                        1   \n",
       "\n",
       "     mother has asthma father has asthma family history of eczema  \\\n",
       "1285                 0                 1                        0   \n",
       "1285                 0                 1                        0   \n",
       "\n",
       "     mother has eczema  ... Wheat week 11 consumption in grams  \\\n",
       "1285                 0  ...                                  3   \n",
       "1285                 0  ...                                  3   \n",
       "\n",
       "     Fish week 11 consumption in grams Sesame week 11 consumption in grams  \\\n",
       "1285                                 1                                   3   \n",
       "1285                                 1                                   3   \n",
       "\n",
       "     Egg week 12 consumption in grams Milk week 12 consumption in grams  \\\n",
       "1285                                4                                 4   \n",
       "1285                                4                                 4   \n",
       "\n",
       "     Peanut week 12 consumption in grams Wheat week 12 consumption in grams  \\\n",
       "1285                                   4                                  4   \n",
       "1285                                   4                                  4   \n",
       "\n",
       "     Fish week 12 consumption in grams Sesame week 12 consumption in grams  \\\n",
       "1285                                 4                                   4   \n",
       "1285                                 4                                   4   \n",
       "\n",
       "     case ID  \n",
       "1285    1286  \n",
       "1285    1286  \n",
       "\n",
       "[2 rows x 981 columns]"
      ]
     },
     "execution_count": 34,
     "metadata": {},
     "output_type": "execute_result"
    }
   ],
   "source": [
    "df_1285_reshaped = df_1285.transpose()\n",
    "df_1285_reshaped.head()"
   ]
  },
  {
   "cell_type": "code",
   "execution_count": 35,
   "metadata": {},
   "outputs": [],
   "source": [
    "# Iterate through the DataFrame and drop columns with identical values in both rows\n",
    "cols_to_drop = []\n",
    "\n",
    "for col in range(df_1285_reshaped.shape[1]):\n",
    "    if df_1285_reshaped.iloc[0, col] == df_1285_reshaped.iloc[1, col]:\n",
    "        cols_to_drop.append(df_1285_reshaped.columns[col])\n",
    "\n",
    "df_filtered = df_1285_reshaped.drop(cols_to_drop, axis=1)"
   ]
  },
  {
   "cell_type": "code",
   "execution_count": 36,
   "metadata": {},
   "outputs": [
    {
     "data": {
      "text/plain": [
       "[nan,\n",
       " nan,\n",
       " nan,\n",
       " nan,\n",
       " nan,\n",
       " nan,\n",
       " nan,\n",
       " nan,\n",
       " nan,\n",
       " nan,\n",
       " nan,\n",
       " nan,\n",
       " nan,\n",
       " nan,\n",
       " nan,\n",
       " nan,\n",
       " nan,\n",
       " nan,\n",
       " nan,\n",
       " nan,\n",
       " nan,\n",
       " nan,\n",
       " nan,\n",
       " nan,\n",
       " nan,\n",
       " nan,\n",
       " nan,\n",
       " nan,\n",
       " nan,\n",
       " nan,\n",
       " nan,\n",
       " nan,\n",
       " nan,\n",
       " nan,\n",
       " nan,\n",
       " nan,\n",
       " nan]"
      ]
     },
     "execution_count": 36,
     "metadata": {},
     "output_type": "execute_result"
    }
   ],
   "source": [
    "df_filtered.iloc[1].tolist()"
   ]
  },
  {
   "cell_type": "code",
   "execution_count": 37,
   "metadata": {},
   "outputs": [
    {
     "data": {
      "text/plain": [
       "[nan,\n",
       " nan,\n",
       " nan,\n",
       " nan,\n",
       " nan,\n",
       " nan,\n",
       " nan,\n",
       " nan,\n",
       " nan,\n",
       " nan,\n",
       " nan,\n",
       " nan,\n",
       " nan,\n",
       " nan,\n",
       " nan,\n",
       " nan,\n",
       " nan,\n",
       " nan,\n",
       " nan,\n",
       " nan,\n",
       " nan,\n",
       " nan,\n",
       " nan,\n",
       " nan,\n",
       " nan,\n",
       " nan,\n",
       " nan,\n",
       " nan,\n",
       " nan,\n",
       " nan,\n",
       " nan,\n",
       " nan,\n",
       " nan,\n",
       " nan,\n",
       " nan,\n",
       " nan,\n",
       " nan]"
      ]
     },
     "execution_count": 37,
     "metadata": {},
     "output_type": "execute_result"
    }
   ],
   "source": [
    "df_filtered.iloc[0].tolist()"
   ]
  },
  {
   "cell_type": "markdown",
   "metadata": {},
   "source": [
    "### lesson learned with NaN values:\n",
    "\n",
    "When comparing two NaN values, they are considered unequal to each other according to the IEEE 754 floating-point standard, which is the underlying representation of floating-point values in most programming languages, including Python. This behavior is because NaN (Not a Number) represents an undefined or indeterminate value.\n",
    "\n",
    "In Python, the comparison operators (==, !=, etc.) return False when comparing two NaN values because they are not equal in terms of the IEEE 754 standard. This behavior is consistent with how NaN values are handled in mathematical operations."
   ]
  },
  {
   "cell_type": "markdown",
   "metadata": {},
   "source": [
    "---"
   ]
  },
  {
   "cell_type": "markdown",
   "metadata": {},
   "source": [
    "# List of column names to keep from full dataset \n",
    "#### to pull from \"EAT study data 2019_2022-10-12_13-13-35_working\"\n",
    "\n",
    "\"Child's sex\"\n",
    "- 0=male, 1=female\n",
    "\n",
    "\"ethnicity\"\n",
    "- 0/white, \n",
    "- 1/mixed, \n",
    "- 2/asian or asian british, \n",
    "- 3/black or black british, \n",
    "- 4/chinese or other ethnic group\n",
    "- NA/unknown\n",
    "\n",
    "\"skin prick test to peanut at 3 month clinic visit\" (this is the wheal value)  \n",
    "- measured in mm\n",
    "\n",
    "\n",
    "\n",
    "\n",
    "#### NOTE: Response to inquiry on OFCs for peanut from collegue:  \n",
    "\"Peanut OFCs outcomes are in the “primary outcome peanut allergy (only those evaluable and within age range” column. \n",
    "No flare is available; we’ll have to use wheal for now.\"\n"
   ]
  },
  {
   "cell_type": "code",
   "execution_count": null,
   "metadata": {},
   "outputs": [],
   "source": [
    "cols_to_keep = [\"Child's sex\",\n",
    "                \"ethnicity\", \n",
    "                \"skin prick test to peanut at 3 month clinic visit\", \n",
    "                \"skin prick test to peanut at 12 month clinic visit\", \n",
    "                \"skin prick test to peanut at 36 month clinic visit\",\n",
    "                \"primary outcome peanut allergy (only those evaluable and within age range)\"]\n",
    "\n",
    "eat_keep_list = eat_working[cols_to_keep]\n"
   ]
  },
  {
   "cell_type": "markdown",
   "metadata": {},
   "source": [
    "Age column will need to be assigned as data is parsed according to these age groups\n",
    "\n",
    "- 3 MONTH CLINIC VISIT\n",
    "- 12 MONTH CLINIC VISIT\n",
    "- 36 MONTH CLINIC VISIT"
   ]
  },
  {
   "cell_type": "code",
   "execution_count": null,
   "metadata": {},
   "outputs": [],
   "source": [
    "#create a new dataset with just the columns we need from EAT\n",
    "\n",
    "\n",
    "#one hot encoding for ehtninicity \n",
    "\n",
    "\n",
    "# child's sex column -> binary Male column \n",
    "\n",
    "#figure out how to parse out ages \n"
   ]
  }
 ],
 "metadata": {
  "kernelspec": {
   "display_name": "Python 3 (ipykernel)",
   "language": "python",
   "name": "python3"
  },
  "language_info": {
   "codemirror_mode": {
    "name": "ipython",
    "version": 3
   },
   "file_extension": ".py",
   "mimetype": "text/x-python",
   "name": "python",
   "nbconvert_exporter": "python",
   "pygments_lexer": "ipython3",
   "version": "3.11.4"
  }
 },
 "nbformat": 4,
 "nbformat_minor": 4
}
