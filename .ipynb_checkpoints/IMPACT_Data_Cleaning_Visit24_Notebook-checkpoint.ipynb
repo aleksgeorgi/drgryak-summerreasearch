{
 "cells": [
  {
   "cell_type": "code",
   "execution_count": 1,
   "metadata": {},
   "outputs": [],
   "source": [
    "import pandas as pd\n",
    "import numpy as np"
   ]
  },
  {
   "cell_type": "code",
   "execution_count": 2,
   "metadata": {},
   "outputs": [],
   "source": [
    "impact_ad = pd.read_excel(\"Data/IMPACT_Study/ADSTART0_2023-05-25_06-46-11.xlsx\")\n",
    "impact_serum = pd.read_excel(\"Data/IMPACT_Study/Serum antibody_2023-05-25_06-32-15.xlsx\")\n",
    "impact_ige = pd.read_excel(\"Data/Impact_Study/IgE_IgG4_component_2023-05-25_06-30-40.xlsx\")\n",
    "impact_spt = pd.read_excel(\"Data/Impact_study/Skin Prick Test_2023-05-25_06-31-04.xlsx\")"
   ]
  },
  {
   "cell_type": "markdown",
   "metadata": {},
   "source": [
    "# About Data Sets\n",
    "\n",
    "#### ADSTART0_2023-05-25_06-46-11 \n",
    "- Overview of participant data \n",
    "\n",
    "#### IgE_IgG4_component_2023-05-25_06-30-40\n",
    "- IgE component levels in this dataset  \n",
    "\n",
    "#### Serum antibody_2023-05-25_06-32-15\n",
    "OFC results:\n",
    "- \"Passed Visit 24 OFC for ITT\"\n",
    "- \"Passed Visit 24 OFC No Imputation\"\t\n",
    "- \"Passed Visit 26 OFC for ITT\"\n",
    "- \"Passed Visit 26 OFC No Imputation\"\n",
    "\n",
    "#### Skin Prick Test_2023-05-25_06-31-04\n",
    "- \"Wheal (mm)\"\n",
    "\n",
    "#### BAT data_2023-05-25_06-31-20\n",
    "- Stands for \"basophil activation test (BAT)\"\n",
    "- No known use case for this model \n",
    "\n",
    "---\n",
    "\n",
    "# Acronyms \n",
    "- Intent-to-treat (ITT)\n",
    "- Oral Immunotherapy (OIT)\n",
    "- Initial Dose Escalation (IDE)"
   ]
  },
  {
   "cell_type": "markdown",
   "metadata": {},
   "source": [
    "# About Study \n",
    "- taken from 2022 Lancet_IMPACT.pdf (pdf page 3)  \n",
    "\n",
    "Children aged 12 months or older and younger than \n",
    "48 months were screened for inclusion in the study. \n",
    "\n",
    "__Inclusion criteria__ included the following: a clinical \n",
    "history of peanut allergy or avoidance without ever \n",
    "having eaten peanut, peanut-specific IgE levels of 5 kUA/L \n",
    "or higher, a skin prick test (SPT) wheal size greater than \n",
    "that of saline control by 3 mm or more, and a positive \n",
    "reaction to a cumulative dose of 500 mg or less of peanut \n",
    "in a double-blind, placebo-controlled food challenge \n",
    "(DBPCFC).   \n",
    "\n",
    "__exclusion criteria__ included a history of \n",
    "severe anaphylaxis with hypotension to peanut, more \n",
    "than mild asthma or uncontrolled asthma, uncontrolled \n",
    "atopic dermatitis, and eosinophilic gastrointestinal \n",
    "disease (the full list of exclusion criteria is presented in \n",
    "the appendix p 2)."
   ]
  },
  {
   "cell_type": "markdown",
   "metadata": {},
   "source": [
    "---\n",
    "# Study Design\n",
    "\n",
    "This is a randomized, double-blind, placebo-controlled, multi-center study comparing peanut oral immunotherapy to placebo. Eligible participants with peanut allergy will be randomly assigned to receive either peanut OIT or placebo for 134 weeks followed by peanut avoidance for 26 weeks.  \n",
    "\n",
    "An initial blinded oral food challenge (OFC) to 1 g of peanut flour (500 mg peanut protein) will be conducted. Participants must have a clinical reaction during this blinded OFC to initiate study dosing. After the initial blinded OFC, the study design includes the following:  \n",
    "\n",
    "__Initial Dose Escalation:__ This will occur on a single day in which multiple doses are given. Peanut or placebo dosing will be given incrementally and increase every 15-30 minutes until a dose of 12 mg peanut flour (6 mg peanut protein) or placebo flour is given. The first four doses will be administered as a peanut flour extract of 0.1 to 0.8 mg peanut protein, which is 10 to 80 microliters peanut flour extract, or placebo flour extract and the last three doses will be given as peanut flour of 3 to 12 mg peanut flour 1.5 to 6 mg peanut protein or placebo flour. Participants must tolerate a dose of at least 3 mg peanut flour (1.5 mg peanut protein) or placebo flour to remain in the study.  \n",
    "\n",
    "__Build-up:__ After the initial dose escalation day, the participant will return to the research unit the next morning for an observed dose administration of the highest tolerated dose from the initial escalation day. The participant will then continue on the daily OIT dosing at home and return to the research unit every 2 weeks for a dose escalation. The dosing escalations will be consistent with previous similar OIT studies.\n",
    "  \n",
    "Participants who do not reach the 4000 mg peanut flour (2000 mg peanut protein) or placebo flour dose during the build-up phase may enter maintenance phase at their highest tolerated dose, which must be at least 500 mg peanut flour (250 mg peanut protein) or placebo flour.  \n",
    "\n",
    "The build-up phase will comprise 30 weeks.  \n",
    "\n",
    "__Maintenance:__ The participant will continue on daily OIT with return visits every 13 weeks. At the end of this phase the participant will undergo a blinded OFC to 10 g peanut flour (5 g peanut protein).  \n",
    "This phase will comprise 104 weeks.  \n",
    "\n",
    "__Avoidance:__ In this final phase participants stop OIT and will avoid peanut consumption They will be seen 2 weeks and 26 weeks after initiating this phase. At the completion of this phase participants will have a final blinded OFC to 10 g peanut flour (5 g peanut protein). Participants who do not have a clinical reaction to the challenge will receive an Open Food Challenge (OpFC).  \n",
    "\n",
    "Avoidance will comprise 26 weeks.  \n",
    "\n",
    "__Post-challenge:__ If participants do not have a clinical reaction during the OpFC at the end of avoidance, they will be allowed to consume peanut and will have one visit which will include peripheral blood sampling for mechanistic assays assessments.  \n",
    "\n",
    "Post-challenge will comprise 2 weeks.  "
   ]
  },
  {
   "cell_type": "markdown",
   "metadata": {},
   "source": [
    "---\n",
    "# Exploring where and how OFCs are captured\n",
    "Looking for 3 OFC tests in total\n",
    "\n",
    "### 1st OFC: According to Study Design in protocol: \n",
    "-  Initial reaction: \"An initial blinded oral food challenge (OFC) to 1 g of peanut flour (500 mg peanut protein) will be conducted. Participants must have a clinical reaction during this blinded OFC to initiate study dosing.\" (IDE)\n",
    "- This was for 0.5 g peanut\n",
    "\n",
    "### 2nd & 3rd OFC: According to Schedule of Assessments: Appendix 2:\n",
    "- 5 g Oral Food Challenge performed during Avoidance phase during visit 24/week 134 and visit 26/week 160\n",
    "- this was at or below 5 g peanut\n",
    "\n"
   ]
  },
  {
   "cell_type": "markdown",
   "metadata": {},
   "source": [
    "# Filtering just the useful columns:"
   ]
  },
  {
   "cell_type": "code",
   "execution_count": 3,
   "metadata": {},
   "outputs": [],
   "source": [
    "# impact_ad\n",
    "# impact_serum \n",
    "# impact_ige \n",
    "# impact_spt\n",
    "\n",
    "impact_ad_cols_to_keep = [\n",
    "     'Participant ID',\n",
    "     'Date of Screening Visit',\n",
    "     'Randomized', # Use this to filter out participants that did not pass the study screening\n",
    "     'Study Status', # Values: 'Discontinued Therapy', 'Completed Study', 'Enrolled but not Randomized', 'Early Termination', 'Screen Failure', 'Screened but not Enrolled'\n",
    "     'Sex (character)',\n",
    "     'Race',\n",
    "     'Completed Study Assessments Numeric', #1 for yes/ 0 for no (means attended all visits up to 26, excluding 27)\n",
    "     'Age at Screening (years) Not Rounded',\n",
    "     'Study Termination Reason'\n",
    "]\n",
    "\n",
    "impact_serum_cols_to_keep = [\n",
    "    'Participant ID',\n",
    "    'Collection Date',\n",
    "    'Visit',\n",
    "    'Test Name', # Peanut IgE, Peanut IgE/Total IgE ratio, Peanut IgG4*, Peanut IgG4/IgE ratio, Total IgE\n",
    "    'Unit',\n",
    "    'Value', # results from 'Test Name'\n",
    "]\n",
    "\n",
    "impact_ige_cols_to_keep = [\n",
    "    'Participant ID',\n",
    "    'Collection Date',\n",
    "    'Visit',\n",
    "    'Antibody', #IgE, IgG4\n",
    "    'Component', #rAra h 1, rAra h 2, rAra h 3, rAra h 6\n",
    "    'Value',\n",
    "    'Unit' \n",
    "]\n",
    "\n",
    "impact_spt_cols_to_keep = [\n",
    "    'Participant ID',\n",
    "    'Date of Allergy Skin Test (Character)', # this is similar to 'Collection Date' in other datasets \n",
    "    'Visit',\n",
    "    'Wheal (mm)',\n",
    "    'OUT24NOI' # this will be used as OFC results for week 24\n",
    "    #'OUT26NOI' # this will be used as OFC results for week 26\n",
    "]\n",
    "\n",
    "impact_ad = impact_ad[impact_ad_cols_to_keep]\n",
    "impact_serum = impact_serum[impact_serum_cols_to_keep]\n",
    "impact_ige = impact_ige[impact_ige_cols_to_keep]\n",
    "impact_spt = impact_spt[impact_spt_cols_to_keep]\n"
   ]
  },
  {
   "cell_type": "code",
   "execution_count": 4,
   "metadata": {},
   "outputs": [
    {
     "name": "stdout",
     "output_type": "stream",
     "text": [
      "(209, 9)\n"
     ]
    },
    {
     "data": {
      "text/html": [
       "<div>\n",
       "<style scoped>\n",
       "    .dataframe tbody tr th:only-of-type {\n",
       "        vertical-align: middle;\n",
       "    }\n",
       "\n",
       "    .dataframe tbody tr th {\n",
       "        vertical-align: top;\n",
       "    }\n",
       "\n",
       "    .dataframe thead th {\n",
       "        text-align: right;\n",
       "    }\n",
       "</style>\n",
       "<table border=\"1\" class=\"dataframe\">\n",
       "  <thead>\n",
       "    <tr style=\"text-align: right;\">\n",
       "      <th></th>\n",
       "      <th>Participant ID</th>\n",
       "      <th>Date of Screening Visit</th>\n",
       "      <th>Randomized</th>\n",
       "      <th>Study Status</th>\n",
       "      <th>Sex (character)</th>\n",
       "      <th>Race</th>\n",
       "      <th>Completed Study Assessments Numeric</th>\n",
       "      <th>Age at Screening (years) Not Rounded</th>\n",
       "      <th>Study Termination Reason</th>\n",
       "    </tr>\n",
       "  </thead>\n",
       "  <tbody>\n",
       "    <tr>\n",
       "      <th>0</th>\n",
       "      <td>IMPACT_101655</td>\n",
       "      <td>2012-10-11</td>\n",
       "      <td>Yes</td>\n",
       "      <td>Discontinued Therapy</td>\n",
       "      <td>Male</td>\n",
       "      <td>White/Caucasian</td>\n",
       "      <td>0</td>\n",
       "      <td>3.8</td>\n",
       "      <td>Adverse Event</td>\n",
       "    </tr>\n",
       "    <tr>\n",
       "      <th>1</th>\n",
       "      <td>IMPACT_102436</td>\n",
       "      <td>2013-03-14</td>\n",
       "      <td>Yes</td>\n",
       "      <td>Completed Study</td>\n",
       "      <td>Male</td>\n",
       "      <td>White/Caucasian</td>\n",
       "      <td>1</td>\n",
       "      <td>3.9</td>\n",
       "      <td>NaN</td>\n",
       "    </tr>\n",
       "    <tr>\n",
       "      <th>2</th>\n",
       "      <td>IMPACT_105670</td>\n",
       "      <td>2013-04-04</td>\n",
       "      <td>Yes</td>\n",
       "      <td>Completed Study</td>\n",
       "      <td>Female</td>\n",
       "      <td>White/Caucasian</td>\n",
       "      <td>1</td>\n",
       "      <td>3.0</td>\n",
       "      <td>NaN</td>\n",
       "    </tr>\n",
       "    <tr>\n",
       "      <th>3</th>\n",
       "      <td>IMPACT_112496</td>\n",
       "      <td>2013-05-05</td>\n",
       "      <td>No</td>\n",
       "      <td>Enrolled but not Randomized</td>\n",
       "      <td>Female</td>\n",
       "      <td>White/Caucasian</td>\n",
       "      <td>0</td>\n",
       "      <td>3.2</td>\n",
       "      <td>Withdrawn Consent</td>\n",
       "    </tr>\n",
       "    <tr>\n",
       "      <th>4</th>\n",
       "      <td>IMPACT_113135</td>\n",
       "      <td>2013-11-25</td>\n",
       "      <td>Yes</td>\n",
       "      <td>Early Termination</td>\n",
       "      <td>Female</td>\n",
       "      <td>White/Caucasian</td>\n",
       "      <td>0</td>\n",
       "      <td>2.6</td>\n",
       "      <td>Withdrawn Consent</td>\n",
       "    </tr>\n",
       "  </tbody>\n",
       "</table>\n",
       "</div>"
      ],
      "text/plain": [
       "  Participant ID Date of Screening Visit Randomized  \\\n",
       "0  IMPACT_101655              2012-10-11        Yes   \n",
       "1  IMPACT_102436              2013-03-14        Yes   \n",
       "2  IMPACT_105670              2013-04-04        Yes   \n",
       "3  IMPACT_112496              2013-05-05         No   \n",
       "4  IMPACT_113135              2013-11-25        Yes   \n",
       "\n",
       "                  Study Status Sex (character)             Race  \\\n",
       "0         Discontinued Therapy            Male  White/Caucasian   \n",
       "1              Completed Study            Male  White/Caucasian   \n",
       "2              Completed Study          Female  White/Caucasian   \n",
       "3  Enrolled but not Randomized          Female  White/Caucasian   \n",
       "4            Early Termination          Female  White/Caucasian   \n",
       "\n",
       "   Completed Study Assessments Numeric  Age at Screening (years) Not Rounded  \\\n",
       "0                                    0                                   3.8   \n",
       "1                                    1                                   3.9   \n",
       "2                                    1                                   3.0   \n",
       "3                                    0                                   3.2   \n",
       "4                                    0                                   2.6   \n",
       "\n",
       "  Study Termination Reason  \n",
       "0            Adverse Event  \n",
       "1                      NaN  \n",
       "2                      NaN  \n",
       "3        Withdrawn Consent  \n",
       "4        Withdrawn Consent  "
      ]
     },
     "execution_count": 4,
     "metadata": {},
     "output_type": "execute_result"
    }
   ],
   "source": [
    "print(impact_ad.shape)\n",
    "impact_ad.head()"
   ]
  },
  {
   "cell_type": "code",
   "execution_count": 5,
   "metadata": {},
   "outputs": [
    {
     "name": "stdout",
     "output_type": "stream",
     "text": [
      "(3069, 8)\n"
     ]
    },
    {
     "data": {
      "text/html": [
       "<div>\n",
       "<style scoped>\n",
       "    .dataframe tbody tr th:only-of-type {\n",
       "        vertical-align: middle;\n",
       "    }\n",
       "\n",
       "    .dataframe tbody tr th {\n",
       "        vertical-align: top;\n",
       "    }\n",
       "\n",
       "    .dataframe thead th {\n",
       "        text-align: right;\n",
       "    }\n",
       "</style>\n",
       "<table border=\"1\" class=\"dataframe\">\n",
       "  <thead>\n",
       "    <tr style=\"text-align: right;\">\n",
       "      <th></th>\n",
       "      <th>Participant ID</th>\n",
       "      <th>Collection Date</th>\n",
       "      <th>Visit</th>\n",
       "      <th>Test Name</th>\n",
       "      <th>Unit</th>\n",
       "      <th>Value</th>\n",
       "      <th>Passed Visit 24 OFC No Imputation</th>\n",
       "      <th>Passed Visit 26 OFC No Imputation</th>\n",
       "    </tr>\n",
       "  </thead>\n",
       "  <tbody>\n",
       "    <tr>\n",
       "      <th>0</th>\n",
       "      <td>IMPACT_101655</td>\n",
       "      <td>2012-10-11</td>\n",
       "      <td>-2</td>\n",
       "      <td>Peanut IgE</td>\n",
       "      <td>kU/L</td>\n",
       "      <td>25.700000</td>\n",
       "      <td>NaN</td>\n",
       "      <td>NaN</td>\n",
       "    </tr>\n",
       "    <tr>\n",
       "      <th>1</th>\n",
       "      <td>IMPACT_101655</td>\n",
       "      <td>2012-10-11</td>\n",
       "      <td>-2</td>\n",
       "      <td>Peanut IgE/Total IgE ratio</td>\n",
       "      <td>Ratio</td>\n",
       "      <td>27.934783</td>\n",
       "      <td>NaN</td>\n",
       "      <td>NaN</td>\n",
       "    </tr>\n",
       "    <tr>\n",
       "      <th>2</th>\n",
       "      <td>IMPACT_101655</td>\n",
       "      <td>2012-10-11</td>\n",
       "      <td>-2</td>\n",
       "      <td>Peanut IgG4*</td>\n",
       "      <td>mcg/mL</td>\n",
       "      <td>0.300000</td>\n",
       "      <td>NaN</td>\n",
       "      <td>NaN</td>\n",
       "    </tr>\n",
       "    <tr>\n",
       "      <th>3</th>\n",
       "      <td>IMPACT_101655</td>\n",
       "      <td>2012-10-11</td>\n",
       "      <td>-2</td>\n",
       "      <td>Peanut IgG4/IgE ratio</td>\n",
       "      <td>Ratio</td>\n",
       "      <td>0.004864</td>\n",
       "      <td>NaN</td>\n",
       "      <td>NaN</td>\n",
       "    </tr>\n",
       "    <tr>\n",
       "      <th>4</th>\n",
       "      <td>IMPACT_101655</td>\n",
       "      <td>2012-10-11</td>\n",
       "      <td>-2</td>\n",
       "      <td>Total IgE</td>\n",
       "      <td>IU/mL</td>\n",
       "      <td>92.000000</td>\n",
       "      <td>NaN</td>\n",
       "      <td>NaN</td>\n",
       "    </tr>\n",
       "  </tbody>\n",
       "</table>\n",
       "</div>"
      ],
      "text/plain": [
       "  Participant ID Collection Date  Visit                   Test Name    Unit  \\\n",
       "0  IMPACT_101655      2012-10-11     -2                  Peanut IgE    kU/L   \n",
       "1  IMPACT_101655      2012-10-11     -2  Peanut IgE/Total IgE ratio   Ratio   \n",
       "2  IMPACT_101655      2012-10-11     -2                Peanut IgG4*  mcg/mL   \n",
       "3  IMPACT_101655      2012-10-11     -2       Peanut IgG4/IgE ratio   Ratio   \n",
       "4  IMPACT_101655      2012-10-11     -2                   Total IgE   IU/mL   \n",
       "\n",
       "       Value  Passed Visit 24 OFC No Imputation  \\\n",
       "0  25.700000                                NaN   \n",
       "1  27.934783                                NaN   \n",
       "2   0.300000                                NaN   \n",
       "3   0.004864                                NaN   \n",
       "4  92.000000                                NaN   \n",
       "\n",
       "   Passed Visit 26 OFC No Imputation  \n",
       "0                                NaN  \n",
       "1                                NaN  \n",
       "2                                NaN  \n",
       "3                                NaN  \n",
       "4                                NaN  "
      ]
     },
     "execution_count": 5,
     "metadata": {},
     "output_type": "execute_result"
    }
   ],
   "source": [
    "print(impact_serum.shape)\n",
    "impact_serum.head()"
   ]
  },
  {
   "cell_type": "code",
   "execution_count": 6,
   "metadata": {},
   "outputs": [
    {
     "name": "stdout",
     "output_type": "stream",
     "text": [
      "(4848, 7)\n"
     ]
    },
    {
     "data": {
      "text/html": [
       "<div>\n",
       "<style scoped>\n",
       "    .dataframe tbody tr th:only-of-type {\n",
       "        vertical-align: middle;\n",
       "    }\n",
       "\n",
       "    .dataframe tbody tr th {\n",
       "        vertical-align: top;\n",
       "    }\n",
       "\n",
       "    .dataframe thead th {\n",
       "        text-align: right;\n",
       "    }\n",
       "</style>\n",
       "<table border=\"1\" class=\"dataframe\">\n",
       "  <thead>\n",
       "    <tr style=\"text-align: right;\">\n",
       "      <th></th>\n",
       "      <th>Participant ID</th>\n",
       "      <th>Collection Date</th>\n",
       "      <th>Visit</th>\n",
       "      <th>Antibody</th>\n",
       "      <th>Component</th>\n",
       "      <th>Value</th>\n",
       "      <th>Unit</th>\n",
       "    </tr>\n",
       "  </thead>\n",
       "  <tbody>\n",
       "    <tr>\n",
       "      <th>0</th>\n",
       "      <td>IMPACT_101655</td>\n",
       "      <td>2012-10-11</td>\n",
       "      <td>-2</td>\n",
       "      <td>IgE</td>\n",
       "      <td>rAra h 1</td>\n",
       "      <td>8.76</td>\n",
       "      <td>KU/L</td>\n",
       "    </tr>\n",
       "    <tr>\n",
       "      <th>1</th>\n",
       "      <td>IMPACT_101655</td>\n",
       "      <td>2012-10-11</td>\n",
       "      <td>-2</td>\n",
       "      <td>IgE</td>\n",
       "      <td>rAra h 2</td>\n",
       "      <td>27.50</td>\n",
       "      <td>KU/L</td>\n",
       "    </tr>\n",
       "    <tr>\n",
       "      <th>2</th>\n",
       "      <td>IMPACT_101655</td>\n",
       "      <td>2012-10-11</td>\n",
       "      <td>-2</td>\n",
       "      <td>IgE</td>\n",
       "      <td>rAra h 3</td>\n",
       "      <td>0.50</td>\n",
       "      <td>KU/L</td>\n",
       "    </tr>\n",
       "    <tr>\n",
       "      <th>3</th>\n",
       "      <td>IMPACT_101655</td>\n",
       "      <td>2012-10-11</td>\n",
       "      <td>-2</td>\n",
       "      <td>IgE</td>\n",
       "      <td>rAra h 6</td>\n",
       "      <td>17.30</td>\n",
       "      <td>kUA/L</td>\n",
       "    </tr>\n",
       "    <tr>\n",
       "      <th>4</th>\n",
       "      <td>IMPACT_101655</td>\n",
       "      <td>2012-10-11</td>\n",
       "      <td>-2</td>\n",
       "      <td>IgG4</td>\n",
       "      <td>rAra h 1</td>\n",
       "      <td>0.15</td>\n",
       "      <td>MG/L</td>\n",
       "    </tr>\n",
       "  </tbody>\n",
       "</table>\n",
       "</div>"
      ],
      "text/plain": [
       "  Participant ID Collection Date  Visit Antibody Component  Value   Unit\n",
       "0  IMPACT_101655      2012-10-11     -2      IgE  rAra h 1   8.76   KU/L\n",
       "1  IMPACT_101655      2012-10-11     -2      IgE  rAra h 2  27.50   KU/L\n",
       "2  IMPACT_101655      2012-10-11     -2      IgE  rAra h 3   0.50   KU/L\n",
       "3  IMPACT_101655      2012-10-11     -2      IgE  rAra h 6  17.30  kUA/L\n",
       "4  IMPACT_101655      2012-10-11     -2     IgG4  rAra h 1   0.15   MG/L"
      ]
     },
     "execution_count": 6,
     "metadata": {},
     "output_type": "execute_result"
    }
   ],
   "source": [
    "print(impact_ige.shape)\n",
    "impact_ige.head()"
   ]
  },
  {
   "cell_type": "code",
   "execution_count": 7,
   "metadata": {},
   "outputs": [
    {
     "name": "stdout",
     "output_type": "stream",
     "text": [
      "(621, 5)\n"
     ]
    },
    {
     "data": {
      "text/html": [
       "<div>\n",
       "<style scoped>\n",
       "    .dataframe tbody tr th:only-of-type {\n",
       "        vertical-align: middle;\n",
       "    }\n",
       "\n",
       "    .dataframe tbody tr th {\n",
       "        vertical-align: top;\n",
       "    }\n",
       "\n",
       "    .dataframe thead th {\n",
       "        text-align: right;\n",
       "    }\n",
       "</style>\n",
       "<table border=\"1\" class=\"dataframe\">\n",
       "  <thead>\n",
       "    <tr style=\"text-align: right;\">\n",
       "      <th></th>\n",
       "      <th>Participant ID</th>\n",
       "      <th>Date of Allergy Skin Test (Character)</th>\n",
       "      <th>Visit</th>\n",
       "      <th>Wheal (mm)</th>\n",
       "      <th>OUT24NOI</th>\n",
       "    </tr>\n",
       "  </thead>\n",
       "  <tbody>\n",
       "    <tr>\n",
       "      <th>0</th>\n",
       "      <td>IMPACT_101655</td>\n",
       "      <td>2012-10-11</td>\n",
       "      <td>-2</td>\n",
       "      <td>17.5</td>\n",
       "      <td>NaN</td>\n",
       "    </tr>\n",
       "    <tr>\n",
       "      <th>1</th>\n",
       "      <td>IMPACT_101655</td>\n",
       "      <td>2013-05-28</td>\n",
       "      <td>16</td>\n",
       "      <td>4.5</td>\n",
       "      <td>NaN</td>\n",
       "    </tr>\n",
       "    <tr>\n",
       "      <th>2</th>\n",
       "      <td>IMPACT_102436</td>\n",
       "      <td>2013-03-14</td>\n",
       "      <td>-2</td>\n",
       "      <td>16.0</td>\n",
       "      <td>1.0</td>\n",
       "    </tr>\n",
       "    <tr>\n",
       "      <th>3</th>\n",
       "      <td>IMPACT_102436</td>\n",
       "      <td>2013-11-26</td>\n",
       "      <td>16</td>\n",
       "      <td>9.5</td>\n",
       "      <td>1.0</td>\n",
       "    </tr>\n",
       "    <tr>\n",
       "      <th>4</th>\n",
       "      <td>IMPACT_102436</td>\n",
       "      <td>2014-11-28</td>\n",
       "      <td>20</td>\n",
       "      <td>NaN</td>\n",
       "      <td>1.0</td>\n",
       "    </tr>\n",
       "  </tbody>\n",
       "</table>\n",
       "</div>"
      ],
      "text/plain": [
       "  Participant ID Date of Allergy Skin Test (Character)  Visit  Wheal (mm)  \\\n",
       "0  IMPACT_101655                            2012-10-11     -2        17.5   \n",
       "1  IMPACT_101655                            2013-05-28     16         4.5   \n",
       "2  IMPACT_102436                            2013-03-14     -2        16.0   \n",
       "3  IMPACT_102436                            2013-11-26     16         9.5   \n",
       "4  IMPACT_102436                            2014-11-28     20         NaN   \n",
       "\n",
       "   OUT24NOI  \n",
       "0       NaN  \n",
       "1       NaN  \n",
       "2       1.0  \n",
       "3       1.0  \n",
       "4       1.0  "
      ]
     },
     "execution_count": 7,
     "metadata": {},
     "output_type": "execute_result"
    }
   ],
   "source": [
    "print(impact_spt.shape)\n",
    "impact_spt.head()"
   ]
  },
  {
   "cell_type": "code",
   "execution_count": null,
   "metadata": {},
   "outputs": [],
   "source": []
  },
  {
   "cell_type": "code",
   "execution_count": null,
   "metadata": {},
   "outputs": [],
   "source": []
  },
  {
   "cell_type": "markdown",
   "metadata": {},
   "source": [
    "---\n",
    "# Filtering participants that were study eligible (n=144)\n",
    "- Total participants enrolled = 209  \n",
    "- Total participants eligible = 144\n",
    "- Total excluded = 65 (62 that did not have OFC fail results + 2 that could not handle the IDE)\n",
    "\n",
    "#### filtering solution (this will help filter initial screening OFC results too)\n",
    "- filter by'ADSTART0 -> immpact_ad['Randomized']==\"Yes\" \n",
    "- filter by ADSTART0 -> \"Study Termination Reason\"-> \"Inability to reach 3 mg peanut/placebo flour (1.5 mg peanut/placebo protein) during the initial dose escalation\" (These are the two that terminated after being randomized but could not reach their IDE: 146-2 -> n=144)"
   ]
  },
  {
   "cell_type": "code",
   "execution_count": 8,
   "metadata": {},
   "outputs": [],
   "source": [
    "# filter out ineligible participants \n",
    "impact_ad_eligible = impact_ad.loc[(impact_ad['Randomized'] == 'Yes') & ~(impact_ad['Study Termination Reason'] == 'Inability to reach 3 mg peanut/placebo flour (1.5 mg peanut/placebo protein) during the initial dose escalation')]\n"
   ]
  },
  {
   "cell_type": "code",
   "execution_count": 9,
   "metadata": {},
   "outputs": [],
   "source": [
    "# drop column\n",
    "impact_ad_eligible = impact_ad_eligible.drop(columns=['Randomized'])"
   ]
  },
  {
   "cell_type": "code",
   "execution_count": 10,
   "metadata": {},
   "outputs": [
    {
     "name": "stdout",
     "output_type": "stream",
     "text": [
      "(144, 8)\n"
     ]
    },
    {
     "data": {
      "text/html": [
       "<div>\n",
       "<style scoped>\n",
       "    .dataframe tbody tr th:only-of-type {\n",
       "        vertical-align: middle;\n",
       "    }\n",
       "\n",
       "    .dataframe tbody tr th {\n",
       "        vertical-align: top;\n",
       "    }\n",
       "\n",
       "    .dataframe thead th {\n",
       "        text-align: right;\n",
       "    }\n",
       "</style>\n",
       "<table border=\"1\" class=\"dataframe\">\n",
       "  <thead>\n",
       "    <tr style=\"text-align: right;\">\n",
       "      <th></th>\n",
       "      <th>Participant ID</th>\n",
       "      <th>Date of Screening Visit</th>\n",
       "      <th>Study Status</th>\n",
       "      <th>Sex (character)</th>\n",
       "      <th>Race</th>\n",
       "      <th>Completed Study Assessments Numeric</th>\n",
       "      <th>Age at Screening (years) Not Rounded</th>\n",
       "      <th>Study Termination Reason</th>\n",
       "    </tr>\n",
       "  </thead>\n",
       "  <tbody>\n",
       "    <tr>\n",
       "      <th>0</th>\n",
       "      <td>IMPACT_101655</td>\n",
       "      <td>2012-10-11</td>\n",
       "      <td>Discontinued Therapy</td>\n",
       "      <td>Male</td>\n",
       "      <td>White/Caucasian</td>\n",
       "      <td>0</td>\n",
       "      <td>3.8</td>\n",
       "      <td>Adverse Event</td>\n",
       "    </tr>\n",
       "    <tr>\n",
       "      <th>1</th>\n",
       "      <td>IMPACT_102436</td>\n",
       "      <td>2013-03-14</td>\n",
       "      <td>Completed Study</td>\n",
       "      <td>Male</td>\n",
       "      <td>White/Caucasian</td>\n",
       "      <td>1</td>\n",
       "      <td>3.9</td>\n",
       "      <td>NaN</td>\n",
       "    </tr>\n",
       "    <tr>\n",
       "      <th>2</th>\n",
       "      <td>IMPACT_105670</td>\n",
       "      <td>2013-04-04</td>\n",
       "      <td>Completed Study</td>\n",
       "      <td>Female</td>\n",
       "      <td>White/Caucasian</td>\n",
       "      <td>1</td>\n",
       "      <td>3.0</td>\n",
       "      <td>NaN</td>\n",
       "    </tr>\n",
       "    <tr>\n",
       "      <th>4</th>\n",
       "      <td>IMPACT_113135</td>\n",
       "      <td>2013-11-25</td>\n",
       "      <td>Early Termination</td>\n",
       "      <td>Female</td>\n",
       "      <td>White/Caucasian</td>\n",
       "      <td>0</td>\n",
       "      <td>2.6</td>\n",
       "      <td>Withdrawn Consent</td>\n",
       "    </tr>\n",
       "    <tr>\n",
       "      <th>5</th>\n",
       "      <td>IMPACT_115876</td>\n",
       "      <td>2014-03-19</td>\n",
       "      <td>Completed Study</td>\n",
       "      <td>Male</td>\n",
       "      <td>Mixed Race</td>\n",
       "      <td>1</td>\n",
       "      <td>2.2</td>\n",
       "      <td>NaN</td>\n",
       "    </tr>\n",
       "  </tbody>\n",
       "</table>\n",
       "</div>"
      ],
      "text/plain": [
       "  Participant ID Date of Screening Visit          Study Status  \\\n",
       "0  IMPACT_101655              2012-10-11  Discontinued Therapy   \n",
       "1  IMPACT_102436              2013-03-14       Completed Study   \n",
       "2  IMPACT_105670              2013-04-04       Completed Study   \n",
       "4  IMPACT_113135              2013-11-25     Early Termination   \n",
       "5  IMPACT_115876              2014-03-19       Completed Study   \n",
       "\n",
       "  Sex (character)             Race  Completed Study Assessments Numeric  \\\n",
       "0            Male  White/Caucasian                                    0   \n",
       "1            Male  White/Caucasian                                    1   \n",
       "2          Female  White/Caucasian                                    1   \n",
       "4          Female  White/Caucasian                                    0   \n",
       "5            Male       Mixed Race                                    1   \n",
       "\n",
       "   Age at Screening (years) Not Rounded Study Termination Reason  \n",
       "0                                   3.8            Adverse Event  \n",
       "1                                   3.9                      NaN  \n",
       "2                                   3.0                      NaN  \n",
       "4                                   2.6        Withdrawn Consent  \n",
       "5                                   2.2                      NaN  "
      ]
     },
     "execution_count": 10,
     "metadata": {},
     "output_type": "execute_result"
    }
   ],
   "source": [
    "print(impact_ad_eligible.shape)\n",
    "impact_ad_eligible.head()"
   ]
  },
  {
   "cell_type": "code",
   "execution_count": null,
   "metadata": {},
   "outputs": [],
   "source": []
  },
  {
   "cell_type": "code",
   "execution_count": null,
   "metadata": {},
   "outputs": [],
   "source": []
  },
  {
   "cell_type": "markdown",
   "metadata": {},
   "source": [
    "# Obtain list of participants who were eligible \n"
   ]
  },
  {
   "cell_type": "code",
   "execution_count": 11,
   "metadata": {},
   "outputs": [],
   "source": [
    "eligible_participant_IDs = set(impact_ad_eligible['Participant ID'])"
   ]
  },
  {
   "cell_type": "code",
   "execution_count": 12,
   "metadata": {},
   "outputs": [
    {
     "data": {
      "text/plain": [
       "144"
      ]
     },
     "execution_count": 12,
     "metadata": {},
     "output_type": "execute_result"
    }
   ],
   "source": [
    "len(eligible_participant_IDs)"
   ]
  },
  {
   "cell_type": "code",
   "execution_count": null,
   "metadata": {},
   "outputs": [],
   "source": []
  },
  {
   "cell_type": "code",
   "execution_count": null,
   "metadata": {},
   "outputs": [],
   "source": []
  },
  {
   "cell_type": "markdown",
   "metadata": {},
   "source": [
    "# Filtering each remaining dataset to include just the eligible participants "
   ]
  },
  {
   "cell_type": "code",
   "execution_count": 13,
   "metadata": {},
   "outputs": [],
   "source": [
    "impact_ige_eligible = impact_ige[impact_ige['Participant ID'].isin(eligible_participant_IDs)]\n",
    "impact_serum_eligible = impact_serum[impact_serum['Participant ID'].isin(eligible_participant_IDs)]\n",
    "impact_spt_eligible = impact_spt[impact_spt['Participant ID'].isin(eligible_participant_IDs)]\n",
    "\n",
    "# all datasets so far with 144 eligible participants and relevant columns:\n",
    "# impact_ad_eligible\n",
    "# impact_ige_eligible \n",
    "# impact_serum_eligible\n",
    "# impact_spt_eligible"
   ]
  },
  {
   "cell_type": "code",
   "execution_count": 14,
   "metadata": {},
   "outputs": [
    {
     "name": "stdout",
     "output_type": "stream",
     "text": [
      "impact_ad_eligible\n",
      "(144, 8)\n",
      "impact_ige_eligible\n",
      "(4832, 7)\n",
      "impact_serum_eligible\n",
      "(3059, 8)\n",
      "impact_spt_eligible\n",
      "(619, 5)\n",
      "impact_ad_eligible\n",
      "144\n",
      "impact_ige_eligible\n",
      "144\n",
      "impact_serum_eligible\n",
      "144\n",
      "impact_spt_eligible\n",
      "144\n"
     ]
    }
   ],
   "source": [
    "print(\"impact_ad_eligible\")\n",
    "print(impact_ad_eligible.shape)\n",
    "\n",
    "print(\"impact_ige_eligible\")\n",
    "print(impact_ige_eligible.shape)\n",
    "\n",
    "print(\"impact_serum_eligible\")\n",
    "print(impact_serum_eligible.shape)\n",
    "\n",
    "print(\"impact_spt_eligible\")\n",
    "print(impact_spt_eligible.shape)\n",
    "\n",
    "print(\"impact_ad_eligible\")\n",
    "print(len(impact_ad_eligible['Participant ID'].unique().tolist()))\n",
    "\n",
    "print(\"impact_ige_eligible\")\n",
    "print(len(impact_ige_eligible['Participant ID'].unique().tolist()))\n",
    "\n",
    "print(\"impact_serum_eligible\")\n",
    "print(len(impact_serum_eligible['Participant ID'].unique().tolist()))\n",
    "\n",
    "print(\"impact_spt_eligible\")\n",
    "print(len(impact_spt_eligible['Participant ID'].unique().tolist()))"
   ]
  },
  {
   "cell_type": "code",
   "execution_count": 15,
   "metadata": {},
   "outputs": [
    {
     "name": "stdout",
     "output_type": "stream",
     "text": [
      "(144, 8)\n"
     ]
    },
    {
     "data": {
      "text/html": [
       "<div>\n",
       "<style scoped>\n",
       "    .dataframe tbody tr th:only-of-type {\n",
       "        vertical-align: middle;\n",
       "    }\n",
       "\n",
       "    .dataframe tbody tr th {\n",
       "        vertical-align: top;\n",
       "    }\n",
       "\n",
       "    .dataframe thead th {\n",
       "        text-align: right;\n",
       "    }\n",
       "</style>\n",
       "<table border=\"1\" class=\"dataframe\">\n",
       "  <thead>\n",
       "    <tr style=\"text-align: right;\">\n",
       "      <th></th>\n",
       "      <th>Participant ID</th>\n",
       "      <th>Date of Screening Visit</th>\n",
       "      <th>Study Status</th>\n",
       "      <th>Sex (character)</th>\n",
       "      <th>Race</th>\n",
       "      <th>Completed Study Assessments Numeric</th>\n",
       "      <th>Age at Screening (years) Not Rounded</th>\n",
       "      <th>Study Termination Reason</th>\n",
       "    </tr>\n",
       "  </thead>\n",
       "  <tbody>\n",
       "    <tr>\n",
       "      <th>0</th>\n",
       "      <td>IMPACT_101655</td>\n",
       "      <td>2012-10-11</td>\n",
       "      <td>Discontinued Therapy</td>\n",
       "      <td>Male</td>\n",
       "      <td>White/Caucasian</td>\n",
       "      <td>0</td>\n",
       "      <td>3.8</td>\n",
       "      <td>Adverse Event</td>\n",
       "    </tr>\n",
       "    <tr>\n",
       "      <th>1</th>\n",
       "      <td>IMPACT_102436</td>\n",
       "      <td>2013-03-14</td>\n",
       "      <td>Completed Study</td>\n",
       "      <td>Male</td>\n",
       "      <td>White/Caucasian</td>\n",
       "      <td>1</td>\n",
       "      <td>3.9</td>\n",
       "      <td>NaN</td>\n",
       "    </tr>\n",
       "    <tr>\n",
       "      <th>2</th>\n",
       "      <td>IMPACT_105670</td>\n",
       "      <td>2013-04-04</td>\n",
       "      <td>Completed Study</td>\n",
       "      <td>Female</td>\n",
       "      <td>White/Caucasian</td>\n",
       "      <td>1</td>\n",
       "      <td>3.0</td>\n",
       "      <td>NaN</td>\n",
       "    </tr>\n",
       "    <tr>\n",
       "      <th>4</th>\n",
       "      <td>IMPACT_113135</td>\n",
       "      <td>2013-11-25</td>\n",
       "      <td>Early Termination</td>\n",
       "      <td>Female</td>\n",
       "      <td>White/Caucasian</td>\n",
       "      <td>0</td>\n",
       "      <td>2.6</td>\n",
       "      <td>Withdrawn Consent</td>\n",
       "    </tr>\n",
       "    <tr>\n",
       "      <th>5</th>\n",
       "      <td>IMPACT_115876</td>\n",
       "      <td>2014-03-19</td>\n",
       "      <td>Completed Study</td>\n",
       "      <td>Male</td>\n",
       "      <td>Mixed Race</td>\n",
       "      <td>1</td>\n",
       "      <td>2.2</td>\n",
       "      <td>NaN</td>\n",
       "    </tr>\n",
       "  </tbody>\n",
       "</table>\n",
       "</div>"
      ],
      "text/plain": [
       "  Participant ID Date of Screening Visit          Study Status  \\\n",
       "0  IMPACT_101655              2012-10-11  Discontinued Therapy   \n",
       "1  IMPACT_102436              2013-03-14       Completed Study   \n",
       "2  IMPACT_105670              2013-04-04       Completed Study   \n",
       "4  IMPACT_113135              2013-11-25     Early Termination   \n",
       "5  IMPACT_115876              2014-03-19       Completed Study   \n",
       "\n",
       "  Sex (character)             Race  Completed Study Assessments Numeric  \\\n",
       "0            Male  White/Caucasian                                    0   \n",
       "1            Male  White/Caucasian                                    1   \n",
       "2          Female  White/Caucasian                                    1   \n",
       "4          Female  White/Caucasian                                    0   \n",
       "5            Male       Mixed Race                                    1   \n",
       "\n",
       "   Age at Screening (years) Not Rounded Study Termination Reason  \n",
       "0                                   3.8            Adverse Event  \n",
       "1                                   3.9                      NaN  \n",
       "2                                   3.0                      NaN  \n",
       "4                                   2.6        Withdrawn Consent  \n",
       "5                                   2.2                      NaN  "
      ]
     },
     "execution_count": 15,
     "metadata": {},
     "output_type": "execute_result"
    }
   ],
   "source": [
    "print(impact_ad_eligible.shape)\n",
    "impact_ad_eligible.head()"
   ]
  },
  {
   "cell_type": "code",
   "execution_count": null,
   "metadata": {},
   "outputs": [],
   "source": []
  },
  {
   "cell_type": "code",
   "execution_count": null,
   "metadata": {},
   "outputs": [],
   "source": []
  },
  {
   "cell_type": "markdown",
   "metadata": {},
   "source": [
    "# Standardizing Column Names Across Datasets\n",
    "\n"
   ]
  },
  {
   "cell_type": "code",
   "execution_count": 16,
   "metadata": {},
   "outputs": [],
   "source": [
    "# impact_ad_eligible\n",
    "# impact_ige_eligible \n",
    "# impact_serum_eligible\n",
    "# impact_spt_eligible\n",
    "\n",
    "# renaming'Date of Screening Visit' to 'Collection Date' to match the other datasets \n",
    "# impact_ad_eligible = impact_ad_eligible.rename(columns={'Date of Screening Visit': 'Collection Date'})\n",
    "impact_spt_eligible = impact_spt_eligible.rename(columns={'Date of Allergy Skin Test (Character)': 'Collection Date'})\n"
   ]
  },
  {
   "cell_type": "code",
   "execution_count": 17,
   "metadata": {},
   "outputs": [
    {
     "name": "stdout",
     "output_type": "stream",
     "text": [
      "(619, 5)\n"
     ]
    },
    {
     "data": {
      "text/html": [
       "<div>\n",
       "<style scoped>\n",
       "    .dataframe tbody tr th:only-of-type {\n",
       "        vertical-align: middle;\n",
       "    }\n",
       "\n",
       "    .dataframe tbody tr th {\n",
       "        vertical-align: top;\n",
       "    }\n",
       "\n",
       "    .dataframe thead th {\n",
       "        text-align: right;\n",
       "    }\n",
       "</style>\n",
       "<table border=\"1\" class=\"dataframe\">\n",
       "  <thead>\n",
       "    <tr style=\"text-align: right;\">\n",
       "      <th></th>\n",
       "      <th>Participant ID</th>\n",
       "      <th>Collection Date</th>\n",
       "      <th>Visit</th>\n",
       "      <th>Wheal (mm)</th>\n",
       "      <th>OUT24NOI</th>\n",
       "    </tr>\n",
       "  </thead>\n",
       "  <tbody>\n",
       "    <tr>\n",
       "      <th>0</th>\n",
       "      <td>IMPACT_101655</td>\n",
       "      <td>2012-10-11</td>\n",
       "      <td>-2</td>\n",
       "      <td>17.5</td>\n",
       "      <td>NaN</td>\n",
       "    </tr>\n",
       "    <tr>\n",
       "      <th>1</th>\n",
       "      <td>IMPACT_101655</td>\n",
       "      <td>2013-05-28</td>\n",
       "      <td>16</td>\n",
       "      <td>4.5</td>\n",
       "      <td>NaN</td>\n",
       "    </tr>\n",
       "    <tr>\n",
       "      <th>2</th>\n",
       "      <td>IMPACT_102436</td>\n",
       "      <td>2013-03-14</td>\n",
       "      <td>-2</td>\n",
       "      <td>16.0</td>\n",
       "      <td>1.0</td>\n",
       "    </tr>\n",
       "    <tr>\n",
       "      <th>3</th>\n",
       "      <td>IMPACT_102436</td>\n",
       "      <td>2013-11-26</td>\n",
       "      <td>16</td>\n",
       "      <td>9.5</td>\n",
       "      <td>1.0</td>\n",
       "    </tr>\n",
       "    <tr>\n",
       "      <th>4</th>\n",
       "      <td>IMPACT_102436</td>\n",
       "      <td>2014-11-28</td>\n",
       "      <td>20</td>\n",
       "      <td>NaN</td>\n",
       "      <td>1.0</td>\n",
       "    </tr>\n",
       "  </tbody>\n",
       "</table>\n",
       "</div>"
      ],
      "text/plain": [
       "  Participant ID Collection Date  Visit  Wheal (mm)  OUT24NOI\n",
       "0  IMPACT_101655      2012-10-11     -2        17.5       NaN\n",
       "1  IMPACT_101655      2013-05-28     16         4.5       NaN\n",
       "2  IMPACT_102436      2013-03-14     -2        16.0       1.0\n",
       "3  IMPACT_102436      2013-11-26     16         9.5       1.0\n",
       "4  IMPACT_102436      2014-11-28     20         NaN       1.0"
      ]
     },
     "execution_count": 17,
     "metadata": {},
     "output_type": "execute_result"
    }
   ],
   "source": [
    "print(impact_spt_eligible.shape)\n",
    "impact_spt_eligible.head()"
   ]
  },
  {
   "cell_type": "code",
   "execution_count": null,
   "metadata": {},
   "outputs": [],
   "source": []
  },
  {
   "cell_type": "code",
   "execution_count": null,
   "metadata": {},
   "outputs": [],
   "source": []
  },
  {
   "cell_type": "markdown",
   "metadata": {},
   "source": [
    "# Filtering all participants except those who made it to week 24\n",
    "\n",
    "- per IMPACT chart, 116 participants made it to Visit 24\n",
    "\n",
    "filtering results below correctly shows 116 participants common to all datasets \n"
   ]
  },
  {
   "cell_type": "code",
   "execution_count": 18,
   "metadata": {},
   "outputs": [],
   "source": [
    "# impact_ige_eligible "
   ]
  },
  {
   "cell_type": "code",
   "execution_count": 19,
   "metadata": {},
   "outputs": [],
   "source": [
    "impact_ige_eligible_24 = impact_ige_eligible[impact_ige_eligible['Visit'] == 24]"
   ]
  },
  {
   "cell_type": "code",
   "execution_count": 20,
   "metadata": {},
   "outputs": [
    {
     "name": "stdout",
     "output_type": "stream",
     "text": [
      "(936, 7)\n",
      "117\n"
     ]
    },
    {
     "data": {
      "text/html": [
       "<div>\n",
       "<style scoped>\n",
       "    .dataframe tbody tr th:only-of-type {\n",
       "        vertical-align: middle;\n",
       "    }\n",
       "\n",
       "    .dataframe tbody tr th {\n",
       "        vertical-align: top;\n",
       "    }\n",
       "\n",
       "    .dataframe thead th {\n",
       "        text-align: right;\n",
       "    }\n",
       "</style>\n",
       "<table border=\"1\" class=\"dataframe\">\n",
       "  <thead>\n",
       "    <tr style=\"text-align: right;\">\n",
       "      <th></th>\n",
       "      <th>Participant ID</th>\n",
       "      <th>Collection Date</th>\n",
       "      <th>Visit</th>\n",
       "      <th>Antibody</th>\n",
       "      <th>Component</th>\n",
       "      <th>Value</th>\n",
       "      <th>Unit</th>\n",
       "    </tr>\n",
       "  </thead>\n",
       "  <tbody>\n",
       "    <tr>\n",
       "      <th>40</th>\n",
       "      <td>IMPACT_102436</td>\n",
       "      <td>2015-11-20</td>\n",
       "      <td>24</td>\n",
       "      <td>IgE</td>\n",
       "      <td>rAra h 1</td>\n",
       "      <td>1.14</td>\n",
       "      <td>kUA/L</td>\n",
       "    </tr>\n",
       "    <tr>\n",
       "      <th>41</th>\n",
       "      <td>IMPACT_102436</td>\n",
       "      <td>2015-11-20</td>\n",
       "      <td>24</td>\n",
       "      <td>IgE</td>\n",
       "      <td>rAra h 2</td>\n",
       "      <td>8.67</td>\n",
       "      <td>kUA/L</td>\n",
       "    </tr>\n",
       "    <tr>\n",
       "      <th>42</th>\n",
       "      <td>IMPACT_102436</td>\n",
       "      <td>2015-11-20</td>\n",
       "      <td>24</td>\n",
       "      <td>IgE</td>\n",
       "      <td>rAra h 3</td>\n",
       "      <td>0.05</td>\n",
       "      <td>kUA/L</td>\n",
       "    </tr>\n",
       "    <tr>\n",
       "      <th>43</th>\n",
       "      <td>IMPACT_102436</td>\n",
       "      <td>2015-11-20</td>\n",
       "      <td>24</td>\n",
       "      <td>IgE</td>\n",
       "      <td>rAra h 6</td>\n",
       "      <td>6.64</td>\n",
       "      <td>kUA/L</td>\n",
       "    </tr>\n",
       "    <tr>\n",
       "      <th>44</th>\n",
       "      <td>IMPACT_102436</td>\n",
       "      <td>2015-11-20</td>\n",
       "      <td>24</td>\n",
       "      <td>IgG4</td>\n",
       "      <td>rAra h 1</td>\n",
       "      <td>12.90</td>\n",
       "      <td>MG/L</td>\n",
       "    </tr>\n",
       "  </tbody>\n",
       "</table>\n",
       "</div>"
      ],
      "text/plain": [
       "   Participant ID Collection Date  Visit Antibody Component  Value   Unit\n",
       "40  IMPACT_102436      2015-11-20     24      IgE  rAra h 1   1.14  kUA/L\n",
       "41  IMPACT_102436      2015-11-20     24      IgE  rAra h 2   8.67  kUA/L\n",
       "42  IMPACT_102436      2015-11-20     24      IgE  rAra h 3   0.05  kUA/L\n",
       "43  IMPACT_102436      2015-11-20     24      IgE  rAra h 6   6.64  kUA/L\n",
       "44  IMPACT_102436      2015-11-20     24     IgG4  rAra h 1  12.90   MG/L"
      ]
     },
     "execution_count": 20,
     "metadata": {},
     "output_type": "execute_result"
    }
   ],
   "source": [
    "print(impact_ige_eligible_24.shape)\n",
    "print(len(impact_ige_eligible_24['Participant ID'].unique().tolist()))\n",
    "impact_ige_eligible_24.head()"
   ]
  },
  {
   "cell_type": "code",
   "execution_count": null,
   "metadata": {},
   "outputs": [],
   "source": []
  },
  {
   "cell_type": "code",
   "execution_count": 21,
   "metadata": {},
   "outputs": [],
   "source": [
    "# impact_serum_eligible"
   ]
  },
  {
   "cell_type": "code",
   "execution_count": 22,
   "metadata": {},
   "outputs": [],
   "source": [
    "impact_serum_eligible_24 = impact_serum_eligible[impact_serum_eligible['Visit'] == 24]"
   ]
  },
  {
   "cell_type": "code",
   "execution_count": 23,
   "metadata": {},
   "outputs": [
    {
     "name": "stdout",
     "output_type": "stream",
     "text": [
      "(590, 8)\n",
      "118\n"
     ]
    },
    {
     "data": {
      "text/html": [
       "<div>\n",
       "<style scoped>\n",
       "    .dataframe tbody tr th:only-of-type {\n",
       "        vertical-align: middle;\n",
       "    }\n",
       "\n",
       "    .dataframe tbody tr th {\n",
       "        vertical-align: top;\n",
       "    }\n",
       "\n",
       "    .dataframe thead th {\n",
       "        text-align: right;\n",
       "    }\n",
       "</style>\n",
       "<table border=\"1\" class=\"dataframe\">\n",
       "  <thead>\n",
       "    <tr style=\"text-align: right;\">\n",
       "      <th></th>\n",
       "      <th>Participant ID</th>\n",
       "      <th>Collection Date</th>\n",
       "      <th>Visit</th>\n",
       "      <th>Test Name</th>\n",
       "      <th>Unit</th>\n",
       "      <th>Value</th>\n",
       "      <th>Passed Visit 24 OFC No Imputation</th>\n",
       "      <th>Passed Visit 26 OFC No Imputation</th>\n",
       "    </tr>\n",
       "  </thead>\n",
       "  <tbody>\n",
       "    <tr>\n",
       "      <th>25</th>\n",
       "      <td>IMPACT_102436</td>\n",
       "      <td>2015-11-20</td>\n",
       "      <td>24</td>\n",
       "      <td>Peanut IgE</td>\n",
       "      <td>kU/L</td>\n",
       "      <td>8.410000</td>\n",
       "      <td>1.0</td>\n",
       "      <td>0.0</td>\n",
       "    </tr>\n",
       "    <tr>\n",
       "      <th>26</th>\n",
       "      <td>IMPACT_102436</td>\n",
       "      <td>2015-11-20</td>\n",
       "      <td>24</td>\n",
       "      <td>Peanut IgE/Total IgE ratio</td>\n",
       "      <td>Ratio</td>\n",
       "      <td>8.670103</td>\n",
       "      <td>1.0</td>\n",
       "      <td>0.0</td>\n",
       "    </tr>\n",
       "    <tr>\n",
       "      <th>27</th>\n",
       "      <td>IMPACT_102436</td>\n",
       "      <td>2015-11-20</td>\n",
       "      <td>24</td>\n",
       "      <td>Peanut IgG4*</td>\n",
       "      <td>mcg/mL</td>\n",
       "      <td>90.200000</td>\n",
       "      <td>1.0</td>\n",
       "      <td>0.0</td>\n",
       "    </tr>\n",
       "    <tr>\n",
       "      <th>28</th>\n",
       "      <td>IMPACT_102436</td>\n",
       "      <td>2015-11-20</td>\n",
       "      <td>24</td>\n",
       "      <td>Peanut IgG4/IgE ratio</td>\n",
       "      <td>Ratio</td>\n",
       "      <td>4.468886</td>\n",
       "      <td>1.0</td>\n",
       "      <td>0.0</td>\n",
       "    </tr>\n",
       "    <tr>\n",
       "      <th>29</th>\n",
       "      <td>IMPACT_102436</td>\n",
       "      <td>2015-11-20</td>\n",
       "      <td>24</td>\n",
       "      <td>Total IgE</td>\n",
       "      <td>IU/mL</td>\n",
       "      <td>97.000000</td>\n",
       "      <td>1.0</td>\n",
       "      <td>0.0</td>\n",
       "    </tr>\n",
       "  </tbody>\n",
       "</table>\n",
       "</div>"
      ],
      "text/plain": [
       "   Participant ID Collection Date  Visit                   Test Name    Unit  \\\n",
       "25  IMPACT_102436      2015-11-20     24                  Peanut IgE    kU/L   \n",
       "26  IMPACT_102436      2015-11-20     24  Peanut IgE/Total IgE ratio   Ratio   \n",
       "27  IMPACT_102436      2015-11-20     24                Peanut IgG4*  mcg/mL   \n",
       "28  IMPACT_102436      2015-11-20     24       Peanut IgG4/IgE ratio   Ratio   \n",
       "29  IMPACT_102436      2015-11-20     24                   Total IgE   IU/mL   \n",
       "\n",
       "        Value  Passed Visit 24 OFC No Imputation  \\\n",
       "25   8.410000                                1.0   \n",
       "26   8.670103                                1.0   \n",
       "27  90.200000                                1.0   \n",
       "28   4.468886                                1.0   \n",
       "29  97.000000                                1.0   \n",
       "\n",
       "    Passed Visit 26 OFC No Imputation  \n",
       "25                                0.0  \n",
       "26                                0.0  \n",
       "27                                0.0  \n",
       "28                                0.0  \n",
       "29                                0.0  "
      ]
     },
     "execution_count": 23,
     "metadata": {},
     "output_type": "execute_result"
    }
   ],
   "source": [
    "print(impact_serum_eligible_24.shape)\n",
    "print(len(impact_serum_eligible_24['Participant ID'].unique().tolist()))\n",
    "impact_serum_eligible_24.head()"
   ]
  },
  {
   "cell_type": "code",
   "execution_count": null,
   "metadata": {},
   "outputs": [],
   "source": []
  },
  {
   "cell_type": "code",
   "execution_count": 24,
   "metadata": {},
   "outputs": [],
   "source": [
    "# impact_spt_eligible"
   ]
  },
  {
   "cell_type": "code",
   "execution_count": 25,
   "metadata": {},
   "outputs": [],
   "source": [
    "impact_spt_eligible_24 = impact_spt_eligible[impact_spt_eligible['Visit'] == 24]"
   ]
  },
  {
   "cell_type": "code",
   "execution_count": 26,
   "metadata": {},
   "outputs": [
    {
     "name": "stdout",
     "output_type": "stream",
     "text": [
      "(118, 5)\n",
      "118\n"
     ]
    },
    {
     "data": {
      "text/html": [
       "<div>\n",
       "<style scoped>\n",
       "    .dataframe tbody tr th:only-of-type {\n",
       "        vertical-align: middle;\n",
       "    }\n",
       "\n",
       "    .dataframe tbody tr th {\n",
       "        vertical-align: top;\n",
       "    }\n",
       "\n",
       "    .dataframe thead th {\n",
       "        text-align: right;\n",
       "    }\n",
       "</style>\n",
       "<table border=\"1\" class=\"dataframe\">\n",
       "  <thead>\n",
       "    <tr style=\"text-align: right;\">\n",
       "      <th></th>\n",
       "      <th>Participant ID</th>\n",
       "      <th>Collection Date</th>\n",
       "      <th>Visit</th>\n",
       "      <th>Wheal (mm)</th>\n",
       "      <th>OUT24NOI</th>\n",
       "    </tr>\n",
       "  </thead>\n",
       "  <tbody>\n",
       "    <tr>\n",
       "      <th>5</th>\n",
       "      <td>IMPACT_102436</td>\n",
       "      <td>2015-11-20</td>\n",
       "      <td>24</td>\n",
       "      <td>2.5</td>\n",
       "      <td>1.0</td>\n",
       "    </tr>\n",
       "    <tr>\n",
       "      <th>10</th>\n",
       "      <td>IMPACT_105670</td>\n",
       "      <td>2015-11-25</td>\n",
       "      <td>24</td>\n",
       "      <td>0.0</td>\n",
       "      <td>1.0</td>\n",
       "    </tr>\n",
       "    <tr>\n",
       "      <th>15</th>\n",
       "      <td>IMPACT_113135</td>\n",
       "      <td>2016-09-12</td>\n",
       "      <td>24</td>\n",
       "      <td>24.5</td>\n",
       "      <td>0.0</td>\n",
       "    </tr>\n",
       "    <tr>\n",
       "      <th>20</th>\n",
       "      <td>IMPACT_115876</td>\n",
       "      <td>2016-11-09</td>\n",
       "      <td>24</td>\n",
       "      <td>27.5</td>\n",
       "      <td>0.0</td>\n",
       "    </tr>\n",
       "    <tr>\n",
       "      <th>25</th>\n",
       "      <td>IMPACT_136775</td>\n",
       "      <td>2017-11-20</td>\n",
       "      <td>24</td>\n",
       "      <td>7.5</td>\n",
       "      <td>0.0</td>\n",
       "    </tr>\n",
       "  </tbody>\n",
       "</table>\n",
       "</div>"
      ],
      "text/plain": [
       "   Participant ID Collection Date  Visit  Wheal (mm)  OUT24NOI\n",
       "5   IMPACT_102436      2015-11-20     24         2.5       1.0\n",
       "10  IMPACT_105670      2015-11-25     24         0.0       1.0\n",
       "15  IMPACT_113135      2016-09-12     24        24.5       0.0\n",
       "20  IMPACT_115876      2016-11-09     24        27.5       0.0\n",
       "25  IMPACT_136775      2017-11-20     24         7.5       0.0"
      ]
     },
     "execution_count": 26,
     "metadata": {},
     "output_type": "execute_result"
    }
   ],
   "source": [
    "print(impact_spt_eligible_24.shape)\n",
    "print(len(impact_spt_eligible_24['Participant ID'].unique().tolist()))\n",
    "impact_spt_eligible_24.head()"
   ]
  },
  {
   "cell_type": "code",
   "execution_count": null,
   "metadata": {},
   "outputs": [],
   "source": []
  },
  {
   "cell_type": "code",
   "execution_count": 27,
   "metadata": {},
   "outputs": [],
   "source": [
    "# finding common participants who reached visit 24 \n",
    "\n",
    "# impact_ige_eligible_24\n",
    "# impact_serum_eligible_24\n",
    "# impact_spt_eligible_24\n",
    "\n",
    "ige_list_24 = impact_ige_eligible_24['Participant ID'].tolist()\n",
    "serum_list_24 = impact_serum_eligible_24['Participant ID'].tolist()\n",
    "spt_list_24 = impact_spt_eligible_24['Participant ID'].tolist()\n",
    "\n",
    "common_participants_24 = set(spt_list_24).intersection(ige_list_24, serum_list_24)\n",
    "common_participants_24 = list(common_participants_24)\n",
    "\n"
   ]
  },
  {
   "cell_type": "code",
   "execution_count": 28,
   "metadata": {},
   "outputs": [
    {
     "data": {
      "text/plain": [
       "117"
      ]
     },
     "execution_count": 28,
     "metadata": {},
     "output_type": "execute_result"
    }
   ],
   "source": [
    "len(common_participants_24)\n",
    "#output 141"
   ]
  },
  {
   "cell_type": "code",
   "execution_count": 29,
   "metadata": {},
   "outputs": [],
   "source": [
    "\n",
    "# Updating each data frame so that they only contain the common participants \n",
    "impact_ad_eligible_24_common = impact_ad_eligible[impact_ad_eligible['Participant ID'].isin(common_participants_24)]\n",
    "impact_ige_eligible_24_common = impact_ige_eligible_24[impact_ige_eligible_24['Participant ID'].isin(common_participants_24)]\n",
    "impact_serum_eligible_24_common = impact_serum_eligible_24[impact_serum_eligible_24['Participant ID'].isin(common_participants_24)]\n",
    "impact_spt_eligible_24_common = impact_spt_eligible_24[impact_spt_eligible_24['Participant ID'].isin(common_participants_24)]\n",
    "\n"
   ]
  },
  {
   "cell_type": "code",
   "execution_count": 30,
   "metadata": {},
   "outputs": [
    {
     "name": "stdout",
     "output_type": "stream",
     "text": [
      "(117, 8)\n",
      "117\n"
     ]
    },
    {
     "data": {
      "text/html": [
       "<div>\n",
       "<style scoped>\n",
       "    .dataframe tbody tr th:only-of-type {\n",
       "        vertical-align: middle;\n",
       "    }\n",
       "\n",
       "    .dataframe tbody tr th {\n",
       "        vertical-align: top;\n",
       "    }\n",
       "\n",
       "    .dataframe thead th {\n",
       "        text-align: right;\n",
       "    }\n",
       "</style>\n",
       "<table border=\"1\" class=\"dataframe\">\n",
       "  <thead>\n",
       "    <tr style=\"text-align: right;\">\n",
       "      <th></th>\n",
       "      <th>Participant ID</th>\n",
       "      <th>Date of Screening Visit</th>\n",
       "      <th>Study Status</th>\n",
       "      <th>Sex (character)</th>\n",
       "      <th>Race</th>\n",
       "      <th>Completed Study Assessments Numeric</th>\n",
       "      <th>Age at Screening (years) Not Rounded</th>\n",
       "      <th>Study Termination Reason</th>\n",
       "    </tr>\n",
       "  </thead>\n",
       "  <tbody>\n",
       "    <tr>\n",
       "      <th>1</th>\n",
       "      <td>IMPACT_102436</td>\n",
       "      <td>2013-03-14</td>\n",
       "      <td>Completed Study</td>\n",
       "      <td>Male</td>\n",
       "      <td>White/Caucasian</td>\n",
       "      <td>1</td>\n",
       "      <td>3.9</td>\n",
       "      <td>NaN</td>\n",
       "    </tr>\n",
       "    <tr>\n",
       "      <th>2</th>\n",
       "      <td>IMPACT_105670</td>\n",
       "      <td>2013-04-04</td>\n",
       "      <td>Completed Study</td>\n",
       "      <td>Female</td>\n",
       "      <td>White/Caucasian</td>\n",
       "      <td>1</td>\n",
       "      <td>3.0</td>\n",
       "      <td>NaN</td>\n",
       "    </tr>\n",
       "    <tr>\n",
       "      <th>4</th>\n",
       "      <td>IMPACT_113135</td>\n",
       "      <td>2013-11-25</td>\n",
       "      <td>Early Termination</td>\n",
       "      <td>Female</td>\n",
       "      <td>White/Caucasian</td>\n",
       "      <td>0</td>\n",
       "      <td>2.6</td>\n",
       "      <td>Withdrawn Consent</td>\n",
       "    </tr>\n",
       "    <tr>\n",
       "      <th>5</th>\n",
       "      <td>IMPACT_115876</td>\n",
       "      <td>2014-03-19</td>\n",
       "      <td>Completed Study</td>\n",
       "      <td>Male</td>\n",
       "      <td>Mixed Race</td>\n",
       "      <td>1</td>\n",
       "      <td>2.2</td>\n",
       "      <td>NaN</td>\n",
       "    </tr>\n",
       "    <tr>\n",
       "      <th>9</th>\n",
       "      <td>IMPACT_136775</td>\n",
       "      <td>2015-03-28</td>\n",
       "      <td>Early Termination</td>\n",
       "      <td>Female</td>\n",
       "      <td>Mixed Race</td>\n",
       "      <td>0</td>\n",
       "      <td>3.5</td>\n",
       "      <td>Withdrawn Consent</td>\n",
       "    </tr>\n",
       "  </tbody>\n",
       "</table>\n",
       "</div>"
      ],
      "text/plain": [
       "  Participant ID Date of Screening Visit       Study Status Sex (character)  \\\n",
       "1  IMPACT_102436              2013-03-14    Completed Study            Male   \n",
       "2  IMPACT_105670              2013-04-04    Completed Study          Female   \n",
       "4  IMPACT_113135              2013-11-25  Early Termination          Female   \n",
       "5  IMPACT_115876              2014-03-19    Completed Study            Male   \n",
       "9  IMPACT_136775              2015-03-28  Early Termination          Female   \n",
       "\n",
       "              Race  Completed Study Assessments Numeric  \\\n",
       "1  White/Caucasian                                    1   \n",
       "2  White/Caucasian                                    1   \n",
       "4  White/Caucasian                                    0   \n",
       "5       Mixed Race                                    1   \n",
       "9       Mixed Race                                    0   \n",
       "\n",
       "   Age at Screening (years) Not Rounded Study Termination Reason  \n",
       "1                                   3.9                      NaN  \n",
       "2                                   3.0                      NaN  \n",
       "4                                   2.6        Withdrawn Consent  \n",
       "5                                   2.2                      NaN  \n",
       "9                                   3.5        Withdrawn Consent  "
      ]
     },
     "execution_count": 30,
     "metadata": {},
     "output_type": "execute_result"
    }
   ],
   "source": [
    "print(impact_ad_eligible_24_common.shape)\n",
    "print(len(impact_ad_eligible_24_common['Participant ID'].unique().tolist()))\n",
    "impact_ad_eligible_24_common.head()"
   ]
  },
  {
   "cell_type": "code",
   "execution_count": 31,
   "metadata": {},
   "outputs": [
    {
     "name": "stdout",
     "output_type": "stream",
     "text": [
      "(936, 7)\n",
      "117\n"
     ]
    },
    {
     "data": {
      "text/html": [
       "<div>\n",
       "<style scoped>\n",
       "    .dataframe tbody tr th:only-of-type {\n",
       "        vertical-align: middle;\n",
       "    }\n",
       "\n",
       "    .dataframe tbody tr th {\n",
       "        vertical-align: top;\n",
       "    }\n",
       "\n",
       "    .dataframe thead th {\n",
       "        text-align: right;\n",
       "    }\n",
       "</style>\n",
       "<table border=\"1\" class=\"dataframe\">\n",
       "  <thead>\n",
       "    <tr style=\"text-align: right;\">\n",
       "      <th></th>\n",
       "      <th>Participant ID</th>\n",
       "      <th>Collection Date</th>\n",
       "      <th>Visit</th>\n",
       "      <th>Antibody</th>\n",
       "      <th>Component</th>\n",
       "      <th>Value</th>\n",
       "      <th>Unit</th>\n",
       "    </tr>\n",
       "  </thead>\n",
       "  <tbody>\n",
       "    <tr>\n",
       "      <th>40</th>\n",
       "      <td>IMPACT_102436</td>\n",
       "      <td>2015-11-20</td>\n",
       "      <td>24</td>\n",
       "      <td>IgE</td>\n",
       "      <td>rAra h 1</td>\n",
       "      <td>1.14</td>\n",
       "      <td>kUA/L</td>\n",
       "    </tr>\n",
       "    <tr>\n",
       "      <th>41</th>\n",
       "      <td>IMPACT_102436</td>\n",
       "      <td>2015-11-20</td>\n",
       "      <td>24</td>\n",
       "      <td>IgE</td>\n",
       "      <td>rAra h 2</td>\n",
       "      <td>8.67</td>\n",
       "      <td>kUA/L</td>\n",
       "    </tr>\n",
       "    <tr>\n",
       "      <th>42</th>\n",
       "      <td>IMPACT_102436</td>\n",
       "      <td>2015-11-20</td>\n",
       "      <td>24</td>\n",
       "      <td>IgE</td>\n",
       "      <td>rAra h 3</td>\n",
       "      <td>0.05</td>\n",
       "      <td>kUA/L</td>\n",
       "    </tr>\n",
       "    <tr>\n",
       "      <th>43</th>\n",
       "      <td>IMPACT_102436</td>\n",
       "      <td>2015-11-20</td>\n",
       "      <td>24</td>\n",
       "      <td>IgE</td>\n",
       "      <td>rAra h 6</td>\n",
       "      <td>6.64</td>\n",
       "      <td>kUA/L</td>\n",
       "    </tr>\n",
       "    <tr>\n",
       "      <th>44</th>\n",
       "      <td>IMPACT_102436</td>\n",
       "      <td>2015-11-20</td>\n",
       "      <td>24</td>\n",
       "      <td>IgG4</td>\n",
       "      <td>rAra h 1</td>\n",
       "      <td>12.90</td>\n",
       "      <td>MG/L</td>\n",
       "    </tr>\n",
       "  </tbody>\n",
       "</table>\n",
       "</div>"
      ],
      "text/plain": [
       "   Participant ID Collection Date  Visit Antibody Component  Value   Unit\n",
       "40  IMPACT_102436      2015-11-20     24      IgE  rAra h 1   1.14  kUA/L\n",
       "41  IMPACT_102436      2015-11-20     24      IgE  rAra h 2   8.67  kUA/L\n",
       "42  IMPACT_102436      2015-11-20     24      IgE  rAra h 3   0.05  kUA/L\n",
       "43  IMPACT_102436      2015-11-20     24      IgE  rAra h 6   6.64  kUA/L\n",
       "44  IMPACT_102436      2015-11-20     24     IgG4  rAra h 1  12.90   MG/L"
      ]
     },
     "execution_count": 31,
     "metadata": {},
     "output_type": "execute_result"
    }
   ],
   "source": [
    "print(impact_ige_eligible_24_common.shape)\n",
    "print(len(impact_ige_eligible_24_common['Participant ID'].unique().tolist()))\n",
    "impact_ige_eligible_24_common.head()"
   ]
  },
  {
   "cell_type": "code",
   "execution_count": 32,
   "metadata": {},
   "outputs": [
    {
     "name": "stdout",
     "output_type": "stream",
     "text": [
      "(585, 8)\n",
      "117\n"
     ]
    },
    {
     "data": {
      "text/html": [
       "<div>\n",
       "<style scoped>\n",
       "    .dataframe tbody tr th:only-of-type {\n",
       "        vertical-align: middle;\n",
       "    }\n",
       "\n",
       "    .dataframe tbody tr th {\n",
       "        vertical-align: top;\n",
       "    }\n",
       "\n",
       "    .dataframe thead th {\n",
       "        text-align: right;\n",
       "    }\n",
       "</style>\n",
       "<table border=\"1\" class=\"dataframe\">\n",
       "  <thead>\n",
       "    <tr style=\"text-align: right;\">\n",
       "      <th></th>\n",
       "      <th>Participant ID</th>\n",
       "      <th>Collection Date</th>\n",
       "      <th>Visit</th>\n",
       "      <th>Test Name</th>\n",
       "      <th>Unit</th>\n",
       "      <th>Value</th>\n",
       "      <th>Passed Visit 24 OFC No Imputation</th>\n",
       "      <th>Passed Visit 26 OFC No Imputation</th>\n",
       "    </tr>\n",
       "  </thead>\n",
       "  <tbody>\n",
       "    <tr>\n",
       "      <th>25</th>\n",
       "      <td>IMPACT_102436</td>\n",
       "      <td>2015-11-20</td>\n",
       "      <td>24</td>\n",
       "      <td>Peanut IgE</td>\n",
       "      <td>kU/L</td>\n",
       "      <td>8.410000</td>\n",
       "      <td>1.0</td>\n",
       "      <td>0.0</td>\n",
       "    </tr>\n",
       "    <tr>\n",
       "      <th>26</th>\n",
       "      <td>IMPACT_102436</td>\n",
       "      <td>2015-11-20</td>\n",
       "      <td>24</td>\n",
       "      <td>Peanut IgE/Total IgE ratio</td>\n",
       "      <td>Ratio</td>\n",
       "      <td>8.670103</td>\n",
       "      <td>1.0</td>\n",
       "      <td>0.0</td>\n",
       "    </tr>\n",
       "    <tr>\n",
       "      <th>27</th>\n",
       "      <td>IMPACT_102436</td>\n",
       "      <td>2015-11-20</td>\n",
       "      <td>24</td>\n",
       "      <td>Peanut IgG4*</td>\n",
       "      <td>mcg/mL</td>\n",
       "      <td>90.200000</td>\n",
       "      <td>1.0</td>\n",
       "      <td>0.0</td>\n",
       "    </tr>\n",
       "    <tr>\n",
       "      <th>28</th>\n",
       "      <td>IMPACT_102436</td>\n",
       "      <td>2015-11-20</td>\n",
       "      <td>24</td>\n",
       "      <td>Peanut IgG4/IgE ratio</td>\n",
       "      <td>Ratio</td>\n",
       "      <td>4.468886</td>\n",
       "      <td>1.0</td>\n",
       "      <td>0.0</td>\n",
       "    </tr>\n",
       "    <tr>\n",
       "      <th>29</th>\n",
       "      <td>IMPACT_102436</td>\n",
       "      <td>2015-11-20</td>\n",
       "      <td>24</td>\n",
       "      <td>Total IgE</td>\n",
       "      <td>IU/mL</td>\n",
       "      <td>97.000000</td>\n",
       "      <td>1.0</td>\n",
       "      <td>0.0</td>\n",
       "    </tr>\n",
       "  </tbody>\n",
       "</table>\n",
       "</div>"
      ],
      "text/plain": [
       "   Participant ID Collection Date  Visit                   Test Name    Unit  \\\n",
       "25  IMPACT_102436      2015-11-20     24                  Peanut IgE    kU/L   \n",
       "26  IMPACT_102436      2015-11-20     24  Peanut IgE/Total IgE ratio   Ratio   \n",
       "27  IMPACT_102436      2015-11-20     24                Peanut IgG4*  mcg/mL   \n",
       "28  IMPACT_102436      2015-11-20     24       Peanut IgG4/IgE ratio   Ratio   \n",
       "29  IMPACT_102436      2015-11-20     24                   Total IgE   IU/mL   \n",
       "\n",
       "        Value  Passed Visit 24 OFC No Imputation  \\\n",
       "25   8.410000                                1.0   \n",
       "26   8.670103                                1.0   \n",
       "27  90.200000                                1.0   \n",
       "28   4.468886                                1.0   \n",
       "29  97.000000                                1.0   \n",
       "\n",
       "    Passed Visit 26 OFC No Imputation  \n",
       "25                                0.0  \n",
       "26                                0.0  \n",
       "27                                0.0  \n",
       "28                                0.0  \n",
       "29                                0.0  "
      ]
     },
     "execution_count": 32,
     "metadata": {},
     "output_type": "execute_result"
    }
   ],
   "source": [
    "print(impact_serum_eligible_24_common.shape)\n",
    "print(len(impact_serum_eligible_24_common['Participant ID'].unique().tolist()))\n",
    "impact_serum_eligible_24_common.head()"
   ]
  },
  {
   "cell_type": "code",
   "execution_count": 33,
   "metadata": {},
   "outputs": [
    {
     "name": "stdout",
     "output_type": "stream",
     "text": [
      "(117, 5)\n",
      "117\n"
     ]
    },
    {
     "data": {
      "text/html": [
       "<div>\n",
       "<style scoped>\n",
       "    .dataframe tbody tr th:only-of-type {\n",
       "        vertical-align: middle;\n",
       "    }\n",
       "\n",
       "    .dataframe tbody tr th {\n",
       "        vertical-align: top;\n",
       "    }\n",
       "\n",
       "    .dataframe thead th {\n",
       "        text-align: right;\n",
       "    }\n",
       "</style>\n",
       "<table border=\"1\" class=\"dataframe\">\n",
       "  <thead>\n",
       "    <tr style=\"text-align: right;\">\n",
       "      <th></th>\n",
       "      <th>Participant ID</th>\n",
       "      <th>Collection Date</th>\n",
       "      <th>Visit</th>\n",
       "      <th>Wheal (mm)</th>\n",
       "      <th>OUT24NOI</th>\n",
       "    </tr>\n",
       "  </thead>\n",
       "  <tbody>\n",
       "    <tr>\n",
       "      <th>5</th>\n",
       "      <td>IMPACT_102436</td>\n",
       "      <td>2015-11-20</td>\n",
       "      <td>24</td>\n",
       "      <td>2.5</td>\n",
       "      <td>1.0</td>\n",
       "    </tr>\n",
       "    <tr>\n",
       "      <th>10</th>\n",
       "      <td>IMPACT_105670</td>\n",
       "      <td>2015-11-25</td>\n",
       "      <td>24</td>\n",
       "      <td>0.0</td>\n",
       "      <td>1.0</td>\n",
       "    </tr>\n",
       "    <tr>\n",
       "      <th>15</th>\n",
       "      <td>IMPACT_113135</td>\n",
       "      <td>2016-09-12</td>\n",
       "      <td>24</td>\n",
       "      <td>24.5</td>\n",
       "      <td>0.0</td>\n",
       "    </tr>\n",
       "    <tr>\n",
       "      <th>20</th>\n",
       "      <td>IMPACT_115876</td>\n",
       "      <td>2016-11-09</td>\n",
       "      <td>24</td>\n",
       "      <td>27.5</td>\n",
       "      <td>0.0</td>\n",
       "    </tr>\n",
       "    <tr>\n",
       "      <th>25</th>\n",
       "      <td>IMPACT_136775</td>\n",
       "      <td>2017-11-20</td>\n",
       "      <td>24</td>\n",
       "      <td>7.5</td>\n",
       "      <td>0.0</td>\n",
       "    </tr>\n",
       "  </tbody>\n",
       "</table>\n",
       "</div>"
      ],
      "text/plain": [
       "   Participant ID Collection Date  Visit  Wheal (mm)  OUT24NOI\n",
       "5   IMPACT_102436      2015-11-20     24         2.5       1.0\n",
       "10  IMPACT_105670      2015-11-25     24         0.0       1.0\n",
       "15  IMPACT_113135      2016-09-12     24        24.5       0.0\n",
       "20  IMPACT_115876      2016-11-09     24        27.5       0.0\n",
       "25  IMPACT_136775      2017-11-20     24         7.5       0.0"
      ]
     },
     "execution_count": 33,
     "metadata": {},
     "output_type": "execute_result"
    }
   ],
   "source": [
    "print(impact_spt_eligible_24_common.shape)\n",
    "print(len(impact_spt_eligible_24_common['Participant ID'].unique().tolist()))\n",
    "impact_spt_eligible_24_common.head()"
   ]
  },
  {
   "cell_type": "code",
   "execution_count": null,
   "metadata": {},
   "outputs": [],
   "source": []
  },
  {
   "cell_type": "code",
   "execution_count": null,
   "metadata": {},
   "outputs": [],
   "source": []
  },
  {
   "cell_type": "markdown",
   "metadata": {},
   "source": [
    "# Calculating Age at visit 24\n",
    "\n"
   ]
  },
  {
   "cell_type": "code",
   "execution_count": 34,
   "metadata": {},
   "outputs": [
    {
     "name": "stdout",
     "output_type": "stream",
     "text": [
      "(117, 8)\n"
     ]
    },
    {
     "name": "stderr",
     "output_type": "stream",
     "text": [
      "<ipython-input-34-f53c2c19419b>:5: SettingWithCopyWarning: \n",
      "A value is trying to be set on a copy of a slice from a DataFrame.\n",
      "Try using .loc[row_indexer,col_indexer] = value instead\n",
      "\n",
      "See the caveats in the documentation: https://pandas.pydata.org/pandas-docs/stable/user_guide/indexing.html#returning-a-view-versus-a-copy\n",
      "  impact_ad_eligible_24_common['Age at Screening (years) Not Rounded'] = impact_ad_eligible_24_common['Age at Screening (years) Not Rounded'] * 12\n"
     ]
    },
    {
     "data": {
      "text/html": [
       "<div>\n",
       "<style scoped>\n",
       "    .dataframe tbody tr th:only-of-type {\n",
       "        vertical-align: middle;\n",
       "    }\n",
       "\n",
       "    .dataframe tbody tr th {\n",
       "        vertical-align: top;\n",
       "    }\n",
       "\n",
       "    .dataframe thead th {\n",
       "        text-align: right;\n",
       "    }\n",
       "</style>\n",
       "<table border=\"1\" class=\"dataframe\">\n",
       "  <thead>\n",
       "    <tr style=\"text-align: right;\">\n",
       "      <th></th>\n",
       "      <th>Participant ID</th>\n",
       "      <th>Date of Screening Visit</th>\n",
       "      <th>Study Status</th>\n",
       "      <th>Sex (character)</th>\n",
       "      <th>Race</th>\n",
       "      <th>Completed Study Assessments Numeric</th>\n",
       "      <th>Age at Screening (years) Not Rounded</th>\n",
       "      <th>Study Termination Reason</th>\n",
       "    </tr>\n",
       "  </thead>\n",
       "  <tbody>\n",
       "    <tr>\n",
       "      <th>1</th>\n",
       "      <td>IMPACT_102436</td>\n",
       "      <td>2013-03-14</td>\n",
       "      <td>Completed Study</td>\n",
       "      <td>Male</td>\n",
       "      <td>White/Caucasian</td>\n",
       "      <td>1</td>\n",
       "      <td>46.8</td>\n",
       "      <td>NaN</td>\n",
       "    </tr>\n",
       "    <tr>\n",
       "      <th>2</th>\n",
       "      <td>IMPACT_105670</td>\n",
       "      <td>2013-04-04</td>\n",
       "      <td>Completed Study</td>\n",
       "      <td>Female</td>\n",
       "      <td>White/Caucasian</td>\n",
       "      <td>1</td>\n",
       "      <td>36.0</td>\n",
       "      <td>NaN</td>\n",
       "    </tr>\n",
       "    <tr>\n",
       "      <th>4</th>\n",
       "      <td>IMPACT_113135</td>\n",
       "      <td>2013-11-25</td>\n",
       "      <td>Early Termination</td>\n",
       "      <td>Female</td>\n",
       "      <td>White/Caucasian</td>\n",
       "      <td>0</td>\n",
       "      <td>31.2</td>\n",
       "      <td>Withdrawn Consent</td>\n",
       "    </tr>\n",
       "    <tr>\n",
       "      <th>5</th>\n",
       "      <td>IMPACT_115876</td>\n",
       "      <td>2014-03-19</td>\n",
       "      <td>Completed Study</td>\n",
       "      <td>Male</td>\n",
       "      <td>Mixed Race</td>\n",
       "      <td>1</td>\n",
       "      <td>26.4</td>\n",
       "      <td>NaN</td>\n",
       "    </tr>\n",
       "    <tr>\n",
       "      <th>9</th>\n",
       "      <td>IMPACT_136775</td>\n",
       "      <td>2015-03-28</td>\n",
       "      <td>Early Termination</td>\n",
       "      <td>Female</td>\n",
       "      <td>Mixed Race</td>\n",
       "      <td>0</td>\n",
       "      <td>42.0</td>\n",
       "      <td>Withdrawn Consent</td>\n",
       "    </tr>\n",
       "  </tbody>\n",
       "</table>\n",
       "</div>"
      ],
      "text/plain": [
       "  Participant ID Date of Screening Visit       Study Status Sex (character)  \\\n",
       "1  IMPACT_102436              2013-03-14    Completed Study            Male   \n",
       "2  IMPACT_105670              2013-04-04    Completed Study          Female   \n",
       "4  IMPACT_113135              2013-11-25  Early Termination          Female   \n",
       "5  IMPACT_115876              2014-03-19    Completed Study            Male   \n",
       "9  IMPACT_136775              2015-03-28  Early Termination          Female   \n",
       "\n",
       "              Race  Completed Study Assessments Numeric  \\\n",
       "1  White/Caucasian                                    1   \n",
       "2  White/Caucasian                                    1   \n",
       "4  White/Caucasian                                    0   \n",
       "5       Mixed Race                                    1   \n",
       "9       Mixed Race                                    0   \n",
       "\n",
       "   Age at Screening (years) Not Rounded Study Termination Reason  \n",
       "1                                  46.8                      NaN  \n",
       "2                                  36.0                      NaN  \n",
       "4                                  31.2        Withdrawn Consent  \n",
       "5                                  26.4                      NaN  \n",
       "9                                  42.0        Withdrawn Consent  "
      ]
     },
     "execution_count": 34,
     "metadata": {},
     "output_type": "execute_result"
    }
   ],
   "source": [
    "# transforming the \"Age at Screening (years) Not Rounded\" column in \"impact_ad_eligible_24_common\" to be in months\n",
    "\n",
    "\n",
    "#convering the 'Age at Screening (years) Not Rounded' to months \n",
    "impact_ad_eligible_24_common['Age at Screening (years) Not Rounded'] = impact_ad_eligible_24_common['Age at Screening (years) Not Rounded'] * 12\n",
    "\n",
    "print(impact_ad_eligible_24_common.shape)\n",
    "impact_ad_eligible_24_common.head()\n"
   ]
  },
  {
   "cell_type": "code",
   "execution_count": 35,
   "metadata": {},
   "outputs": [],
   "source": [
    "# Using OFC Results from SPT to Calculate date difference "
   ]
  },
  {
   "cell_type": "code",
   "execution_count": 36,
   "metadata": {},
   "outputs": [
    {
     "data": {
      "text/html": [
       "<div>\n",
       "<style scoped>\n",
       "    .dataframe tbody tr th:only-of-type {\n",
       "        vertical-align: middle;\n",
       "    }\n",
       "\n",
       "    .dataframe tbody tr th {\n",
       "        vertical-align: top;\n",
       "    }\n",
       "\n",
       "    .dataframe thead th {\n",
       "        text-align: right;\n",
       "    }\n",
       "</style>\n",
       "<table border=\"1\" class=\"dataframe\">\n",
       "  <thead>\n",
       "    <tr style=\"text-align: right;\">\n",
       "      <th></th>\n",
       "      <th>Participant ID</th>\n",
       "      <th>Collection Date</th>\n",
       "      <th>Visit</th>\n",
       "      <th>Wheal (mm)</th>\n",
       "      <th>OUT24NOI</th>\n",
       "    </tr>\n",
       "  </thead>\n",
       "  <tbody>\n",
       "    <tr>\n",
       "      <th>5</th>\n",
       "      <td>IMPACT_102436</td>\n",
       "      <td>2015-11-20</td>\n",
       "      <td>24</td>\n",
       "      <td>2.5</td>\n",
       "      <td>1.0</td>\n",
       "    </tr>\n",
       "    <tr>\n",
       "      <th>10</th>\n",
       "      <td>IMPACT_105670</td>\n",
       "      <td>2015-11-25</td>\n",
       "      <td>24</td>\n",
       "      <td>0.0</td>\n",
       "      <td>1.0</td>\n",
       "    </tr>\n",
       "    <tr>\n",
       "      <th>15</th>\n",
       "      <td>IMPACT_113135</td>\n",
       "      <td>2016-09-12</td>\n",
       "      <td>24</td>\n",
       "      <td>24.5</td>\n",
       "      <td>0.0</td>\n",
       "    </tr>\n",
       "    <tr>\n",
       "      <th>20</th>\n",
       "      <td>IMPACT_115876</td>\n",
       "      <td>2016-11-09</td>\n",
       "      <td>24</td>\n",
       "      <td>27.5</td>\n",
       "      <td>0.0</td>\n",
       "    </tr>\n",
       "    <tr>\n",
       "      <th>25</th>\n",
       "      <td>IMPACT_136775</td>\n",
       "      <td>2017-11-20</td>\n",
       "      <td>24</td>\n",
       "      <td>7.5</td>\n",
       "      <td>0.0</td>\n",
       "    </tr>\n",
       "  </tbody>\n",
       "</table>\n",
       "</div>"
      ],
      "text/plain": [
       "   Participant ID Collection Date  Visit  Wheal (mm)  OUT24NOI\n",
       "5   IMPACT_102436      2015-11-20     24         2.5       1.0\n",
       "10  IMPACT_105670      2015-11-25     24         0.0       1.0\n",
       "15  IMPACT_113135      2016-09-12     24        24.5       0.0\n",
       "20  IMPACT_115876      2016-11-09     24        27.5       0.0\n",
       "25  IMPACT_136775      2017-11-20     24         7.5       0.0"
      ]
     },
     "execution_count": 36,
     "metadata": {},
     "output_type": "execute_result"
    }
   ],
   "source": [
    "impact_spt_eligible_24_common.head()"
   ]
  },
  {
   "cell_type": "code",
   "execution_count": 37,
   "metadata": {},
   "outputs": [],
   "source": [
    "#Merging ad and spt  \n",
    "merged_ad_spt = impact_ad_eligible_24_common.merge(impact_spt_eligible_24_common, \n",
    "                                                               how='outer', #preserves all rows and adds NaN for empty rows\n",
    "                                                               on=['Participant ID'])\n"
   ]
  },
  {
   "cell_type": "code",
   "execution_count": 38,
   "metadata": {},
   "outputs": [],
   "source": [
    "# calculate the time difference in months and add it to 'Age at Screening (years) Not Rounded'\n",
    "merged_ad_spt['Age at OFC 24'] = merged_ad_spt.apply(\n",
    "    lambda row: row['Age at Screening (years) Not Rounded'] + pd.Timedelta(row['Collection Date'] - row['Date of Screening Visit']).days / 30, axis=1\n",
    ")\n"
   ]
  },
  {
   "cell_type": "code",
   "execution_count": 39,
   "metadata": {},
   "outputs": [],
   "source": [
    "# round the 'Age at OFC 24' column to the nearest month\n",
    "merged_ad_spt['Age at OFC 24'] = merged_ad_spt['Age at OFC 24'].round(1)\n",
    "\n"
   ]
  },
  {
   "cell_type": "code",
   "execution_count": 40,
   "metadata": {},
   "outputs": [],
   "source": [
    "# dropping initial screening column (and other unecessary cols)\n",
    "\n",
    "merged_ad_spt = merged_ad_spt.drop(columns = ['Date of Screening Visit', \n",
    "                                              'Completed Study Assessments Numeric', \n",
    "                                              'Study Termination Reason', \n",
    "                                              'Study Status',\n",
    "                                              'Age at Screening (years) Not Rounded'\n",
    "                                             ])"
   ]
  },
  {
   "cell_type": "code",
   "execution_count": 41,
   "metadata": {},
   "outputs": [
    {
     "name": "stdout",
     "output_type": "stream",
     "text": [
      "(117, 8)\n"
     ]
    },
    {
     "data": {
      "text/html": [
       "<div>\n",
       "<style scoped>\n",
       "    .dataframe tbody tr th:only-of-type {\n",
       "        vertical-align: middle;\n",
       "    }\n",
       "\n",
       "    .dataframe tbody tr th {\n",
       "        vertical-align: top;\n",
       "    }\n",
       "\n",
       "    .dataframe thead th {\n",
       "        text-align: right;\n",
       "    }\n",
       "</style>\n",
       "<table border=\"1\" class=\"dataframe\">\n",
       "  <thead>\n",
       "    <tr style=\"text-align: right;\">\n",
       "      <th></th>\n",
       "      <th>Participant ID</th>\n",
       "      <th>Sex (character)</th>\n",
       "      <th>Race</th>\n",
       "      <th>Collection Date</th>\n",
       "      <th>Visit</th>\n",
       "      <th>Wheal (mm)</th>\n",
       "      <th>OUT24NOI</th>\n",
       "      <th>Age at OFC 24</th>\n",
       "    </tr>\n",
       "  </thead>\n",
       "  <tbody>\n",
       "    <tr>\n",
       "      <th>0</th>\n",
       "      <td>IMPACT_102436</td>\n",
       "      <td>Male</td>\n",
       "      <td>White/Caucasian</td>\n",
       "      <td>2015-11-20</td>\n",
       "      <td>24</td>\n",
       "      <td>2.5</td>\n",
       "      <td>1.0</td>\n",
       "      <td>79.5</td>\n",
       "    </tr>\n",
       "    <tr>\n",
       "      <th>1</th>\n",
       "      <td>IMPACT_105670</td>\n",
       "      <td>Female</td>\n",
       "      <td>White/Caucasian</td>\n",
       "      <td>2015-11-25</td>\n",
       "      <td>24</td>\n",
       "      <td>0.0</td>\n",
       "      <td>1.0</td>\n",
       "      <td>68.2</td>\n",
       "    </tr>\n",
       "    <tr>\n",
       "      <th>2</th>\n",
       "      <td>IMPACT_113135</td>\n",
       "      <td>Female</td>\n",
       "      <td>White/Caucasian</td>\n",
       "      <td>2016-09-12</td>\n",
       "      <td>24</td>\n",
       "      <td>24.5</td>\n",
       "      <td>0.0</td>\n",
       "      <td>65.3</td>\n",
       "    </tr>\n",
       "    <tr>\n",
       "      <th>3</th>\n",
       "      <td>IMPACT_115876</td>\n",
       "      <td>Male</td>\n",
       "      <td>Mixed Race</td>\n",
       "      <td>2016-11-09</td>\n",
       "      <td>24</td>\n",
       "      <td>27.5</td>\n",
       "      <td>0.0</td>\n",
       "      <td>58.6</td>\n",
       "    </tr>\n",
       "    <tr>\n",
       "      <th>4</th>\n",
       "      <td>IMPACT_136775</td>\n",
       "      <td>Female</td>\n",
       "      <td>Mixed Race</td>\n",
       "      <td>2017-11-20</td>\n",
       "      <td>24</td>\n",
       "      <td>7.5</td>\n",
       "      <td>0.0</td>\n",
       "      <td>74.3</td>\n",
       "    </tr>\n",
       "  </tbody>\n",
       "</table>\n",
       "</div>"
      ],
      "text/plain": [
       "  Participant ID Sex (character)             Race Collection Date  Visit  \\\n",
       "0  IMPACT_102436            Male  White/Caucasian      2015-11-20     24   \n",
       "1  IMPACT_105670          Female  White/Caucasian      2015-11-25     24   \n",
       "2  IMPACT_113135          Female  White/Caucasian      2016-09-12     24   \n",
       "3  IMPACT_115876            Male       Mixed Race      2016-11-09     24   \n",
       "4  IMPACT_136775          Female       Mixed Race      2017-11-20     24   \n",
       "\n",
       "   Wheal (mm)  OUT24NOI  Age at OFC 24  \n",
       "0         2.5       1.0           79.5  \n",
       "1         0.0       1.0           68.2  \n",
       "2        24.5       0.0           65.3  \n",
       "3        27.5       0.0           58.6  \n",
       "4         7.5       0.0           74.3  "
      ]
     },
     "execution_count": 41,
     "metadata": {},
     "output_type": "execute_result"
    }
   ],
   "source": [
    "print(merged_ad_spt.shape)\n",
    "merged_ad_spt.head()"
   ]
  },
  {
   "cell_type": "code",
   "execution_count": null,
   "metadata": {},
   "outputs": [],
   "source": []
  },
  {
   "cell_type": "code",
   "execution_count": null,
   "metadata": {},
   "outputs": [],
   "source": []
  },
  {
   "cell_type": "markdown",
   "metadata": {},
   "source": [
    "# 3 datasets left to merge\n"
   ]
  },
  {
   "cell_type": "code",
   "execution_count": 42,
   "metadata": {},
   "outputs": [],
   "source": [
    "# 3 datasets left to merge: \n",
    "# merged_ad_spt -> contains AGE at 24\n",
    "# impact_ige_eligible_24_common -> contains components \n",
    "# impact_serum_eligible_24_common -> contains Peanut & Total IgE \n",
    "\n"
   ]
  },
  {
   "cell_type": "code",
   "execution_count": 43,
   "metadata": {},
   "outputs": [
    {
     "name": "stdout",
     "output_type": "stream",
     "text": [
      "(117, 8)\n"
     ]
    },
    {
     "data": {
      "text/html": [
       "<div>\n",
       "<style scoped>\n",
       "    .dataframe tbody tr th:only-of-type {\n",
       "        vertical-align: middle;\n",
       "    }\n",
       "\n",
       "    .dataframe tbody tr th {\n",
       "        vertical-align: top;\n",
       "    }\n",
       "\n",
       "    .dataframe thead th {\n",
       "        text-align: right;\n",
       "    }\n",
       "</style>\n",
       "<table border=\"1\" class=\"dataframe\">\n",
       "  <thead>\n",
       "    <tr style=\"text-align: right;\">\n",
       "      <th></th>\n",
       "      <th>Participant ID</th>\n",
       "      <th>Sex (character)</th>\n",
       "      <th>Race</th>\n",
       "      <th>Collection Date</th>\n",
       "      <th>Visit</th>\n",
       "      <th>Wheal (mm)</th>\n",
       "      <th>OUT24NOI</th>\n",
       "      <th>Age at OFC 24</th>\n",
       "    </tr>\n",
       "  </thead>\n",
       "  <tbody>\n",
       "    <tr>\n",
       "      <th>0</th>\n",
       "      <td>IMPACT_102436</td>\n",
       "      <td>Male</td>\n",
       "      <td>White/Caucasian</td>\n",
       "      <td>2015-11-20</td>\n",
       "      <td>24</td>\n",
       "      <td>2.5</td>\n",
       "      <td>1.0</td>\n",
       "      <td>79.5</td>\n",
       "    </tr>\n",
       "    <tr>\n",
       "      <th>1</th>\n",
       "      <td>IMPACT_105670</td>\n",
       "      <td>Female</td>\n",
       "      <td>White/Caucasian</td>\n",
       "      <td>2015-11-25</td>\n",
       "      <td>24</td>\n",
       "      <td>0.0</td>\n",
       "      <td>1.0</td>\n",
       "      <td>68.2</td>\n",
       "    </tr>\n",
       "    <tr>\n",
       "      <th>2</th>\n",
       "      <td>IMPACT_113135</td>\n",
       "      <td>Female</td>\n",
       "      <td>White/Caucasian</td>\n",
       "      <td>2016-09-12</td>\n",
       "      <td>24</td>\n",
       "      <td>24.5</td>\n",
       "      <td>0.0</td>\n",
       "      <td>65.3</td>\n",
       "    </tr>\n",
       "    <tr>\n",
       "      <th>3</th>\n",
       "      <td>IMPACT_115876</td>\n",
       "      <td>Male</td>\n",
       "      <td>Mixed Race</td>\n",
       "      <td>2016-11-09</td>\n",
       "      <td>24</td>\n",
       "      <td>27.5</td>\n",
       "      <td>0.0</td>\n",
       "      <td>58.6</td>\n",
       "    </tr>\n",
       "    <tr>\n",
       "      <th>4</th>\n",
       "      <td>IMPACT_136775</td>\n",
       "      <td>Female</td>\n",
       "      <td>Mixed Race</td>\n",
       "      <td>2017-11-20</td>\n",
       "      <td>24</td>\n",
       "      <td>7.5</td>\n",
       "      <td>0.0</td>\n",
       "      <td>74.3</td>\n",
       "    </tr>\n",
       "  </tbody>\n",
       "</table>\n",
       "</div>"
      ],
      "text/plain": [
       "  Participant ID Sex (character)             Race Collection Date  Visit  \\\n",
       "0  IMPACT_102436            Male  White/Caucasian      2015-11-20     24   \n",
       "1  IMPACT_105670          Female  White/Caucasian      2015-11-25     24   \n",
       "2  IMPACT_113135          Female  White/Caucasian      2016-09-12     24   \n",
       "3  IMPACT_115876            Male       Mixed Race      2016-11-09     24   \n",
       "4  IMPACT_136775          Female       Mixed Race      2017-11-20     24   \n",
       "\n",
       "   Wheal (mm)  OUT24NOI  Age at OFC 24  \n",
       "0         2.5       1.0           79.5  \n",
       "1         0.0       1.0           68.2  \n",
       "2        24.5       0.0           65.3  \n",
       "3        27.5       0.0           58.6  \n",
       "4         7.5       0.0           74.3  "
      ]
     },
     "execution_count": 43,
     "metadata": {},
     "output_type": "execute_result"
    }
   ],
   "source": [
    "print(merged_ad_spt.shape)\n",
    "merged_ad_spt.head()"
   ]
  },
  {
   "cell_type": "code",
   "execution_count": 44,
   "metadata": {},
   "outputs": [
    {
     "name": "stdout",
     "output_type": "stream",
     "text": [
      "(936, 7)\n"
     ]
    },
    {
     "data": {
      "text/html": [
       "<div>\n",
       "<style scoped>\n",
       "    .dataframe tbody tr th:only-of-type {\n",
       "        vertical-align: middle;\n",
       "    }\n",
       "\n",
       "    .dataframe tbody tr th {\n",
       "        vertical-align: top;\n",
       "    }\n",
       "\n",
       "    .dataframe thead th {\n",
       "        text-align: right;\n",
       "    }\n",
       "</style>\n",
       "<table border=\"1\" class=\"dataframe\">\n",
       "  <thead>\n",
       "    <tr style=\"text-align: right;\">\n",
       "      <th></th>\n",
       "      <th>Participant ID</th>\n",
       "      <th>Collection Date</th>\n",
       "      <th>Visit</th>\n",
       "      <th>Antibody</th>\n",
       "      <th>Component</th>\n",
       "      <th>Value</th>\n",
       "      <th>Unit</th>\n",
       "    </tr>\n",
       "  </thead>\n",
       "  <tbody>\n",
       "    <tr>\n",
       "      <th>40</th>\n",
       "      <td>IMPACT_102436</td>\n",
       "      <td>2015-11-20</td>\n",
       "      <td>24</td>\n",
       "      <td>IgE</td>\n",
       "      <td>rAra h 1</td>\n",
       "      <td>1.14</td>\n",
       "      <td>kUA/L</td>\n",
       "    </tr>\n",
       "    <tr>\n",
       "      <th>41</th>\n",
       "      <td>IMPACT_102436</td>\n",
       "      <td>2015-11-20</td>\n",
       "      <td>24</td>\n",
       "      <td>IgE</td>\n",
       "      <td>rAra h 2</td>\n",
       "      <td>8.67</td>\n",
       "      <td>kUA/L</td>\n",
       "    </tr>\n",
       "    <tr>\n",
       "      <th>42</th>\n",
       "      <td>IMPACT_102436</td>\n",
       "      <td>2015-11-20</td>\n",
       "      <td>24</td>\n",
       "      <td>IgE</td>\n",
       "      <td>rAra h 3</td>\n",
       "      <td>0.05</td>\n",
       "      <td>kUA/L</td>\n",
       "    </tr>\n",
       "    <tr>\n",
       "      <th>43</th>\n",
       "      <td>IMPACT_102436</td>\n",
       "      <td>2015-11-20</td>\n",
       "      <td>24</td>\n",
       "      <td>IgE</td>\n",
       "      <td>rAra h 6</td>\n",
       "      <td>6.64</td>\n",
       "      <td>kUA/L</td>\n",
       "    </tr>\n",
       "    <tr>\n",
       "      <th>44</th>\n",
       "      <td>IMPACT_102436</td>\n",
       "      <td>2015-11-20</td>\n",
       "      <td>24</td>\n",
       "      <td>IgG4</td>\n",
       "      <td>rAra h 1</td>\n",
       "      <td>12.90</td>\n",
       "      <td>MG/L</td>\n",
       "    </tr>\n",
       "  </tbody>\n",
       "</table>\n",
       "</div>"
      ],
      "text/plain": [
       "   Participant ID Collection Date  Visit Antibody Component  Value   Unit\n",
       "40  IMPACT_102436      2015-11-20     24      IgE  rAra h 1   1.14  kUA/L\n",
       "41  IMPACT_102436      2015-11-20     24      IgE  rAra h 2   8.67  kUA/L\n",
       "42  IMPACT_102436      2015-11-20     24      IgE  rAra h 3   0.05  kUA/L\n",
       "43  IMPACT_102436      2015-11-20     24      IgE  rAra h 6   6.64  kUA/L\n",
       "44  IMPACT_102436      2015-11-20     24     IgG4  rAra h 1  12.90   MG/L"
      ]
     },
     "execution_count": 44,
     "metadata": {},
     "output_type": "execute_result"
    }
   ],
   "source": [
    "print(impact_ige_eligible_24_common.shape)\n",
    "impact_ige_eligible_24_common.head()"
   ]
  },
  {
   "cell_type": "code",
   "execution_count": 45,
   "metadata": {},
   "outputs": [
    {
     "name": "stdout",
     "output_type": "stream",
     "text": [
      "(585, 8)\n"
     ]
    },
    {
     "data": {
      "text/html": [
       "<div>\n",
       "<style scoped>\n",
       "    .dataframe tbody tr th:only-of-type {\n",
       "        vertical-align: middle;\n",
       "    }\n",
       "\n",
       "    .dataframe tbody tr th {\n",
       "        vertical-align: top;\n",
       "    }\n",
       "\n",
       "    .dataframe thead th {\n",
       "        text-align: right;\n",
       "    }\n",
       "</style>\n",
       "<table border=\"1\" class=\"dataframe\">\n",
       "  <thead>\n",
       "    <tr style=\"text-align: right;\">\n",
       "      <th></th>\n",
       "      <th>Participant ID</th>\n",
       "      <th>Collection Date</th>\n",
       "      <th>Visit</th>\n",
       "      <th>Test Name</th>\n",
       "      <th>Unit</th>\n",
       "      <th>Value</th>\n",
       "      <th>Passed Visit 24 OFC No Imputation</th>\n",
       "      <th>Passed Visit 26 OFC No Imputation</th>\n",
       "    </tr>\n",
       "  </thead>\n",
       "  <tbody>\n",
       "    <tr>\n",
       "      <th>25</th>\n",
       "      <td>IMPACT_102436</td>\n",
       "      <td>2015-11-20</td>\n",
       "      <td>24</td>\n",
       "      <td>Peanut IgE</td>\n",
       "      <td>kU/L</td>\n",
       "      <td>8.410000</td>\n",
       "      <td>1.0</td>\n",
       "      <td>0.0</td>\n",
       "    </tr>\n",
       "    <tr>\n",
       "      <th>26</th>\n",
       "      <td>IMPACT_102436</td>\n",
       "      <td>2015-11-20</td>\n",
       "      <td>24</td>\n",
       "      <td>Peanut IgE/Total IgE ratio</td>\n",
       "      <td>Ratio</td>\n",
       "      <td>8.670103</td>\n",
       "      <td>1.0</td>\n",
       "      <td>0.0</td>\n",
       "    </tr>\n",
       "    <tr>\n",
       "      <th>27</th>\n",
       "      <td>IMPACT_102436</td>\n",
       "      <td>2015-11-20</td>\n",
       "      <td>24</td>\n",
       "      <td>Peanut IgG4*</td>\n",
       "      <td>mcg/mL</td>\n",
       "      <td>90.200000</td>\n",
       "      <td>1.0</td>\n",
       "      <td>0.0</td>\n",
       "    </tr>\n",
       "    <tr>\n",
       "      <th>28</th>\n",
       "      <td>IMPACT_102436</td>\n",
       "      <td>2015-11-20</td>\n",
       "      <td>24</td>\n",
       "      <td>Peanut IgG4/IgE ratio</td>\n",
       "      <td>Ratio</td>\n",
       "      <td>4.468886</td>\n",
       "      <td>1.0</td>\n",
       "      <td>0.0</td>\n",
       "    </tr>\n",
       "    <tr>\n",
       "      <th>29</th>\n",
       "      <td>IMPACT_102436</td>\n",
       "      <td>2015-11-20</td>\n",
       "      <td>24</td>\n",
       "      <td>Total IgE</td>\n",
       "      <td>IU/mL</td>\n",
       "      <td>97.000000</td>\n",
       "      <td>1.0</td>\n",
       "      <td>0.0</td>\n",
       "    </tr>\n",
       "  </tbody>\n",
       "</table>\n",
       "</div>"
      ],
      "text/plain": [
       "   Participant ID Collection Date  Visit                   Test Name    Unit  \\\n",
       "25  IMPACT_102436      2015-11-20     24                  Peanut IgE    kU/L   \n",
       "26  IMPACT_102436      2015-11-20     24  Peanut IgE/Total IgE ratio   Ratio   \n",
       "27  IMPACT_102436      2015-11-20     24                Peanut IgG4*  mcg/mL   \n",
       "28  IMPACT_102436      2015-11-20     24       Peanut IgG4/IgE ratio   Ratio   \n",
       "29  IMPACT_102436      2015-11-20     24                   Total IgE   IU/mL   \n",
       "\n",
       "        Value  Passed Visit 24 OFC No Imputation  \\\n",
       "25   8.410000                                1.0   \n",
       "26   8.670103                                1.0   \n",
       "27  90.200000                                1.0   \n",
       "28   4.468886                                1.0   \n",
       "29  97.000000                                1.0   \n",
       "\n",
       "    Passed Visit 26 OFC No Imputation  \n",
       "25                                0.0  \n",
       "26                                0.0  \n",
       "27                                0.0  \n",
       "28                                0.0  \n",
       "29                                0.0  "
      ]
     },
     "execution_count": 45,
     "metadata": {},
     "output_type": "execute_result"
    }
   ],
   "source": [
    "print(impact_serum_eligible_24_common.shape)\n",
    "impact_serum_eligible_24_common.head()"
   ]
  },
  {
   "cell_type": "code",
   "execution_count": null,
   "metadata": {},
   "outputs": [],
   "source": []
  },
  {
   "cell_type": "code",
   "execution_count": null,
   "metadata": {},
   "outputs": [],
   "source": []
  },
  {
   "cell_type": "markdown",
   "metadata": {},
   "source": [
    "# Breaking out components into columns \n",
    "in \"impact_ige_eligible_24_common\""
   ]
  },
  {
   "cell_type": "code",
   "execution_count": 46,
   "metadata": {},
   "outputs": [],
   "source": [
    "# dropping IgG4 from Antibody column, only want IgE\n",
    "impact_ige_eligible_24_common = impact_ige_eligible_24_common[impact_ige_eligible_24_common['Antibody']=='IgE']\n"
   ]
  },
  {
   "cell_type": "code",
   "execution_count": 47,
   "metadata": {},
   "outputs": [],
   "source": [
    "# Creating new columns for each component\n",
    "\n",
    "# Create new columns with initial NaN values\n",
    "impact_ige_eligible_24_common['Ara h1 (kU/L)'] = np.nan\n",
    "impact_ige_eligible_24_common['Ara h2 (kU/L)'] = np.nan\n",
    "impact_ige_eligible_24_common['Ara h3 (kU/L)'] = np.nan\n",
    "impact_ige_eligible_24_common['Ara h6 (kU/L)'] = np.nan\n",
    "\n",
    "# Populate the new columns based on conditions\n",
    "impact_ige_eligible_24_common.loc[impact_ige_eligible_24_common['Component'] == 'rAra h 1', 'Ara h1 (kU/L)'] = impact_ige_eligible_24_common.loc[impact_ige_eligible_24_common['Component'] == 'rAra h 1', 'Value']\n",
    "impact_ige_eligible_24_common.loc[impact_ige_eligible_24_common['Component'] == 'rAra h 2', 'Ara h2 (kU/L)'] = impact_ige_eligible_24_common.loc[impact_ige_eligible_24_common['Component'] == 'rAra h 2', 'Value']\n",
    "impact_ige_eligible_24_common.loc[impact_ige_eligible_24_common['Component'] == 'rAra h 3', 'Ara h3 (kU/L)'] = impact_ige_eligible_24_common.loc[impact_ige_eligible_24_common['Component'] == 'rAra h 3', 'Value']\n",
    "impact_ige_eligible_24_common.loc[impact_ige_eligible_24_common['Component'] == 'rAra h 6', 'Ara h6 (kU/L)'] = impact_ige_eligible_24_common.loc[impact_ige_eligible_24_common['Component'] == 'rAra h 6', 'Value']\n",
    "\n",
    "# Drop the specified columns\n",
    "impact_ige_eligible_24_common = impact_ige_eligible_24_common.drop(columns=['Antibody', 'Component', 'Value', 'Unit'])\n",
    "\n"
   ]
  },
  {
   "cell_type": "code",
   "execution_count": 48,
   "metadata": {},
   "outputs": [
    {
     "name": "stdout",
     "output_type": "stream",
     "text": [
      "(468, 7)\n"
     ]
    },
    {
     "data": {
      "text/html": [
       "<div>\n",
       "<style scoped>\n",
       "    .dataframe tbody tr th:only-of-type {\n",
       "        vertical-align: middle;\n",
       "    }\n",
       "\n",
       "    .dataframe tbody tr th {\n",
       "        vertical-align: top;\n",
       "    }\n",
       "\n",
       "    .dataframe thead th {\n",
       "        text-align: right;\n",
       "    }\n",
       "</style>\n",
       "<table border=\"1\" class=\"dataframe\">\n",
       "  <thead>\n",
       "    <tr style=\"text-align: right;\">\n",
       "      <th></th>\n",
       "      <th>Participant ID</th>\n",
       "      <th>Collection Date</th>\n",
       "      <th>Visit</th>\n",
       "      <th>Ara h1 (kU/L)</th>\n",
       "      <th>Ara h2 (kU/L)</th>\n",
       "      <th>Ara h3 (kU/L)</th>\n",
       "      <th>Ara h6 (kU/L)</th>\n",
       "    </tr>\n",
       "  </thead>\n",
       "  <tbody>\n",
       "    <tr>\n",
       "      <th>40</th>\n",
       "      <td>IMPACT_102436</td>\n",
       "      <td>2015-11-20</td>\n",
       "      <td>24</td>\n",
       "      <td>1.14</td>\n",
       "      <td>NaN</td>\n",
       "      <td>NaN</td>\n",
       "      <td>NaN</td>\n",
       "    </tr>\n",
       "    <tr>\n",
       "      <th>41</th>\n",
       "      <td>IMPACT_102436</td>\n",
       "      <td>2015-11-20</td>\n",
       "      <td>24</td>\n",
       "      <td>NaN</td>\n",
       "      <td>8.67</td>\n",
       "      <td>NaN</td>\n",
       "      <td>NaN</td>\n",
       "    </tr>\n",
       "    <tr>\n",
       "      <th>42</th>\n",
       "      <td>IMPACT_102436</td>\n",
       "      <td>2015-11-20</td>\n",
       "      <td>24</td>\n",
       "      <td>NaN</td>\n",
       "      <td>NaN</td>\n",
       "      <td>0.05</td>\n",
       "      <td>NaN</td>\n",
       "    </tr>\n",
       "    <tr>\n",
       "      <th>43</th>\n",
       "      <td>IMPACT_102436</td>\n",
       "      <td>2015-11-20</td>\n",
       "      <td>24</td>\n",
       "      <td>NaN</td>\n",
       "      <td>NaN</td>\n",
       "      <td>NaN</td>\n",
       "      <td>6.64</td>\n",
       "    </tr>\n",
       "    <tr>\n",
       "      <th>72</th>\n",
       "      <td>IMPACT_105670</td>\n",
       "      <td>2015-11-25</td>\n",
       "      <td>24</td>\n",
       "      <td>1.95</td>\n",
       "      <td>NaN</td>\n",
       "      <td>NaN</td>\n",
       "      <td>NaN</td>\n",
       "    </tr>\n",
       "    <tr>\n",
       "      <th>73</th>\n",
       "      <td>IMPACT_105670</td>\n",
       "      <td>2015-11-25</td>\n",
       "      <td>24</td>\n",
       "      <td>NaN</td>\n",
       "      <td>10.40</td>\n",
       "      <td>NaN</td>\n",
       "      <td>NaN</td>\n",
       "    </tr>\n",
       "    <tr>\n",
       "      <th>74</th>\n",
       "      <td>IMPACT_105670</td>\n",
       "      <td>2015-11-25</td>\n",
       "      <td>24</td>\n",
       "      <td>NaN</td>\n",
       "      <td>NaN</td>\n",
       "      <td>0.39</td>\n",
       "      <td>NaN</td>\n",
       "    </tr>\n",
       "    <tr>\n",
       "      <th>75</th>\n",
       "      <td>IMPACT_105670</td>\n",
       "      <td>2015-11-25</td>\n",
       "      <td>24</td>\n",
       "      <td>NaN</td>\n",
       "      <td>NaN</td>\n",
       "      <td>NaN</td>\n",
       "      <td>4.97</td>\n",
       "    </tr>\n",
       "    <tr>\n",
       "      <th>112</th>\n",
       "      <td>IMPACT_113135</td>\n",
       "      <td>2016-09-12</td>\n",
       "      <td>24</td>\n",
       "      <td>16.30</td>\n",
       "      <td>NaN</td>\n",
       "      <td>NaN</td>\n",
       "      <td>NaN</td>\n",
       "    </tr>\n",
       "    <tr>\n",
       "      <th>113</th>\n",
       "      <td>IMPACT_113135</td>\n",
       "      <td>2016-09-12</td>\n",
       "      <td>24</td>\n",
       "      <td>NaN</td>\n",
       "      <td>181.00</td>\n",
       "      <td>NaN</td>\n",
       "      <td>NaN</td>\n",
       "    </tr>\n",
       "  </tbody>\n",
       "</table>\n",
       "</div>"
      ],
      "text/plain": [
       "    Participant ID Collection Date  Visit  Ara h1 (kU/L)  Ara h2 (kU/L)  \\\n",
       "40   IMPACT_102436      2015-11-20     24           1.14            NaN   \n",
       "41   IMPACT_102436      2015-11-20     24            NaN           8.67   \n",
       "42   IMPACT_102436      2015-11-20     24            NaN            NaN   \n",
       "43   IMPACT_102436      2015-11-20     24            NaN            NaN   \n",
       "72   IMPACT_105670      2015-11-25     24           1.95            NaN   \n",
       "73   IMPACT_105670      2015-11-25     24            NaN          10.40   \n",
       "74   IMPACT_105670      2015-11-25     24            NaN            NaN   \n",
       "75   IMPACT_105670      2015-11-25     24            NaN            NaN   \n",
       "112  IMPACT_113135      2016-09-12     24          16.30            NaN   \n",
       "113  IMPACT_113135      2016-09-12     24            NaN         181.00   \n",
       "\n",
       "     Ara h3 (kU/L)  Ara h6 (kU/L)  \n",
       "40             NaN            NaN  \n",
       "41             NaN            NaN  \n",
       "42            0.05            NaN  \n",
       "43             NaN           6.64  \n",
       "72             NaN            NaN  \n",
       "73             NaN            NaN  \n",
       "74            0.39            NaN  \n",
       "75             NaN           4.97  \n",
       "112            NaN            NaN  \n",
       "113            NaN            NaN  "
      ]
     },
     "execution_count": 48,
     "metadata": {},
     "output_type": "execute_result"
    }
   ],
   "source": [
    "print(impact_ige_eligible_24_common.shape)\n",
    "impact_ige_eligible_24_common.head(10)\n"
   ]
  },
  {
   "cell_type": "code",
   "execution_count": 50,
   "metadata": {},
   "outputs": [],
   "source": [
    "# Merging duplicate rows and overwriting NaN values\n",
    "\n",
    "# Group by columns and aggregate using the mean (for numeric columns) or first (for non-numeric columns)\n",
    "impact_ige_eligible_24_common = impact_ige_eligible_24_common.groupby(['Participant ID', 'Collection Date', 'Visit'], as_index=False).agg({'Ara h1 (kU/L)': 'mean', 'Ara h2 (kU/L)': 'mean', 'Ara h3 (kU/L)': 'mean', 'Ara h6 (kU/L)': 'mean'})\n",
    "\n",
    "\n",
    "# Reset the index\n",
    "impact_ige_eligible_24_common.reset_index(drop=True, inplace=True)\n",
    "\n"
   ]
  },
  {
   "cell_type": "code",
   "execution_count": 53,
   "metadata": {},
   "outputs": [
    {
     "name": "stdout",
     "output_type": "stream",
     "text": [
      "(117, 7)\n"
     ]
    },
    {
     "data": {
      "text/html": [
       "<div>\n",
       "<style scoped>\n",
       "    .dataframe tbody tr th:only-of-type {\n",
       "        vertical-align: middle;\n",
       "    }\n",
       "\n",
       "    .dataframe tbody tr th {\n",
       "        vertical-align: top;\n",
       "    }\n",
       "\n",
       "    .dataframe thead th {\n",
       "        text-align: right;\n",
       "    }\n",
       "</style>\n",
       "<table border=\"1\" class=\"dataframe\">\n",
       "  <thead>\n",
       "    <tr style=\"text-align: right;\">\n",
       "      <th></th>\n",
       "      <th>Participant ID</th>\n",
       "      <th>Collection Date</th>\n",
       "      <th>Visit</th>\n",
       "      <th>Ara h1 (kU/L)</th>\n",
       "      <th>Ara h2 (kU/L)</th>\n",
       "      <th>Ara h3 (kU/L)</th>\n",
       "      <th>Ara h6 (kU/L)</th>\n",
       "    </tr>\n",
       "  </thead>\n",
       "  <tbody>\n",
       "    <tr>\n",
       "      <th>0</th>\n",
       "      <td>IMPACT_102436</td>\n",
       "      <td>2015-11-20</td>\n",
       "      <td>24</td>\n",
       "      <td>1.14</td>\n",
       "      <td>8.67</td>\n",
       "      <td>0.05</td>\n",
       "      <td>6.64</td>\n",
       "    </tr>\n",
       "    <tr>\n",
       "      <th>1</th>\n",
       "      <td>IMPACT_105670</td>\n",
       "      <td>2015-11-25</td>\n",
       "      <td>24</td>\n",
       "      <td>1.95</td>\n",
       "      <td>10.40</td>\n",
       "      <td>0.39</td>\n",
       "      <td>4.97</td>\n",
       "    </tr>\n",
       "    <tr>\n",
       "      <th>2</th>\n",
       "      <td>IMPACT_113135</td>\n",
       "      <td>2016-09-12</td>\n",
       "      <td>24</td>\n",
       "      <td>16.30</td>\n",
       "      <td>181.00</td>\n",
       "      <td>1.40</td>\n",
       "      <td>190.00</td>\n",
       "    </tr>\n",
       "    <tr>\n",
       "      <th>3</th>\n",
       "      <td>IMPACT_115876</td>\n",
       "      <td>2016-11-09</td>\n",
       "      <td>24</td>\n",
       "      <td>8.75</td>\n",
       "      <td>9.54</td>\n",
       "      <td>0.05</td>\n",
       "      <td>11.00</td>\n",
       "    </tr>\n",
       "    <tr>\n",
       "      <th>4</th>\n",
       "      <td>IMPACT_136775</td>\n",
       "      <td>2017-11-20</td>\n",
       "      <td>24</td>\n",
       "      <td>0.88</td>\n",
       "      <td>7.80</td>\n",
       "      <td>0.05</td>\n",
       "      <td>4.93</td>\n",
       "    </tr>\n",
       "    <tr>\n",
       "      <th>5</th>\n",
       "      <td>IMPACT_139237</td>\n",
       "      <td>2017-08-23</td>\n",
       "      <td>24</td>\n",
       "      <td>19.20</td>\n",
       "      <td>102.00</td>\n",
       "      <td>2.28</td>\n",
       "      <td>62.20</td>\n",
       "    </tr>\n",
       "    <tr>\n",
       "      <th>6</th>\n",
       "      <td>IMPACT_149018</td>\n",
       "      <td>2017-04-17</td>\n",
       "      <td>24</td>\n",
       "      <td>13.90</td>\n",
       "      <td>15.30</td>\n",
       "      <td>1.06</td>\n",
       "      <td>12.30</td>\n",
       "    </tr>\n",
       "    <tr>\n",
       "      <th>7</th>\n",
       "      <td>IMPACT_196748</td>\n",
       "      <td>2017-01-29</td>\n",
       "      <td>24</td>\n",
       "      <td>0.05</td>\n",
       "      <td>0.52</td>\n",
       "      <td>0.05</td>\n",
       "      <td>0.66</td>\n",
       "    </tr>\n",
       "    <tr>\n",
       "      <th>8</th>\n",
       "      <td>IMPACT_205488</td>\n",
       "      <td>2015-08-08</td>\n",
       "      <td>24</td>\n",
       "      <td>0.20</td>\n",
       "      <td>1.26</td>\n",
       "      <td>0.05</td>\n",
       "      <td>3.00</td>\n",
       "    </tr>\n",
       "    <tr>\n",
       "      <th>9</th>\n",
       "      <td>IMPACT_207729</td>\n",
       "      <td>2017-06-13</td>\n",
       "      <td>24</td>\n",
       "      <td>13.10</td>\n",
       "      <td>6.72</td>\n",
       "      <td>0.05</td>\n",
       "      <td>11.30</td>\n",
       "    </tr>\n",
       "    <tr>\n",
       "      <th>10</th>\n",
       "      <td>IMPACT_226208</td>\n",
       "      <td>2015-10-06</td>\n",
       "      <td>24</td>\n",
       "      <td>0.28</td>\n",
       "      <td>10.60</td>\n",
       "      <td>0.17</td>\n",
       "      <td>7.35</td>\n",
       "    </tr>\n",
       "    <tr>\n",
       "      <th>11</th>\n",
       "      <td>IMPACT_228754</td>\n",
       "      <td>2017-05-21</td>\n",
       "      <td>24</td>\n",
       "      <td>4.34</td>\n",
       "      <td>6.52</td>\n",
       "      <td>0.22</td>\n",
       "      <td>6.95</td>\n",
       "    </tr>\n",
       "    <tr>\n",
       "      <th>12</th>\n",
       "      <td>IMPACT_255737</td>\n",
       "      <td>2015-08-27</td>\n",
       "      <td>24</td>\n",
       "      <td>308.00</td>\n",
       "      <td>258.00</td>\n",
       "      <td>27.80</td>\n",
       "      <td>179.00</td>\n",
       "    </tr>\n",
       "    <tr>\n",
       "      <th>13</th>\n",
       "      <td>IMPACT_256280</td>\n",
       "      <td>2016-09-11</td>\n",
       "      <td>24</td>\n",
       "      <td>3.76</td>\n",
       "      <td>12.60</td>\n",
       "      <td>1.61</td>\n",
       "      <td>18.20</td>\n",
       "    </tr>\n",
       "    <tr>\n",
       "      <th>14</th>\n",
       "      <td>IMPACT_266884</td>\n",
       "      <td>2017-11-06</td>\n",
       "      <td>24</td>\n",
       "      <td>12.70</td>\n",
       "      <td>47.20</td>\n",
       "      <td>2.20</td>\n",
       "      <td>34.30</td>\n",
       "    </tr>\n",
       "    <tr>\n",
       "      <th>15</th>\n",
       "      <td>IMPACT_272641</td>\n",
       "      <td>2016-08-24</td>\n",
       "      <td>24</td>\n",
       "      <td>0.14</td>\n",
       "      <td>3.48</td>\n",
       "      <td>0.32</td>\n",
       "      <td>4.82</td>\n",
       "    </tr>\n",
       "    <tr>\n",
       "      <th>16</th>\n",
       "      <td>IMPACT_283272</td>\n",
       "      <td>2017-01-14</td>\n",
       "      <td>24</td>\n",
       "      <td>43.30</td>\n",
       "      <td>60.90</td>\n",
       "      <td>0.35</td>\n",
       "      <td>49.20</td>\n",
       "    </tr>\n",
       "    <tr>\n",
       "      <th>17</th>\n",
       "      <td>IMPACT_289709</td>\n",
       "      <td>2016-06-05</td>\n",
       "      <td>24</td>\n",
       "      <td>6.92</td>\n",
       "      <td>11.80</td>\n",
       "      <td>1.41</td>\n",
       "      <td>8.96</td>\n",
       "    </tr>\n",
       "    <tr>\n",
       "      <th>18</th>\n",
       "      <td>IMPACT_291362</td>\n",
       "      <td>2016-07-26</td>\n",
       "      <td>24</td>\n",
       "      <td>163.00</td>\n",
       "      <td>307.00</td>\n",
       "      <td>56.50</td>\n",
       "      <td>153.00</td>\n",
       "    </tr>\n",
       "    <tr>\n",
       "      <th>19</th>\n",
       "      <td>IMPACT_298007</td>\n",
       "      <td>2016-07-23</td>\n",
       "      <td>24</td>\n",
       "      <td>0.28</td>\n",
       "      <td>5.48</td>\n",
       "      <td>0.05</td>\n",
       "      <td>3.58</td>\n",
       "    </tr>\n",
       "  </tbody>\n",
       "</table>\n",
       "</div>"
      ],
      "text/plain": [
       "   Participant ID Collection Date  Visit  Ara h1 (kU/L)  Ara h2 (kU/L)  \\\n",
       "0   IMPACT_102436      2015-11-20     24           1.14           8.67   \n",
       "1   IMPACT_105670      2015-11-25     24           1.95          10.40   \n",
       "2   IMPACT_113135      2016-09-12     24          16.30         181.00   \n",
       "3   IMPACT_115876      2016-11-09     24           8.75           9.54   \n",
       "4   IMPACT_136775      2017-11-20     24           0.88           7.80   \n",
       "5   IMPACT_139237      2017-08-23     24          19.20         102.00   \n",
       "6   IMPACT_149018      2017-04-17     24          13.90          15.30   \n",
       "7   IMPACT_196748      2017-01-29     24           0.05           0.52   \n",
       "8   IMPACT_205488      2015-08-08     24           0.20           1.26   \n",
       "9   IMPACT_207729      2017-06-13     24          13.10           6.72   \n",
       "10  IMPACT_226208      2015-10-06     24           0.28          10.60   \n",
       "11  IMPACT_228754      2017-05-21     24           4.34           6.52   \n",
       "12  IMPACT_255737      2015-08-27     24         308.00         258.00   \n",
       "13  IMPACT_256280      2016-09-11     24           3.76          12.60   \n",
       "14  IMPACT_266884      2017-11-06     24          12.70          47.20   \n",
       "15  IMPACT_272641      2016-08-24     24           0.14           3.48   \n",
       "16  IMPACT_283272      2017-01-14     24          43.30          60.90   \n",
       "17  IMPACT_289709      2016-06-05     24           6.92          11.80   \n",
       "18  IMPACT_291362      2016-07-26     24         163.00         307.00   \n",
       "19  IMPACT_298007      2016-07-23     24           0.28           5.48   \n",
       "\n",
       "    Ara h3 (kU/L)  Ara h6 (kU/L)  \n",
       "0            0.05           6.64  \n",
       "1            0.39           4.97  \n",
       "2            1.40         190.00  \n",
       "3            0.05          11.00  \n",
       "4            0.05           4.93  \n",
       "5            2.28          62.20  \n",
       "6            1.06          12.30  \n",
       "7            0.05           0.66  \n",
       "8            0.05           3.00  \n",
       "9            0.05          11.30  \n",
       "10           0.17           7.35  \n",
       "11           0.22           6.95  \n",
       "12          27.80         179.00  \n",
       "13           1.61          18.20  \n",
       "14           2.20          34.30  \n",
       "15           0.32           4.82  \n",
       "16           0.35          49.20  \n",
       "17           1.41           8.96  \n",
       "18          56.50         153.00  \n",
       "19           0.05           3.58  "
      ]
     },
     "execution_count": 53,
     "metadata": {},
     "output_type": "execute_result"
    }
   ],
   "source": [
    "print(impact_ige_eligible_24_common.shape)\n",
    "impact_ige_eligible_24_common.head(20)\n"
   ]
  },
  {
   "cell_type": "code",
   "execution_count": 55,
   "metadata": {},
   "outputs": [
    {
     "name": "stdout",
     "output_type": "stream",
     "text": [
      "117\n"
     ]
    }
   ],
   "source": [
    "\n",
    "print(len(impact_ige_eligible_24_common['Participant ID'].unique().tolist()))\n",
    "\n"
   ]
  },
  {
   "cell_type": "markdown",
   "metadata": {},
   "source": [
    "# Merging \"impact_ige_eligible_24_common\" with \"merged_ad_spt\"\n",
    "- both are 117 rows \n",
    "\n",
    "## Result -> One participant needs to be manually merged:\n",
    "(23)  -   IMPACT_320824  \n",
    "(117) -    IMPACT_320824"
   ]
  },
  {
   "cell_type": "code",
   "execution_count": 56,
   "metadata": {},
   "outputs": [
    {
     "data": {
      "text/html": [
       "<div>\n",
       "<style scoped>\n",
       "    .dataframe tbody tr th:only-of-type {\n",
       "        vertical-align: middle;\n",
       "    }\n",
       "\n",
       "    .dataframe tbody tr th {\n",
       "        vertical-align: top;\n",
       "    }\n",
       "\n",
       "    .dataframe thead th {\n",
       "        text-align: right;\n",
       "    }\n",
       "</style>\n",
       "<table border=\"1\" class=\"dataframe\">\n",
       "  <thead>\n",
       "    <tr style=\"text-align: right;\">\n",
       "      <th></th>\n",
       "      <th>Participant ID</th>\n",
       "      <th>Sex (character)</th>\n",
       "      <th>Race</th>\n",
       "      <th>Collection Date</th>\n",
       "      <th>Visit</th>\n",
       "      <th>Wheal (mm)</th>\n",
       "      <th>OUT24NOI</th>\n",
       "      <th>Age at OFC 24</th>\n",
       "    </tr>\n",
       "  </thead>\n",
       "  <tbody>\n",
       "    <tr>\n",
       "      <th>0</th>\n",
       "      <td>IMPACT_102436</td>\n",
       "      <td>Male</td>\n",
       "      <td>White/Caucasian</td>\n",
       "      <td>2015-11-20</td>\n",
       "      <td>24</td>\n",
       "      <td>2.5</td>\n",
       "      <td>1.0</td>\n",
       "      <td>79.5</td>\n",
       "    </tr>\n",
       "    <tr>\n",
       "      <th>1</th>\n",
       "      <td>IMPACT_105670</td>\n",
       "      <td>Female</td>\n",
       "      <td>White/Caucasian</td>\n",
       "      <td>2015-11-25</td>\n",
       "      <td>24</td>\n",
       "      <td>0.0</td>\n",
       "      <td>1.0</td>\n",
       "      <td>68.2</td>\n",
       "    </tr>\n",
       "    <tr>\n",
       "      <th>2</th>\n",
       "      <td>IMPACT_113135</td>\n",
       "      <td>Female</td>\n",
       "      <td>White/Caucasian</td>\n",
       "      <td>2016-09-12</td>\n",
       "      <td>24</td>\n",
       "      <td>24.5</td>\n",
       "      <td>0.0</td>\n",
       "      <td>65.3</td>\n",
       "    </tr>\n",
       "    <tr>\n",
       "      <th>3</th>\n",
       "      <td>IMPACT_115876</td>\n",
       "      <td>Male</td>\n",
       "      <td>Mixed Race</td>\n",
       "      <td>2016-11-09</td>\n",
       "      <td>24</td>\n",
       "      <td>27.5</td>\n",
       "      <td>0.0</td>\n",
       "      <td>58.6</td>\n",
       "    </tr>\n",
       "    <tr>\n",
       "      <th>4</th>\n",
       "      <td>IMPACT_136775</td>\n",
       "      <td>Female</td>\n",
       "      <td>Mixed Race</td>\n",
       "      <td>2017-11-20</td>\n",
       "      <td>24</td>\n",
       "      <td>7.5</td>\n",
       "      <td>0.0</td>\n",
       "      <td>74.3</td>\n",
       "    </tr>\n",
       "  </tbody>\n",
       "</table>\n",
       "</div>"
      ],
      "text/plain": [
       "  Participant ID Sex (character)             Race Collection Date  Visit  \\\n",
       "0  IMPACT_102436            Male  White/Caucasian      2015-11-20     24   \n",
       "1  IMPACT_105670          Female  White/Caucasian      2015-11-25     24   \n",
       "2  IMPACT_113135          Female  White/Caucasian      2016-09-12     24   \n",
       "3  IMPACT_115876            Male       Mixed Race      2016-11-09     24   \n",
       "4  IMPACT_136775          Female       Mixed Race      2017-11-20     24   \n",
       "\n",
       "   Wheal (mm)  OUT24NOI  Age at OFC 24  \n",
       "0         2.5       1.0           79.5  \n",
       "1         0.0       1.0           68.2  \n",
       "2        24.5       0.0           65.3  \n",
       "3        27.5       0.0           58.6  \n",
       "4         7.5       0.0           74.3  "
      ]
     },
     "execution_count": 56,
     "metadata": {},
     "output_type": "execute_result"
    }
   ],
   "source": [
    "merged_ad_spt.head()"
   ]
  },
  {
   "cell_type": "code",
   "execution_count": 57,
   "metadata": {},
   "outputs": [],
   "source": [
    "#Merging ad and spt  \n",
    "merged_ad_spt_ige = merged_ad_spt.merge(impact_ige_eligible_24_common, \n",
    "                                                               how='outer', #preserves all rows and adds NaN for empty rows\n",
    "                                                               on=['Participant ID', 'Visit', 'Collection Date'])\n"
   ]
  },
  {
   "cell_type": "code",
   "execution_count": 61,
   "metadata": {},
   "outputs": [
    {
     "name": "stdout",
     "output_type": "stream",
     "text": [
      "(118, 12)\n"
     ]
    },
    {
     "data": {
      "text/html": [
       "<div>\n",
       "<style scoped>\n",
       "    .dataframe tbody tr th:only-of-type {\n",
       "        vertical-align: middle;\n",
       "    }\n",
       "\n",
       "    .dataframe tbody tr th {\n",
       "        vertical-align: top;\n",
       "    }\n",
       "\n",
       "    .dataframe thead th {\n",
       "        text-align: right;\n",
       "    }\n",
       "</style>\n",
       "<table border=\"1\" class=\"dataframe\">\n",
       "  <thead>\n",
       "    <tr style=\"text-align: right;\">\n",
       "      <th></th>\n",
       "      <th>Participant ID</th>\n",
       "      <th>Sex (character)</th>\n",
       "      <th>Race</th>\n",
       "      <th>Collection Date</th>\n",
       "      <th>Visit</th>\n",
       "      <th>Wheal (mm)</th>\n",
       "      <th>OUT24NOI</th>\n",
       "      <th>Age at OFC 24</th>\n",
       "      <th>Ara h1 (kU/L)</th>\n",
       "      <th>Ara h2 (kU/L)</th>\n",
       "      <th>Ara h3 (kU/L)</th>\n",
       "      <th>Ara h6 (kU/L)</th>\n",
       "    </tr>\n",
       "  </thead>\n",
       "  <tbody>\n",
       "    <tr>\n",
       "      <th>0</th>\n",
       "      <td>IMPACT_102436</td>\n",
       "      <td>Male</td>\n",
       "      <td>White/Caucasian</td>\n",
       "      <td>2015-11-20</td>\n",
       "      <td>24</td>\n",
       "      <td>2.5</td>\n",
       "      <td>1.0</td>\n",
       "      <td>79.5</td>\n",
       "      <td>1.14</td>\n",
       "      <td>8.67</td>\n",
       "      <td>0.05</td>\n",
       "      <td>6.64</td>\n",
       "    </tr>\n",
       "    <tr>\n",
       "      <th>1</th>\n",
       "      <td>IMPACT_105670</td>\n",
       "      <td>Female</td>\n",
       "      <td>White/Caucasian</td>\n",
       "      <td>2015-11-25</td>\n",
       "      <td>24</td>\n",
       "      <td>0.0</td>\n",
       "      <td>1.0</td>\n",
       "      <td>68.2</td>\n",
       "      <td>1.95</td>\n",
       "      <td>10.40</td>\n",
       "      <td>0.39</td>\n",
       "      <td>4.97</td>\n",
       "    </tr>\n",
       "    <tr>\n",
       "      <th>2</th>\n",
       "      <td>IMPACT_113135</td>\n",
       "      <td>Female</td>\n",
       "      <td>White/Caucasian</td>\n",
       "      <td>2016-09-12</td>\n",
       "      <td>24</td>\n",
       "      <td>24.5</td>\n",
       "      <td>0.0</td>\n",
       "      <td>65.3</td>\n",
       "      <td>16.30</td>\n",
       "      <td>181.00</td>\n",
       "      <td>1.40</td>\n",
       "      <td>190.00</td>\n",
       "    </tr>\n",
       "    <tr>\n",
       "      <th>3</th>\n",
       "      <td>IMPACT_115876</td>\n",
       "      <td>Male</td>\n",
       "      <td>Mixed Race</td>\n",
       "      <td>2016-11-09</td>\n",
       "      <td>24</td>\n",
       "      <td>27.5</td>\n",
       "      <td>0.0</td>\n",
       "      <td>58.6</td>\n",
       "      <td>8.75</td>\n",
       "      <td>9.54</td>\n",
       "      <td>0.05</td>\n",
       "      <td>11.00</td>\n",
       "    </tr>\n",
       "    <tr>\n",
       "      <th>4</th>\n",
       "      <td>IMPACT_136775</td>\n",
       "      <td>Female</td>\n",
       "      <td>Mixed Race</td>\n",
       "      <td>2017-11-20</td>\n",
       "      <td>24</td>\n",
       "      <td>7.5</td>\n",
       "      <td>0.0</td>\n",
       "      <td>74.3</td>\n",
       "      <td>0.88</td>\n",
       "      <td>7.80</td>\n",
       "      <td>0.05</td>\n",
       "      <td>4.93</td>\n",
       "    </tr>\n",
       "  </tbody>\n",
       "</table>\n",
       "</div>"
      ],
      "text/plain": [
       "  Participant ID Sex (character)             Race Collection Date  Visit  \\\n",
       "0  IMPACT_102436            Male  White/Caucasian      2015-11-20     24   \n",
       "1  IMPACT_105670          Female  White/Caucasian      2015-11-25     24   \n",
       "2  IMPACT_113135          Female  White/Caucasian      2016-09-12     24   \n",
       "3  IMPACT_115876            Male       Mixed Race      2016-11-09     24   \n",
       "4  IMPACT_136775          Female       Mixed Race      2017-11-20     24   \n",
       "\n",
       "   Wheal (mm)  OUT24NOI  Age at OFC 24  Ara h1 (kU/L)  Ara h2 (kU/L)  \\\n",
       "0         2.5       1.0           79.5           1.14           8.67   \n",
       "1         0.0       1.0           68.2           1.95          10.40   \n",
       "2        24.5       0.0           65.3          16.30         181.00   \n",
       "3        27.5       0.0           58.6           8.75           9.54   \n",
       "4         7.5       0.0           74.3           0.88           7.80   \n",
       "\n",
       "   Ara h3 (kU/L)  Ara h6 (kU/L)  \n",
       "0           0.05           6.64  \n",
       "1           0.39           4.97  \n",
       "2           1.40         190.00  \n",
       "3           0.05          11.00  \n",
       "4           0.05           4.93  "
      ]
     },
     "execution_count": 61,
     "metadata": {},
     "output_type": "execute_result"
    }
   ],
   "source": [
    "print(merged_ad_spt_ige.shape)\n",
    "merged_ad_spt_ige.head()"
   ]
  },
  {
   "cell_type": "code",
   "execution_count": 60,
   "metadata": {},
   "outputs": [
    {
     "name": "stdout",
     "output_type": "stream",
     "text": [
      "23     IMPACT_320824\n",
      "117    IMPACT_320824\n",
      "Name: Participant ID, dtype: object\n"
     ]
    }
   ],
   "source": [
    "#seeing which row is duplicated\n",
    "\n",
    "duplicated_ids = merged_ad_spt_ige['Participant ID'].duplicated(keep=False)\n",
    "duplicated_values = merged_ad_spt_ige[duplicated_ids]\n",
    "\n",
    "print(duplicated_values['Participant ID'])\n"
   ]
  },
  {
   "cell_type": "code",
   "execution_count": null,
   "metadata": {},
   "outputs": [],
   "source": []
  },
  {
   "cell_type": "code",
   "execution_count": null,
   "metadata": {},
   "outputs": [],
   "source": []
  },
  {
   "cell_type": "markdown",
   "metadata": {},
   "source": [
    "# Breaking out Peanut IgE/Total IgE\n",
    "- in \"impact_serum_eligible_24_common\"\n"
   ]
  },
  {
   "cell_type": "code",
   "execution_count": 62,
   "metadata": {},
   "outputs": [],
   "source": [
    "# removing rows from 'Test Name' for everything except 'Peanut IgE' and 'Total IgE'\n",
    "\n",
    "#defining list to keep\n",
    "keep_IgEs = ['Peanut IgE', 'Total IgE']\n",
    "\n",
    "impact_serum_eligible_24_common = impact_serum_eligible_24_common[impact_serum_eligible_24_common['Test Name'].isin(keep_IgEs)]\n",
    "\n"
   ]
  },
  {
   "cell_type": "code",
   "execution_count": 63,
   "metadata": {},
   "outputs": [
    {
     "data": {
      "text/plain": [
       "array(['Peanut IgE', 'Total IgE'], dtype=object)"
      ]
     },
     "execution_count": 63,
     "metadata": {},
     "output_type": "execute_result"
    }
   ],
   "source": [
    "\n",
    "impact_serum_eligible_24_common['Test Name'].unique()\n"
   ]
  },
  {
   "cell_type": "code",
   "execution_count": 64,
   "metadata": {},
   "outputs": [
    {
     "name": "stdout",
     "output_type": "stream",
     "text": [
      "(234, 8)\n"
     ]
    },
    {
     "data": {
      "text/html": [
       "<div>\n",
       "<style scoped>\n",
       "    .dataframe tbody tr th:only-of-type {\n",
       "        vertical-align: middle;\n",
       "    }\n",
       "\n",
       "    .dataframe tbody tr th {\n",
       "        vertical-align: top;\n",
       "    }\n",
       "\n",
       "    .dataframe thead th {\n",
       "        text-align: right;\n",
       "    }\n",
       "</style>\n",
       "<table border=\"1\" class=\"dataframe\">\n",
       "  <thead>\n",
       "    <tr style=\"text-align: right;\">\n",
       "      <th></th>\n",
       "      <th>Participant ID</th>\n",
       "      <th>Collection Date</th>\n",
       "      <th>Visit</th>\n",
       "      <th>Test Name</th>\n",
       "      <th>Unit</th>\n",
       "      <th>Value</th>\n",
       "      <th>Passed Visit 24 OFC No Imputation</th>\n",
       "      <th>Passed Visit 26 OFC No Imputation</th>\n",
       "    </tr>\n",
       "  </thead>\n",
       "  <tbody>\n",
       "    <tr>\n",
       "      <th>25</th>\n",
       "      <td>IMPACT_102436</td>\n",
       "      <td>2015-11-20</td>\n",
       "      <td>24</td>\n",
       "      <td>Peanut IgE</td>\n",
       "      <td>kU/L</td>\n",
       "      <td>8.41</td>\n",
       "      <td>1.0</td>\n",
       "      <td>0.0</td>\n",
       "    </tr>\n",
       "    <tr>\n",
       "      <th>29</th>\n",
       "      <td>IMPACT_102436</td>\n",
       "      <td>2015-11-20</td>\n",
       "      <td>24</td>\n",
       "      <td>Total IgE</td>\n",
       "      <td>IU/mL</td>\n",
       "      <td>97.00</td>\n",
       "      <td>1.0</td>\n",
       "      <td>0.0</td>\n",
       "    </tr>\n",
       "    <tr>\n",
       "      <th>50</th>\n",
       "      <td>IMPACT_105670</td>\n",
       "      <td>2015-11-25</td>\n",
       "      <td>24</td>\n",
       "      <td>Peanut IgE</td>\n",
       "      <td>kU/L</td>\n",
       "      <td>10.70</td>\n",
       "      <td>1.0</td>\n",
       "      <td>0.0</td>\n",
       "    </tr>\n",
       "    <tr>\n",
       "      <th>54</th>\n",
       "      <td>IMPACT_105670</td>\n",
       "      <td>2015-11-25</td>\n",
       "      <td>24</td>\n",
       "      <td>Total IgE</td>\n",
       "      <td>IU/mL</td>\n",
       "      <td>70.00</td>\n",
       "      <td>1.0</td>\n",
       "      <td>0.0</td>\n",
       "    </tr>\n",
       "    <tr>\n",
       "      <th>75</th>\n",
       "      <td>IMPACT_113135</td>\n",
       "      <td>2016-09-12</td>\n",
       "      <td>24</td>\n",
       "      <td>Peanut IgE</td>\n",
       "      <td>kU/L</td>\n",
       "      <td>243.00</td>\n",
       "      <td>0.0</td>\n",
       "      <td>NaN</td>\n",
       "    </tr>\n",
       "  </tbody>\n",
       "</table>\n",
       "</div>"
      ],
      "text/plain": [
       "   Participant ID Collection Date  Visit   Test Name   Unit   Value  \\\n",
       "25  IMPACT_102436      2015-11-20     24  Peanut IgE   kU/L    8.41   \n",
       "29  IMPACT_102436      2015-11-20     24   Total IgE  IU/mL   97.00   \n",
       "50  IMPACT_105670      2015-11-25     24  Peanut IgE   kU/L   10.70   \n",
       "54  IMPACT_105670      2015-11-25     24   Total IgE  IU/mL   70.00   \n",
       "75  IMPACT_113135      2016-09-12     24  Peanut IgE   kU/L  243.00   \n",
       "\n",
       "    Passed Visit 24 OFC No Imputation  Passed Visit 26 OFC No Imputation  \n",
       "25                                1.0                                0.0  \n",
       "29                                1.0                                0.0  \n",
       "50                                1.0                                0.0  \n",
       "54                                1.0                                0.0  \n",
       "75                                0.0                                NaN  "
      ]
     },
     "execution_count": 64,
     "metadata": {},
     "output_type": "execute_result"
    }
   ],
   "source": [
    "\n",
    "\n",
    "print(impact_serum_eligible_24_common.shape)\n",
    "impact_serum_eligible_24_common.head()"
   ]
  },
  {
   "cell_type": "code",
   "execution_count": null,
   "metadata": {},
   "outputs": [],
   "source": []
  },
  {
   "cell_type": "code",
   "execution_count": null,
   "metadata": {},
   "outputs": [],
   "source": []
  },
  {
   "cell_type": "code",
   "execution_count": null,
   "metadata": {},
   "outputs": [],
   "source": []
  },
  {
   "cell_type": "code",
   "execution_count": null,
   "metadata": {},
   "outputs": [],
   "source": []
  },
  {
   "cell_type": "code",
   "execution_count": null,
   "metadata": {},
   "outputs": [],
   "source": []
  },
  {
   "cell_type": "code",
   "execution_count": null,
   "metadata": {},
   "outputs": [],
   "source": []
  },
  {
   "cell_type": "code",
   "execution_count": null,
   "metadata": {},
   "outputs": [],
   "source": []
  },
  {
   "cell_type": "code",
   "execution_count": null,
   "metadata": {},
   "outputs": [],
   "source": []
  },
  {
   "cell_type": "markdown",
   "metadata": {},
   "source": [
    "# Merging \"merged_ad_spt_ige\" with \"impact_serum_eligible_24_common\"\n"
   ]
  },
  {
   "cell_type": "code",
   "execution_count": null,
   "metadata": {},
   "outputs": [],
   "source": []
  },
  {
   "cell_type": "code",
   "execution_count": null,
   "metadata": {},
   "outputs": [],
   "source": []
  },
  {
   "cell_type": "code",
   "execution_count": null,
   "metadata": {},
   "outputs": [],
   "source": []
  },
  {
   "cell_type": "code",
   "execution_count": null,
   "metadata": {},
   "outputs": [],
   "source": []
  },
  {
   "cell_type": "code",
   "execution_count": null,
   "metadata": {},
   "outputs": [],
   "source": []
  },
  {
   "cell_type": "code",
   "execution_count": null,
   "metadata": {},
   "outputs": [],
   "source": []
  },
  {
   "cell_type": "markdown",
   "metadata": {},
   "source": [
    "---\n",
    "# Serum Dataset & IgE_IgG4_component Common Features\n",
    "\n",
    "Duplicate OFC data between both data sets with different labels.  \n",
    "These columns in Serum:\n",
    "\n",
    "- 'Passed Visit 24 OFC for ITT',\n",
    "- 'Passed Visit 24 OFC No Imputation',\n",
    "- 'Passed Visit 26 OFC for ITT',\n",
    "- 'Passed Visit 26 OFC No Imputation',\n",
    " \n",
    "are the same data as these columns in IgE_IgG4_component\n",
    "\n",
    "- OUT24ITT\t\n",
    "- OUT24NOI\t\n",
    "- OUT26ITT\t\n",
    "- OUT26NOI\n",
    "\n",
    "---\n",
    "\n",
    "#### Will take 'Peanut IgE' and 'Total IgE' from column 'Test Name' in Serum data  \n",
    "#### Will take 'Component' and values columns from IgE_IgG4_component \n"
   ]
  },
  {
   "cell_type": "code",
   "execution_count": null,
   "metadata": {},
   "outputs": [],
   "source": []
  },
  {
   "cell_type": "markdown",
   "metadata": {},
   "source": [
    "# Serum Cleaning\n",
    "- taking Peanut IgE and Total IgE from this data set"
   ]
  },
  {
   "cell_type": "code",
   "execution_count": null,
   "metadata": {},
   "outputs": [],
   "source": [
    "# checking total unique participants is the same\n",
    "len(impact_serum['Participant ID'].unique().tolist())\n",
    "# output 146"
   ]
  },
  {
   "cell_type": "code",
   "execution_count": null,
   "metadata": {},
   "outputs": [],
   "source": [
    "impact_serum.columns.tolist()"
   ]
  },
  {
   "cell_type": "code",
   "execution_count": null,
   "metadata": {},
   "outputs": [],
   "source": [
    "#filtering by just the participant IDs in the eligible list\n",
    "impact_serum_eligible = impact_serum[impact_serum['Participant ID'].isin(participant_ids)]\n",
    "\n",
    "# impact_serum_cols_to_keep = [\n",
    "#     'Participant ID',\n",
    "#     'Collection Date',\n",
    "#     'Visit',\n",
    "#     'Test Name', # Peanut IgE, Peanut IgE/Total IgE ratio, Peanut IgG4*, Peanut IgG4/IgE ratio, Total IgE\n",
    "#     'Unit',\n",
    "#     'Value', # results from 'Test Name'\n",
    "#     'Baseline Value', # IgE values taken during initial screening\n",
    "#     'Passed Visit 24 OFC No Imputation',\n",
    "#     'Passed Visit 26 OFC No Imputation',\n",
    "# #     'Tolerance outcome', # has values of nan,  2.,  4.,  1.,  3.\n",
    "# #     'Tolerance outcome (character)' # has values of nan, 'Desen_no_Tol', 'No_Desen_no_Tol', 'Desen_Tol', 'No_Desen_Tol\n",
    "# ]\n",
    "\n",
    "# question for Dr. Gryak on what these mean: \n",
    "# 'Tolerance outcome', has values of nan,  2.,  4.,  1.,  3.\n",
    "# 'Tolerance outcome (character)', has values of nan, 'Desen_no_Tol', 'No_Desen_no_Tol', 'Desen_Tol', 'No_Desen_Tol\n",
    "\n",
    "# impact_serum_eligible_filtered = impact_serum_eligible[impact_serum_cols_to_keep]\n"
   ]
  },
  {
   "cell_type": "code",
   "execution_count": null,
   "metadata": {},
   "outputs": [],
   "source": [
    "#checking to see the above filtering kept the correct number of 144 participants \n",
    "len(impact_serum_eligible_filtered['Participant ID'].unique().tolist()) #output 144 - correct"
   ]
  },
  {
   "cell_type": "code",
   "execution_count": null,
   "metadata": {},
   "outputs": [],
   "source": [
    "print(impact_serum_eligible_filtered.shape)\n",
    "impact_serum_eligible_filtered.head()"
   ]
  },
  {
   "cell_type": "markdown",
   "metadata": {},
   "source": [
    "### Making a new DF with a new column capturing initial OFC fail \n",
    "calling it \"Passed Visit -2 OFC\" to match other OFC columns\n",
    "- Doing this because according to protocol, 144 participants enterered the study because they passed all the eligibility criteria AND __had a clinical reaction to the intake OFC, thus all 144 participants had a failed OFC status for their -2 visit__"
   ]
  },
  {
   "cell_type": "code",
   "execution_count": null,
   "metadata": {},
   "outputs": [],
   "source": [
    "impact_serum_eligible_filtered['Passed Visit -2 OFC'] = 0\n",
    "impact_serum_eligible_filtered['Passed Visit -2 OFC'] = impact_serum_eligible_filtered['Passed Visit -2 OFC'].astype('int64')\n",
    "impact_serum_eligible_filtered.head()"
   ]
  },
  {
   "cell_type": "markdown",
   "metadata": {},
   "source": [
    "### filtering out from 'Test Name' everything but 'Peanut IgE' and 'Total IgE'"
   ]
  },
  {
   "cell_type": "code",
   "execution_count": null,
   "metadata": {},
   "outputs": [],
   "source": [
    "# removing rows from 'Test Name' for everything except 'Peanut IgE' and 'Total IgE'\n",
    "\n",
    "#defining list to keep\n",
    "keep_IgEs = ['Peanut IgE', 'Total IgE']\n",
    "\n",
    "impact_serum_eligible_filtered = impact_serum_eligible_filtered[impact_serum_eligible_filtered['Test Name'].isin(keep_IgEs)]\n"
   ]
  },
  {
   "cell_type": "code",
   "execution_count": null,
   "metadata": {},
   "outputs": [],
   "source": [
    "impact_serum_eligible_filtered['Test Name'].unique()"
   ]
  },
  {
   "cell_type": "code",
   "execution_count": null,
   "metadata": {},
   "outputs": [],
   "source": [
    "print(impact_serum_eligible_filtered.shape)\n",
    "impact_serum_eligible_filtered.head()"
   ]
  },
  {
   "cell_type": "markdown",
   "metadata": {},
   "source": [
    "--- \n",
    "# IgE_IgG4_component Cleaning\n",
    "- taking the components from this data set"
   ]
  },
  {
   "cell_type": "code",
   "execution_count": null,
   "metadata": {},
   "outputs": [],
   "source": [
    "impact_ige.columns.tolist()"
   ]
  },
  {
   "cell_type": "code",
   "execution_count": null,
   "metadata": {},
   "outputs": [],
   "source": [
    "#filtering by just the participant IDs in the eligible list\n",
    "impact_ige_eligible = impact_ige[impact_ige['Participant ID'].isin(participant_ids)]\n",
    "\n",
    "# impact_ige_cols_to_keep = [\n",
    "#     'Participant ID',\n",
    "#     'Visit',\n",
    "#     'Antibody', #IgE, IgG4\n",
    "#     'Component', #rAra h 1, rAra h 2, rAra h 3, rAra h 6\n",
    "#     'Value',\n",
    "#     'Unit',\n",
    "#     'Baseline Value',\n",
    "#     'Collection Date',   \n",
    "# ]\n",
    "\n",
    "# impact_ige_eligible_filtered = impact_ige_eligible[impact_ige_cols_to_keep]\n"
   ]
  },
  {
   "cell_type": "code",
   "execution_count": null,
   "metadata": {},
   "outputs": [],
   "source": [
    "#dropping IgG4 from Antibody column, only want IgE\n",
    "impact_ige_eligible_filtered = impact_ige_eligible_filtered[impact_ige_eligible_filtered['Antibody']=='IgE']"
   ]
  },
  {
   "cell_type": "code",
   "execution_count": null,
   "metadata": {},
   "outputs": [],
   "source": [
    "print(impact_ige_eligible_filtered.shape)\n",
    "impact_ige_eligible_filtered.head(10)"
   ]
  },
  {
   "cell_type": "code",
   "execution_count": null,
   "metadata": {},
   "outputs": [],
   "source": []
  },
  {
   "cell_type": "markdown",
   "metadata": {},
   "source": [
    "# Skin Prick Test cleaning \n",
    "(Skin Prick Test_2023-05-25_06-31-04.xlsx)\n",
    "\n",
    "- taking wheal from this data set"
   ]
  },
  {
   "cell_type": "code",
   "execution_count": null,
   "metadata": {},
   "outputs": [],
   "source": [
    "# checking total unique participants is the same\n",
    "len(impact_spt['Participant ID'].unique().tolist())\n",
    "# output 146"
   ]
  },
  {
   "cell_type": "code",
   "execution_count": null,
   "metadata": {},
   "outputs": [],
   "source": [
    "impact_spt.columns.tolist()"
   ]
  },
  {
   "cell_type": "code",
   "execution_count": null,
   "metadata": {},
   "outputs": [],
   "source": [
    "#filtering by just the participant IDs in the eligible list\n",
    "impact_spt_eligible = impact_spt[impact_spt['Participant ID'].isin(participant_ids)]\n",
    "\n",
    "# impact_spt_cols_to_keep = [\n",
    "#     'Participant ID',\n",
    "#     'Date of Allergy Skin Test (Character)', # this is similar to 'Collection Date' in other datasets \n",
    "#     'Visit',\n",
    "#     'Wheal (mm)',\n",
    "#     'Wheal (mm) baseline'\n",
    "# ]\n",
    "\n",
    "# impact_spt_eligible_filtered = impact_spt_eligible[impact_spt_cols_to_keep]\n"
   ]
  },
  {
   "cell_type": "code",
   "execution_count": null,
   "metadata": {},
   "outputs": [],
   "source": [
    "# Changing 'Date of Allergy Skin Test (Character)' to 'Collection Date' to match other data sets\n",
    "\n",
    "impact_spt_eligible_filtered = impact_spt_eligible_filtered.rename(columns={'Date of Allergy Skin Test (Character)': 'Collection Date'})\n"
   ]
  },
  {
   "cell_type": "code",
   "execution_count": null,
   "metadata": {},
   "outputs": [],
   "source": [
    "#checking to see the above filtering kept the correct number of 144 participants \n",
    "len(impact_spt_eligible_filtered['Participant ID'].unique().tolist()) #output 144 - correct"
   ]
  },
  {
   "cell_type": "code",
   "execution_count": null,
   "metadata": {
    "scrolled": true
   },
   "outputs": [],
   "source": [
    "print(impact_spt_eligible_filtered.shape)\n",
    "impact_spt_eligible_filtered.head()"
   ]
  },
  {
   "cell_type": "code",
   "execution_count": null,
   "metadata": {},
   "outputs": [],
   "source": []
  },
  {
   "cell_type": "code",
   "execution_count": null,
   "metadata": {},
   "outputs": [],
   "source": []
  },
  {
   "cell_type": "markdown",
   "metadata": {},
   "source": [
    "---\n",
    "# Building Baseline Datasets\n",
    "Separating baseline data from rest of data.  \n",
    "Baseline data varies from rest of the test visits in a few ways:\n",
    "- interpretting OFC pass results from protocol and filtering\n",
    "- components units are different than that of the follow up visits (16,21,24,26)"
   ]
  },
  {
   "cell_type": "code",
   "execution_count": null,
   "metadata": {},
   "outputs": [],
   "source": [
    "# impact_ad_eligible_filtered (144, 12)\n",
    "# impact_serum_eligible_filtered\n",
    "# impact_ige_eligible_filtered\n",
    "# impact_spt_eligible_filtered"
   ]
  },
  {
   "cell_type": "markdown",
   "metadata": {},
   "source": [
    "---\n",
    "# Cleaning ad baseline\n",
    "\n",
    "summary of steps:\n",
    "- dropping all rows for visits that are not -2 the initial visit\n",
    "- dropping all non baseline columns\n",
    "- Create new columns for Age in months \n",
    "\n",
    "### Notes on 'impact_ad_eligible_baseline' dataframe: \n",
    "\n",
    "144 unique participant IDs  \n",
    "144 rows\n"
   ]
  },
  {
   "cell_type": "code",
   "execution_count": null,
   "metadata": {},
   "outputs": [],
   "source": [
    "#updating the 'Visit' column to say -2 since this is intake information\n",
    "impact_ad_eligible_baseline = impact_ad_eligible_filtered\n",
    "impact_ad_eligible_baseline['Visit'] = -2\n",
    "impact_ad_eligible_baseline['Visit'] = impact_ad_eligible_baseline['Visit'].astype('int64')\n",
    "print(impact_ad_eligible_baseline.shape) #144 total entries in the DF = 144 unique participant IDs\n",
    "impact_ad_eligible_baseline.head()"
   ]
  },
  {
   "cell_type": "code",
   "execution_count": null,
   "metadata": {},
   "outputs": [],
   "source": [
    "impact_ad_eligible_baseline = impact_ad_eligible_baseline.drop(columns=['Age at screening (years)', 'Study Status', 'Completed Study Protocol', 'Completed Study Assessments Numeric'])\n",
    "impact_ad_eligible_baseline.head()"
   ]
  },
  {
   "cell_type": "code",
   "execution_count": null,
   "metadata": {},
   "outputs": [],
   "source": [
    "#convering the 'Age at Screening (years) Not Rounded' to months \n",
    "impact_ad_eligible_baseline['Age'] = impact_ad_eligible_baseline['Age at Screening (years) Not Rounded'] * 12\n",
    "impact_ad_eligible_baseline = impact_ad_eligible_baseline.drop(columns=['Age at Screening (years) Not Rounded'])\n"
   ]
  },
  {
   "cell_type": "code",
   "execution_count": null,
   "metadata": {},
   "outputs": [],
   "source": [
    "print(impact_ad_eligible_baseline.shape)\n",
    "impact_ad_eligible_baseline.head()"
   ]
  },
  {
   "cell_type": "code",
   "execution_count": null,
   "metadata": {},
   "outputs": [],
   "source": [
    "# renaming 'Date of Screening Visit' to 'Collection Date' for merger later\n",
    "impact_ad_eligible_baseline = impact_ad_eligible_baseline.rename(columns={'Date of Screening Visit': 'Collection Date'})\n"
   ]
  },
  {
   "cell_type": "code",
   "execution_count": null,
   "metadata": {},
   "outputs": [],
   "source": [
    "print(impact_ad_eligible_baseline.shape)\n",
    "impact_ad_eligible_baseline.head()"
   ]
  },
  {
   "cell_type": "code",
   "execution_count": null,
   "metadata": {},
   "outputs": [],
   "source": []
  },
  {
   "cell_type": "code",
   "execution_count": null,
   "metadata": {},
   "outputs": [],
   "source": []
  },
  {
   "cell_type": "markdown",
   "metadata": {},
   "source": [
    "---\n",
    "# Cleaning serum baseline \n",
    "summary of steps:\n",
    "- dropping all rows for visits that are not -2 the initial visit\n",
    "- dropping all non baseline columns\n",
    "- Create new columns for 'Peanut IgE kU/L', 'Total IgE IU/mL'\n",
    "- Merging duplicate rows and overwriting NaN values\n",
    "\n",
    "\n",
    "### Notes on 'impact_serum_eligible_baseline_merged' dataframe: \n",
    "\n",
    "144 unique participant IDs  \n",
    "159 rows becauase couldn't merge all of them due to 19 participants with issues:\n",
    "- 15 participants had their IgE values read on different dates\n",
    "- 4 only had ONE of their IgE values read during intake (either Peanut or Total, not both)"
   ]
  },
  {
   "cell_type": "code",
   "execution_count": null,
   "metadata": {},
   "outputs": [],
   "source": [
    "impact_serum_eligible_baseline = impact_serum_eligible_filtered\n",
    "\n",
    "# dropping all rows for visits that are not -2 the initial visit\n",
    "impact_serum_eligible_baseline = impact_serum_eligible_baseline[impact_serum_eligible_baseline['Visit'] == -2]\n",
    "\n",
    "# dropping all non baseline columns\n",
    "impact_serum_eligible_baseline = impact_serum_eligible_baseline.drop(columns=['Passed Visit 24 OFC No Imputation', \n",
    "                                                                        'Passed Visit 26 OFC No Imputation',\n",
    "                                                                        'Value'\n",
    "                                                                       ])"
   ]
  },
  {
   "cell_type": "code",
   "execution_count": null,
   "metadata": {},
   "outputs": [],
   "source": [
    "len(impact_serum_eligible_baseline['Participant ID'].unique().tolist())"
   ]
  },
  {
   "cell_type": "code",
   "execution_count": null,
   "metadata": {},
   "outputs": [],
   "source": [
    "impact_serum_eligible_baseline.head()"
   ]
  },
  {
   "cell_type": "code",
   "execution_count": null,
   "metadata": {},
   "outputs": [],
   "source": [
    "# Create new columns with initial NaN values\n",
    "impact_serum_eligible_baseline['Peanut IgE (kU/L)'] = np.nan\n",
    "impact_serum_eligible_baseline['Total IgE (kU/L)'] = np.nan\n",
    "\n",
    "# Populate the new columns based on conditions\n",
    "impact_serum_eligible_baseline.loc[impact_serum_eligible_baseline['Test Name'] == 'Peanut IgE', 'Peanut IgE (kU/L)'] = impact_serum_eligible_baseline.loc[impact_serum_eligible_baseline['Test Name'] == 'Peanut IgE', 'Baseline Value']\n",
    "impact_serum_eligible_baseline.loc[impact_serum_eligible_baseline['Test Name'] == 'Total IgE', 'Total IgE (kU/L)'] = impact_serum_eligible_baseline.loc[impact_serum_eligible_baseline['Test Name'] == 'Total IgE', 'Baseline Value']\n",
    "\n",
    "# Drop the specified columns\n",
    "impact_serum_eligible_baseline = impact_serum_eligible_baseline.drop(columns=['Test Name', 'Unit', 'Baseline Value'])\n"
   ]
  },
  {
   "cell_type": "code",
   "execution_count": null,
   "metadata": {},
   "outputs": [],
   "source": [
    "len(impact_serum_eligible_baseline['Participant ID'].unique().tolist())"
   ]
  },
  {
   "cell_type": "code",
   "execution_count": null,
   "metadata": {},
   "outputs": [],
   "source": [
    "print(impact_serum_eligible_baseline.shape) # (284, 6)\n",
    "impact_serum_eligible_baseline.head()\n",
    "# note if all of the 144 participants had 2 rows for Peanut and Total, we'd have 288, but we have 284"
   ]
  },
  {
   "cell_type": "code",
   "execution_count": null,
   "metadata": {},
   "outputs": [],
   "source": [
    "# Merging duplicate rows and overwriting NaN values\n",
    "\n",
    "# Group by columns and aggregate using the mean (for numeric columns) or first (for non-numeric columns)\n",
    "impact_serum_eligible_baseline_merged = impact_serum_eligible_baseline.groupby(['Participant ID', 'Collection Date', 'Visit', 'Passed Visit -2 OFC'], as_index=False).agg({'Peanut IgE (kU/L)': 'mean', 'Total IgE (kU/L)': 'mean'})\n",
    "\n",
    "# Reset the index\n",
    "impact_serum_eligible_baseline_merged.reset_index(drop=True, inplace=True)\n"
   ]
  },
  {
   "cell_type": "code",
   "execution_count": null,
   "metadata": {},
   "outputs": [],
   "source": [
    "impact_serum_eligible_baseline_merged.head(10)"
   ]
  },
  {
   "cell_type": "code",
   "execution_count": null,
   "metadata": {},
   "outputs": [],
   "source": [
    "print(len(impact_serum_eligible_baseline_merged['Participant ID'].unique().tolist()))\n",
    "print(impact_serum_eligible_baseline_merged.shape)"
   ]
  },
  {
   "cell_type": "code",
   "execution_count": null,
   "metadata": {},
   "outputs": [],
   "source": [
    "# Exploring where the extra rows came from\n",
    "\n",
    "# making a df of just the rows with nan values\n",
    "serum_nan_rows = impact_serum_eligible_baseline_merged[impact_serum_eligible_baseline_merged.isna().any(axis=1)]\n"
   ]
  },
  {
   "cell_type": "code",
   "execution_count": null,
   "metadata": {},
   "outputs": [],
   "source": [
    "print(serum_nan_rows.shape)\n",
    "serum_nan_rows.head(34)"
   ]
  },
  {
   "cell_type": "code",
   "execution_count": null,
   "metadata": {},
   "outputs": [],
   "source": [
    "len(serum_nan_rows['Participant ID'].unique().tolist())\n"
   ]
  },
  {
   "cell_type": "code",
   "execution_count": null,
   "metadata": {},
   "outputs": [],
   "source": []
  },
  {
   "cell_type": "code",
   "execution_count": null,
   "metadata": {},
   "outputs": [],
   "source": []
  },
  {
   "cell_type": "markdown",
   "metadata": {},
   "source": [
    "---\n",
    "# Cleaning IgE baseline \n",
    "summary of steps:\n",
    "- dropping all rows for visits that are not -2 the initial visit\n",
    "- dropping all non baseline columns\n",
    "- Create new columns for components\n",
    "- Merging duplicate rows and overwriting NaN values\n",
    "\n",
    "\n",
    "### Notes on 'impact_ige_eligible_baseline_merged' dataframe: \n",
    "\n",
    "141 unique participant IDs because\n",
    "- 3 did not have baseline data for initial visit (IDs: 'IMPACT_149018', 'IMPACT_746400', 'IMPACT_920870')   \n",
    "\n",
    "177 rows becauase couldn't merge all of them due to:\n",
    "- 36 participants had their component values read on different dates"
   ]
  },
  {
   "cell_type": "code",
   "execution_count": null,
   "metadata": {},
   "outputs": [],
   "source": [
    "impact_ige_eligible_baseline = impact_ige_eligible_filtered"
   ]
  },
  {
   "cell_type": "code",
   "execution_count": null,
   "metadata": {},
   "outputs": [],
   "source": [
    "print(len(impact_ige['Participant ID'].unique().tolist()))"
   ]
  },
  {
   "cell_type": "code",
   "execution_count": null,
   "metadata": {},
   "outputs": [],
   "source": [
    "print(len(impact_ige_eligible_filtered['Participant ID'].unique().tolist()))\n"
   ]
  },
  {
   "cell_type": "code",
   "execution_count": null,
   "metadata": {},
   "outputs": [],
   "source": [
    "print(len(impact_ige_eligible_baseline['Participant ID'].unique().tolist()))"
   ]
  },
  {
   "cell_type": "code",
   "execution_count": null,
   "metadata": {},
   "outputs": [],
   "source": [
    "# just the participant IDs for those who have -2 in their history\n",
    "impact_ige_eligible_baseline_2 = impact_ige_eligible_baseline[impact_ige_eligible_baseline['Visit'] == -2]"
   ]
  },
  {
   "cell_type": "code",
   "execution_count": null,
   "metadata": {},
   "outputs": [],
   "source": [
    "len(impact_ige_eligible_baseline_2['Participant ID'].unique().tolist())"
   ]
  },
  {
   "cell_type": "code",
   "execution_count": null,
   "metadata": {},
   "outputs": [],
   "source": [
    "participant_ids = impact_ige_eligible_baseline[~impact_ige_eligible_baseline['Participant ID'].isin(impact_ige_eligible_baseline_2['Participant ID'])]['Participant ID'].tolist()\n"
   ]
  },
  {
   "cell_type": "code",
   "execution_count": null,
   "metadata": {},
   "outputs": [],
   "source": [
    "#dropping duplicates\n",
    "participant_ids = list(set(participant_ids))\n",
    "participant_ids\n",
    "\n",
    "# output: ['IMPACT_149018', 'IMPACT_746400', 'IMPACT_920870'] THESE ARE THE 3 \n",
    "\n",
    "# manually checking these IDs in the IgE spreadsheet; \n",
    "\n",
    "# IMPACT_149018 \n",
    "# in IgE dataset; missing -2 and 16  visit, missing component baseline values \n",
    "# in serum dataset; Confirming baseline obtained for Peanut IgE but missing Total IgE\n",
    "# in ad dataset; Study Statys = Early Termination\n",
    "\n",
    "# IMPACT_746400\n",
    "# in IgE dataset; missing -2 visit, missing component baseline values \n",
    "# in serum dataset; Confirming baseline obtained for Peanut IgE but missing Total IgE\n",
    "# in ad dataset; Study Status = Completed Study\n",
    "\n",
    "# IMPACT_920870\n",
    "# in IgE dataset; missing -2 visit, missing component baseline values\n",
    "# in serum dataset; Confirming baseline obtained for Peanut IgE but missing Total IgE\n",
    "# in ad dataset; Study Status = Completed Study"
   ]
  },
  {
   "cell_type": "code",
   "execution_count": null,
   "metadata": {},
   "outputs": [],
   "source": [
    "# removing these from the baseline data \n",
    "impact_ige_eligible_baseline = impact_ige_eligible_filtered[~impact_ige_eligible_filtered['Participant ID'].isin(participant_ids)]\n"
   ]
  },
  {
   "cell_type": "code",
   "execution_count": null,
   "metadata": {},
   "outputs": [],
   "source": [
    "print(len(impact_ige_eligible_baseline['Participant ID'].unique().tolist()))\n",
    "# output 141, correctly filtered out the participants with missing baseline data "
   ]
  },
  {
   "cell_type": "code",
   "execution_count": null,
   "metadata": {},
   "outputs": [],
   "source": [
    "# dropping all rows for visits that are not -2 the initial visit\n",
    "impact_ige_eligible_baseline = impact_ige_eligible_baseline[impact_ige_eligible_baseline['Visit'] == -2]\n",
    "\n",
    "# dropping all non baseline columns\n",
    "impact_ige_eligible_baseline = impact_ige_eligible_baseline.drop(columns=['Value'])"
   ]
  },
  {
   "cell_type": "code",
   "execution_count": null,
   "metadata": {},
   "outputs": [],
   "source": [
    "print(impact_ige_eligible_baseline.shape)\n",
    "impact_ige_eligible_baseline.head()"
   ]
  },
  {
   "cell_type": "code",
   "execution_count": null,
   "metadata": {},
   "outputs": [],
   "source": [
    "# Creating new columns for each component\n",
    "\n",
    "# Create new columns with initial NaN values\n",
    "impact_ige_eligible_baseline['Ara h1 (kU/L)'] = np.nan\n",
    "impact_ige_eligible_baseline['Ara h2 (kU/L)'] = np.nan\n",
    "impact_ige_eligible_baseline['Ara h3 (kU/L)'] = np.nan\n",
    "impact_ige_eligible_baseline['Ara h6 (kU/L)'] = np.nan\n",
    "\n",
    "# Populate the new columns based on conditions\n",
    "impact_ige_eligible_baseline.loc[impact_ige_eligible_baseline['Component'] == 'rAra h 1', 'Ara h1 (kU/L)'] = impact_ige_eligible_baseline.loc[impact_ige_eligible_baseline['Component'] == 'rAra h 1', 'Baseline Value']\n",
    "impact_ige_eligible_baseline.loc[impact_ige_eligible_baseline['Component'] == 'rAra h 2', 'Ara h2 (kU/L)'] = impact_ige_eligible_baseline.loc[impact_ige_eligible_baseline['Component'] == 'rAra h 2', 'Baseline Value']\n",
    "impact_ige_eligible_baseline.loc[impact_ige_eligible_baseline['Component'] == 'rAra h 3', 'Ara h3 (kU/L)'] = impact_ige_eligible_baseline.loc[impact_ige_eligible_baseline['Component'] == 'rAra h 3', 'Baseline Value']\n",
    "impact_ige_eligible_baseline.loc[impact_ige_eligible_baseline['Component'] == 'rAra h 6', 'Ara h6 (kU/L)'] = impact_ige_eligible_baseline.loc[impact_ige_eligible_baseline['Component'] == 'rAra h 6', 'Baseline Value']\n",
    "\n",
    "# Drop the specified columns\n",
    "impact_ige_eligible_baseline = impact_ige_eligible_baseline.drop(columns=['Antibody', 'Component', 'Baseline Value', 'Unit'])\n"
   ]
  },
  {
   "cell_type": "code",
   "execution_count": null,
   "metadata": {},
   "outputs": [],
   "source": [
    "print(impact_ige_eligible_baseline.shape)\n",
    "impact_ige_eligible_baseline.head()"
   ]
  },
  {
   "cell_type": "code",
   "execution_count": null,
   "metadata": {},
   "outputs": [],
   "source": [
    "# Merging duplicate rows and overwriting NaN values\n",
    "\n",
    "# Group by columns and aggregate using the mean (for numeric columns) or first (for non-numeric columns)\n",
    "impact_ige_eligible_baseline_merged = impact_ige_eligible_baseline.groupby(['Participant ID', 'Collection Date', 'Visit'], as_index=False).agg({'Ara h1 (kU/L)': 'mean', 'Ara h2 (kU/L)': 'mean', 'Ara h3 (kU/L)': 'mean', 'Ara h6 (kU/L)': 'mean'})\n",
    "\n",
    "# Reset the index\n",
    "impact_ige_eligible_baseline_merged.reset_index(drop=True, inplace=True)\n"
   ]
  },
  {
   "cell_type": "code",
   "execution_count": null,
   "metadata": {},
   "outputs": [],
   "source": [
    "print(impact_ige_eligible_baseline_merged.shape)\n",
    "impact_ige_eligible_baseline_merged.head(50)"
   ]
  },
  {
   "cell_type": "code",
   "execution_count": null,
   "metadata": {},
   "outputs": [],
   "source": [
    "print(len(impact_ige_eligible_baseline_merged['Participant ID'].unique().tolist()))"
   ]
  },
  {
   "cell_type": "code",
   "execution_count": null,
   "metadata": {},
   "outputs": [],
   "source": [
    "# checking which rows have NaN Values \n",
    "ig_nan_rows = impact_ige_eligible_baseline_merged[impact_ige_eligible_baseline_merged.isna().any(axis=1)]\n"
   ]
  },
  {
   "cell_type": "code",
   "execution_count": null,
   "metadata": {},
   "outputs": [],
   "source": [
    "print(ig_nan_rows.shape)\n",
    "ig_nan_rows.head(72)"
   ]
  },
  {
   "cell_type": "code",
   "execution_count": null,
   "metadata": {},
   "outputs": [],
   "source": [
    "# getting the participant IDs with the NaN values\n",
    "nan_participant_ids = impact_ige_eligible_baseline_merged.loc[impact_ige_eligible_baseline_merged.isna().any(axis=1), 'Participant ID'].tolist()\n",
    "nan_participant_ids"
   ]
  },
  {
   "cell_type": "code",
   "execution_count": null,
   "metadata": {},
   "outputs": [],
   "source": [
    "#dropping duplicates\n",
    "nan_participant_ids = list(set(nan_participant_ids))\n",
    "nan_participant_ids\n",
    "\n",
    "len(nan_participant_ids)"
   ]
  },
  {
   "cell_type": "code",
   "execution_count": null,
   "metadata": {},
   "outputs": [],
   "source": []
  },
  {
   "cell_type": "markdown",
   "metadata": {},
   "source": [
    "---\n",
    "# Cleaning Skin Prick Test (Wheal) baseline \n",
    "summary of steps:\n",
    "- dropping all rows for visits that are not -2 the initial visit\n",
    "- dropping all non baseline columns\n",
    "- Merging duplicate rows and overwriting NaN values\n",
    "\n",
    "\n",
    "### Notes on 'impact_spt_eligible_baseline_merged' dataframe: \n",
    "\n",
    "- 144 unique participant IDs because everyone had baseline wheal data done on the same date "
   ]
  },
  {
   "cell_type": "code",
   "execution_count": null,
   "metadata": {},
   "outputs": [],
   "source": [
    "impact_spt_eligible_baseline = impact_spt_eligible_filtered"
   ]
  },
  {
   "cell_type": "code",
   "execution_count": null,
   "metadata": {},
   "outputs": [],
   "source": [
    "print(len(impact_spt['Participant ID'].unique().tolist()))"
   ]
  },
  {
   "cell_type": "code",
   "execution_count": null,
   "metadata": {},
   "outputs": [],
   "source": [
    "print(len(impact_spt_eligible_filtered['Participant ID'].unique().tolist()))\n"
   ]
  },
  {
   "cell_type": "code",
   "execution_count": null,
   "metadata": {},
   "outputs": [],
   "source": [
    "print(len(impact_spt_eligible_baseline['Participant ID'].unique().tolist()))"
   ]
  },
  {
   "cell_type": "code",
   "execution_count": null,
   "metadata": {},
   "outputs": [],
   "source": [
    "#checking if there are any participants that don't have baseline wheal data (-2 visit)\n",
    "impact_spt_eligible_baseline_2 = impact_spt_eligible_baseline[impact_spt_eligible_baseline['Visit'] == -2]\n",
    "len(impact_spt_eligible_baseline_2['Participant ID'].unique().tolist())\n",
    "#output 144, all eligible participants have wheal baseline data"
   ]
  },
  {
   "cell_type": "code",
   "execution_count": null,
   "metadata": {},
   "outputs": [],
   "source": [
    "#dropping nonbaseline data\n",
    "impact_spt_eligible_baseline = impact_spt_eligible_baseline.drop(columns=['Wheal (mm)'])\n"
   ]
  },
  {
   "cell_type": "code",
   "execution_count": null,
   "metadata": {},
   "outputs": [],
   "source": [
    "print(impact_spt_eligible_baseline.shape)\n",
    "impact_spt_eligible_baseline.head()"
   ]
  },
  {
   "cell_type": "code",
   "execution_count": null,
   "metadata": {},
   "outputs": [],
   "source": [
    "# dropping all rows for visits that are not -2 the initial visit\n",
    "impact_spt_eligible_baseline = impact_spt_eligible_baseline[impact_spt_eligible_baseline['Visit'] == -2]\n"
   ]
  },
  {
   "cell_type": "code",
   "execution_count": null,
   "metadata": {},
   "outputs": [],
   "source": [
    "print(impact_spt_eligible_baseline.shape)\n",
    "impact_spt_eligible_baseline.head()"
   ]
  },
  {
   "cell_type": "code",
   "execution_count": null,
   "metadata": {},
   "outputs": [],
   "source": []
  },
  {
   "cell_type": "code",
   "execution_count": null,
   "metadata": {},
   "outputs": [],
   "source": []
  },
  {
   "cell_type": "code",
   "execution_count": null,
   "metadata": {},
   "outputs": [],
   "source": []
  },
  {
   "cell_type": "markdown",
   "metadata": {},
   "source": [
    "### viewing all baseline data so far \n"
   ]
  },
  {
   "cell_type": "code",
   "execution_count": null,
   "metadata": {},
   "outputs": [],
   "source": [
    "#impact_ige_eligible_baseline_merged\n",
    "#impact_serum_eligible_baseline_merged\n",
    "#impact_ad_eligible_baseline\n",
    "#impact_spt_eligible_baseline"
   ]
  },
  {
   "cell_type": "code",
   "execution_count": null,
   "metadata": {},
   "outputs": [],
   "source": [
    "# Finding the participant IDs that are common among all 3 baseline data frames\n",
    "ige_list = impact_ige_eligible_baseline_merged['Participant ID'].tolist()\n",
    "serum_list = impact_serum_eligible_baseline_merged['Participant ID'].tolist()\n",
    "ad_list = impact_ad_eligible_baseline['Participant ID'].tolist()\n",
    "spt_list = impact_spt_eligible_baseline['Participant ID'].tolist()\n",
    "\n",
    "common_participants = set(ige_list).intersection(serum_list, ad_list, spt_list)\n",
    "common_participants = list(common_participants)\n"
   ]
  },
  {
   "cell_type": "code",
   "execution_count": null,
   "metadata": {},
   "outputs": [],
   "source": [
    "len(common_participants)\n",
    "#output 141"
   ]
  },
  {
   "cell_type": "code",
   "execution_count": null,
   "metadata": {},
   "outputs": [],
   "source": [
    "# Updating each data frame so that they only contain the common participants \n",
    "impact_ige_eligible_baseline_merged_common = impact_ige_eligible_baseline_merged[impact_ige_eligible_baseline_merged['Participant ID'].isin(common_participants)]\n",
    "impact_serum_eligible_baseline_merged_common = impact_serum_eligible_baseline_merged[impact_serum_eligible_baseline_merged['Participant ID'].isin(common_participants)]\n",
    "impact_ad_eligible_baseline_common = impact_ad_eligible_baseline[impact_ad_eligible_baseline['Participant ID'].isin(common_participants)]\n",
    "impact_spt_eligible_baseline_common = impact_spt_eligible_baseline[impact_spt_eligible_baseline['Participant ID'].isin(common_participants)]"
   ]
  },
  {
   "cell_type": "code",
   "execution_count": null,
   "metadata": {},
   "outputs": [],
   "source": [
    "print(impact_ige_eligible_baseline_merged_common.shape) #multiple dates for obtaining baseline data for some IDs\n",
    "print(impact_serum_eligible_baseline_merged_common.shape) #multiple dates for obtaining baseline data for some IDs\n",
    "print(impact_ad_eligible_baseline_common.shape)\n",
    "print(impact_spt_eligible_baseline_common.shape)"
   ]
  },
  {
   "cell_type": "code",
   "execution_count": null,
   "metadata": {},
   "outputs": [],
   "source": [
    "#Merging Serum and Ad baselines\n",
    "# outer: use union of keys from both frames, similar to a SQL full outer join; sort keys lexicographically.\n",
    "merged_serum_ad = impact_serum_eligible_baseline_merged_common.merge(impact_ad_eligible_baseline_common, \n",
    "                                                               how='outer', #preserves all rows and adds NaN for empty rows\n",
    "                                                               on=['Participant ID', 'Collection Date', 'Visit'])\n"
   ]
  },
  {
   "cell_type": "code",
   "execution_count": null,
   "metadata": {},
   "outputs": [],
   "source": [
    "print(merged_serum_ad.shape)\n",
    "merged_serum_ad.head()"
   ]
  },
  {
   "cell_type": "code",
   "execution_count": null,
   "metadata": {},
   "outputs": [],
   "source": [
    "#Merging the merged_serum_ad data with impact_ige_eligible_baseline_merged_common baselines\n",
    "merged_serum_ad_ige_baseline = impact_ige_eligible_baseline_merged_common.merge(merged_serum_ad, \n",
    "                                                               how='outer', \n",
    "                                                               on=['Participant ID', 'Collection Date', 'Visit'])"
   ]
  },
  {
   "cell_type": "code",
   "execution_count": null,
   "metadata": {},
   "outputs": [],
   "source": [
    "print(merged_serum_ad_ige_baseline.shape)\n",
    "merged_serum_ad_ige_baseline.head()"
   ]
  },
  {
   "cell_type": "code",
   "execution_count": null,
   "metadata": {},
   "outputs": [],
   "source": [
    "# exporting this to .xlsx to finish merging the participants who had baseline \n",
    "# data on different dates manually in excel\n",
    "\n",
    "#commenting out to prevent exporting again\n",
    "#merged_serum_ad_ige_baseline.to_excel('merged_serum_ad_ige_baseline_raw_2.xlsx', index=False)"
   ]
  },
  {
   "cell_type": "code",
   "execution_count": null,
   "metadata": {},
   "outputs": [],
   "source": []
  },
  {
   "cell_type": "code",
   "execution_count": null,
   "metadata": {},
   "outputs": [],
   "source": []
  },
  {
   "cell_type": "code",
   "execution_count": null,
   "metadata": {},
   "outputs": [],
   "source": []
  },
  {
   "cell_type": "code",
   "execution_count": null,
   "metadata": {},
   "outputs": [],
   "source": [
    "# importing back in the cleaned file \n",
    "\n",
    "merged_serum_ad_ige_baseline_141 = pd.read_excel(\"Data/Impact_Study/merged_serum_ad_ige_baseline_141_2.xlsx\")"
   ]
  },
  {
   "cell_type": "code",
   "execution_count": null,
   "metadata": {},
   "outputs": [],
   "source": [
    "print(merged_serum_ad_ige_baseline_141.shape)\n",
    "merged_serum_ad_ige_baseline_141.head()"
   ]
  },
  {
   "cell_type": "code",
   "execution_count": null,
   "metadata": {},
   "outputs": [],
   "source": [
    "# merging impact_spt_eligible_baseline_common data with merged_serum_ad_ige_baseline_clean\n",
    "# both have 141 rows, should be 1:1\n",
    "\n",
    "\n",
    "#Merging the merged_serum_ad data with impact_ige_eligible_baseline_merged_common baselines\n",
    "impact_all_baseline = merged_serum_ad_ige_baseline_141.merge(impact_spt_eligible_baseline_common, \n",
    "                                                               how='outer', \n",
    "                                                               on=['Participant ID', 'Collection Date', 'Visit'])"
   ]
  },
  {
   "cell_type": "code",
   "execution_count": null,
   "metadata": {},
   "outputs": [],
   "source": [
    "print(impact_all_baseline.shape)\n",
    "impact_all_baseline.head()"
   ]
  },
  {
   "cell_type": "code",
   "execution_count": null,
   "metadata": {},
   "outputs": [],
   "source": [
    "# did not merge 1:1, There are 10 more rows than expected. \n",
    "# Assuming again it's because wheal samples were taking on slightly different dates.\n",
    "# exporting to manually parse in excel again \n",
    "\n",
    "#commenting out to prevent exporting again\n",
    "#impact_all_baseline.to_excel('Data/IMPACT_Study/impact_all_baseline_raw_2.xlsx', index=False)\n"
   ]
  },
  {
   "cell_type": "markdown",
   "metadata": {},
   "source": [
    "# Final transformation of dataset to match LEAP columns "
   ]
  },
  {
   "cell_type": "code",
   "execution_count": null,
   "metadata": {},
   "outputs": [],
   "source": [
    "# importing back in the cleaned file \n",
    "\n",
    "impact_all_baseline_141 = pd.read_excel(\"Data/Impact_Study/impact_all_baseline_141_2.xlsx\")\n"
   ]
  },
  {
   "cell_type": "code",
   "execution_count": null,
   "metadata": {},
   "outputs": [],
   "source": [
    "print(impact_all_baseline_141.shape)\n",
    "impact_all_baseline_141.head()"
   ]
  },
  {
   "cell_type": "code",
   "execution_count": null,
   "metadata": {},
   "outputs": [],
   "source": [
    "# drop all unecessary columns \n",
    "impact_all_baseline_141 = impact_all_baseline_141.drop(columns=['Completed Study Protocol'])\n"
   ]
  },
  {
   "cell_type": "code",
   "execution_count": null,
   "metadata": {},
   "outputs": [],
   "source": [
    "# rename 'Passed Visit -2 OFC' to 'OFC Pass'\n",
    "impact_all_baseline_141 = impact_all_baseline_141.rename(columns={'Passed Visit -2 OFC': 'OFC Pass'})\n",
    "\n",
    "# rename Wheal (mm) baseline\n",
    "impact_all_baseline_141 = impact_all_baseline_141.rename(columns={'Wheal (mm) baseline': 'Wheal (mm)'})\n"
   ]
  },
  {
   "cell_type": "code",
   "execution_count": null,
   "metadata": {},
   "outputs": [],
   "source": [
    "print(impact_all_baseline_141.shape)\n",
    "impact_all_baseline_141.head()"
   ]
  },
  {
   "cell_type": "markdown",
   "metadata": {},
   "source": [
    "#### Creating Binary column from Child's Sex -> Male\n",
    "\n",
    "note origial mapping in the raw eat dataset was:  \n",
    "'Male', 'Female'  \n",
    "\n",
    "in this new encoding:  \n",
    "1=male, 0=female"
   ]
  },
  {
   "cell_type": "code",
   "execution_count": null,
   "metadata": {},
   "outputs": [],
   "source": [
    "# function to map the values in 'Sex (character)' to integers\n",
    "def encode_sex(sex):\n",
    "    if sex == \"Male\":\n",
    "        return 1\n",
    "    elif sex == \"Female\":\n",
    "        return 0\n",
    "    else:\n",
    "        return None  # Return None for any other values\n",
    "\n",
    "# create the new 'Male' column\n",
    "impact_all_baseline_141['Male'] = impact_all_baseline_141['Sex (character)'].apply(encode_sex)\n",
    "\n",
    "# drop original column \n",
    "impact_all_baseline_141 = impact_all_baseline_141.drop(columns=['Sex (character)'])\n"
   ]
  },
  {
   "cell_type": "code",
   "execution_count": null,
   "metadata": {},
   "outputs": [],
   "source": [
    "print(impact_all_baseline_141.shape)\n",
    "impact_all_baseline_141.head()"
   ]
  },
  {
   "cell_type": "code",
   "execution_count": null,
   "metadata": {},
   "outputs": [],
   "source": [
    "impact_all_baseline_141['Race'].unique()"
   ]
  },
  {
   "cell_type": "markdown",
   "metadata": {},
   "source": [
    "# One Hot Encoding for Race \n",
    "note original values for \"Race\" from the raw IMPACT dataset is as follows\n",
    "- 'White/Caucasian', \n",
    "- 'Mixed Race', \n",
    "- 'Asian',\n",
    "- 'Black or African American'"
   ]
  },
  {
   "cell_type": "code",
   "execution_count": null,
   "metadata": {},
   "outputs": [],
   "source": [
    "# Create dummy variables for \"race\"\n",
    "race_dummies = pd.get_dummies(impact_all_baseline_141['Race'])\n",
    "\n",
    "# Define the mapping between values and column names\n",
    "race_mapping = {\n",
    "    'White/Caucasian': 'White',\n",
    "    'Black or African American': 'Black',\n",
    "    'Asian': 'Asian',\n",
    "    'Mixed Race': 'Mixed',\n",
    "     np.nan: 'Unknown'\n",
    "}\n",
    "\n",
    "# iterate over the mapping and update the dataframe columns\n",
    "for value, column_name in race_mapping.items():\n",
    "    if value in race_dummies.columns:\n",
    "        impact_all_baseline_141[column_name] = race_dummies[value].fillna(0).astype(int)\n",
    "    else:\n",
    "        impact_all_baseline_141[column_name] = 0\n",
    "\n",
    "# drop original \"race\" column\n",
    "impact_all_baseline_141 = impact_all_baseline_141.drop('Race', axis=1)\n"
   ]
  },
  {
   "cell_type": "code",
   "execution_count": null,
   "metadata": {},
   "outputs": [],
   "source": [
    "print(impact_all_baseline_141.shape)\n",
    "impact_all_baseline_141.head()"
   ]
  },
  {
   "cell_type": "code",
   "execution_count": null,
   "metadata": {},
   "outputs": [],
   "source": [
    "# add the missing columns (Flare, h8, h9, Other) and fill with NaNs so the dataset matches LEAP\n",
    "impact_all_baseline_141['Flare (mm)'] = np.nan\n",
    "impact_all_baseline_141['Ara h8 (kU/L)'] = np.nan\n",
    "impact_all_baseline_141['Ara h9 (kU/L)'] = np.nan\n",
    "impact_all_baseline_141['Other'] = np.nan"
   ]
  },
  {
   "cell_type": "code",
   "execution_count": null,
   "metadata": {},
   "outputs": [],
   "source": [
    "print(impact_all_baseline_141.shape)\n",
    "impact_all_baseline_141.head()"
   ]
  },
  {
   "cell_type": "code",
   "execution_count": null,
   "metadata": {},
   "outputs": [],
   "source": [
    "# reorganizing columns \n",
    "\n",
    "print(impact_all_baseline_141.columns)"
   ]
  },
  {
   "cell_type": "code",
   "execution_count": null,
   "metadata": {},
   "outputs": [],
   "source": [
    "print(impact_all_baseline_141.shape)\n",
    "impact_all_baseline_141.head()"
   ]
  },
  {
   "cell_type": "code",
   "execution_count": null,
   "metadata": {},
   "outputs": [],
   "source": [
    "# Define the desired column order\n",
    "desired_order = ['Participant ID',\n",
    "                 'Collection Date',\n",
    "                 'Visit',\n",
    "                \"Age\",\n",
    "                 \"Male\",\n",
    "                 \"White\",\n",
    "                 \"Black\",\n",
    "                 \"Asian\",\n",
    "                 \"Other\",\n",
    "                 \"Mixed\",\n",
    "                 \"Unknown\",\n",
    "                 \"Wheal (mm)\",\n",
    "                 \"Flare (mm)\",\n",
    "                 \"Total IgE (kU/L)\",\n",
    "                 \"Peanut IgE (kU/L)\",\n",
    "                 \"Ara h1 (kU/L)\",\n",
    "                 \"Ara h2 (kU/L)\",\n",
    "                 \"Ara h3 (kU/L)\",\n",
    "                 \"Ara h6 (kUA/L)\",\n",
    "                 \"Ara h8 (kU/L)\",\n",
    "                 \"Ara h9 (kU/L)\",\n",
    "                 \"OFC Pass\"]\n",
    "\n",
    "# Reorder the columns using reindex\n",
    "impact_all_baseline_141 = impact_all_baseline_141.reindex(columns=desired_order)\n"
   ]
  },
  {
   "cell_type": "code",
   "execution_count": null,
   "metadata": {},
   "outputs": [],
   "source": [
    "print(impact_all_baseline_141.shape)\n",
    "impact_all_baseline_141.head()"
   ]
  },
  {
   "cell_type": "markdown",
   "metadata": {},
   "source": [
    "# Final export of baseline clean data for IMPACT study "
   ]
  },
  {
   "cell_type": "code",
   "execution_count": null,
   "metadata": {},
   "outputs": [],
   "source": [
    "#commenting out to prevent exporting again\n",
    "impact_all_baseline_141.to_excel('Data/IMPACT_Study/impact_all_baseline_clean_2.xlsx', index=False)\n"
   ]
  },
  {
   "cell_type": "code",
   "execution_count": null,
   "metadata": {},
   "outputs": [],
   "source": []
  }
 ],
 "metadata": {
  "kernelspec": {
   "display_name": "Python 3",
   "language": "python",
   "name": "python3"
  },
  "language_info": {
   "codemirror_mode": {
    "name": "ipython",
    "version": 3
   },
   "file_extension": ".py",
   "mimetype": "text/x-python",
   "name": "python",
   "nbconvert_exporter": "python",
   "pygments_lexer": "ipython3",
   "version": "3.8.3"
  }
 },
 "nbformat": 4,
 "nbformat_minor": 5
}
