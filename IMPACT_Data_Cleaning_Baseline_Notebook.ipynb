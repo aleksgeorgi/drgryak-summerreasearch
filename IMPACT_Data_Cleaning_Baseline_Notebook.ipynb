{
 "cells": [
  {
   "cell_type": "code",
   "execution_count": 1,
   "metadata": {},
   "outputs": [],
   "source": [
    "import pandas as pd\n",
    "import numpy as np"
   ]
  },
  {
   "cell_type": "code",
   "execution_count": 2,
   "metadata": {},
   "outputs": [],
   "source": [
    "impact_ad = pd.read_excel(\"Data/IMPACT_Study/ADSTART0_2023-05-25_06-46-11.xlsx\")\n",
    "impact_serum = pd.read_excel(\"Data/IMPACT_Study/Serum antibody_2023-05-25_06-32-15.xlsx\")\n",
    "impact_ige = pd.read_excel(\"Data/Impact_Study/IgE_IgG4_component_2023-05-25_06-30-40.xlsx\")\n",
    "impact_spt = pd.read_excel(\"Data/Impact_study/Skin Prick Test_2023-05-25_06-31-04.xlsx\")"
   ]
  },
  {
   "cell_type": "markdown",
   "metadata": {},
   "source": [
    "# About Data Sets\n",
    "\n",
    "#### ADSTART0_2023-05-25_06-46-11 \n",
    "- Overview of participant data \n",
    "\n",
    "#### IgE_IgG4_component_2023-05-25_06-30-40\n",
    "- IgE component levels in this dataset  \n",
    "\n",
    "#### Serum antibody_2023-05-25_06-32-15\n",
    "OFC results:\n",
    "- \"Passed Visit 24 OFC for ITT\"\n",
    "- \"Passed Visit 24 OFC No Imputation\"\t\n",
    "- \"Passed Visit 26 OFC for ITT\"\n",
    "- \"Passed Visit 26 OFC No Imputation\"\n",
    "\n",
    "#### Skin Prick Test_2023-05-25_06-31-04\n",
    "- \"Wheal (mm)\"\n",
    "\n",
    "#### BAT data_2023-05-25_06-31-20\n",
    "- Stands for \"basophil activation test (BAT)\"\n",
    "- No known use case for this model \n",
    "\n",
    "---\n",
    "\n",
    "# Acronyms \n",
    "- Intent-to-treat (ITT)\n",
    "- Oral Immunotherapy (OIT)\n",
    "- Initial Dose Escalation (IDE)"
   ]
  },
  {
   "cell_type": "markdown",
   "metadata": {},
   "source": [
    "# About Study \n",
    "- taken from 2022 Lancet_IMPACT.pdf (pdf page 3)  \n",
    "\n",
    "Children aged 12 months or older and younger than \n",
    "48 months were screened for inclusion in the study. \n",
    "\n",
    "__Inclusion criteria__ included the following: a clinical \n",
    "history of peanut allergy or avoidance without ever \n",
    "having eaten peanut, peanut-specific IgE levels of 5 kUA/L \n",
    "or higher, a skin prick test (SPT) wheal size greater than \n",
    "that of saline control by 3 mm or more, and a positive \n",
    "reaction to a cumulative dose of 500 mg or less of peanut \n",
    "in a double-blind, placebo-controlled food challenge \n",
    "(DBPCFC).   \n",
    "\n",
    "__exclusion criteria__ included a history of \n",
    "severe anaphylaxis with hypotension to peanut, more \n",
    "than mild asthma or uncontrolled asthma, uncontrolled \n",
    "atopic dermatitis, and eosinophilic gastrointestinal \n",
    "disease (the full list of exclusion criteria is presented in \n",
    "the appendix p 2)."
   ]
  },
  {
   "cell_type": "markdown",
   "metadata": {},
   "source": [
    "---\n",
    "# Study Design\n",
    "\n",
    "This is a randomized, double-blind, placebo-controlled, multi-center study comparing peanut oral immunotherapy to placebo. Eligible participants with peanut allergy will be randomly assigned to receive either peanut OIT or placebo for 134 weeks followed by peanut avoidance for 26 weeks.  \n",
    "\n",
    "An initial blinded oral food challenge (OFC) to 1 g of peanut flour (500 mg peanut protein) will be conducted. Participants must have a clinical reaction during this blinded OFC to initiate study dosing. After the initial blinded OFC, the study design includes the following:  \n",
    "\n",
    "__Initial Dose Escalation:__ This will occur on a single day in which multiple doses are given. Peanut or placebo dosing will be given incrementally and increase every 15-30 minutes until a dose of 12 mg peanut flour (6 mg peanut protein) or placebo flour is given. The first four doses will be administered as a peanut flour extract of 0.1 to 0.8 mg peanut protein, which is 10 to 80 microliters peanut flour extract, or placebo flour extract and the last three doses will be given as peanut flour of 3 to 12 mg peanut flour 1.5 to 6 mg peanut protein or placebo flour. Participants must tolerate a dose of at least 3 mg peanut flour (1.5 mg peanut protein) or placebo flour to remain in the study.  \n",
    "\n",
    "__Build-up:__ After the initial dose escalation day, the participant will return to the research unit the next morning for an observed dose administration of the highest tolerated dose from the initial escalation day. The participant will then continue on the daily OIT dosing at home and return to the research unit every 2 weeks for a dose escalation. The dosing escalations will be consistent with previous similar OIT studies.\n",
    "  \n",
    "Participants who do not reach the 4000 mg peanut flour (2000 mg peanut protein) or placebo flour dose during the build-up phase may enter maintenance phase at their highest tolerated dose, which must be at least 500 mg peanut flour (250 mg peanut protein) or placebo flour.  \n",
    "\n",
    "The build-up phase will comprise 30 weeks.  \n",
    "\n",
    "__Maintenance:__ The participant will continue on daily OIT with return visits every 13 weeks. At the end of this phase the participant will undergo a blinded OFC to 10 g peanut flour (5 g peanut protein).  \n",
    "This phase will comprise 104 weeks.  \n",
    "\n",
    "__Avoidance:__ In this final phase participants stop OIT and will avoid peanut consumption They will be seen 2 weeks and 26 weeks after initiating this phase. At the completion of this phase participants will have a final blinded OFC to 10 g peanut flour (5 g peanut protein). Participants who do not have a clinical reaction to the challenge will receive an Open Food Challenge (OpFC).  \n",
    "\n",
    "Avoidance will comprise 26 weeks.  \n",
    "\n",
    "__Post-challenge:__ If participants do not have a clinical reaction during the OpFC at the end of avoidance, they will be allowed to consume peanut and will have one visit which will include peripheral blood sampling for mechanistic assays assessments.  \n",
    "\n",
    "Post-challenge will comprise 2 weeks.  "
   ]
  },
  {
   "cell_type": "markdown",
   "metadata": {},
   "source": [
    "---\n",
    "# Exploring where and how OFCs are captured\n",
    "Looking for 3 OFC tests in total\n",
    "\n",
    "### 1st OFC: According to Study Design in protocol: \n",
    "-  Initial reaction: \"An initial blinded oral food challenge (OFC) to 1 g of peanut flour (500 mg peanut protein) will be conducted. Participants must have a clinical reaction during this blinded OFC to initiate study dosing.\" (IDE)\n",
    "- This was for 0.5 g peanut\n",
    "\n",
    "### 2nd & 3rd OFC: According to Schedule of Assessments: Appendix 2:\n",
    "- 5 g Oral Food Challenge performed during Avoidance phase during visit 24/week 134 and visit 26/week 160\n",
    "- this was at or below 5 g peanut\n",
    "\n"
   ]
  },
  {
   "cell_type": "markdown",
   "metadata": {},
   "source": [
    "---\n",
    "# Filtering participants that were study eligible (n=144)\n",
    "- Total participants enrolled = 209  \n",
    "- Total participants eligible = 144\n",
    "- Total excluded = 65 (62 that did not have OFC fail results + 2 that could not handle the IDE)\n",
    "\n",
    "#### filtering solution (this will help filter initial screening OFC results too)\n",
    "- filter by'ADSTART0 -> immpact_ad['Randomized']==\"Yes\" \n",
    "- filter by ADSTART0 -> \"Study Termination Reason\"-> \"Inability to reach 3 mg peanut/placebo flour (1.5 mg peanut/placebo protein) during the initial dose escalation\" (These are the two that terminated after being randomized but could not reach their IDE: 146-2 -> n=144)\n",
    "\n",
    "Additional filter to get just those initial screening OFC rows:\n",
    "- filter by visit -2 or -1 (this is the initial screening visit number)\n",
    "\n",
    "Explanation: There doesn't seem to be a OFC column for the initial screening.   \n",
    "However can filter criteria based on protocol to determine who failed their first OFC upon study intake and manually assign the OFC fail column.   \n",
    "These would be the 144 participants that were eligible for the study and have a visit value of -2 or -1"
   ]
  },
  {
   "cell_type": "code",
   "execution_count": 3,
   "metadata": {},
   "outputs": [
    {
     "data": {
      "text/plain": [
       "2"
      ]
     },
     "execution_count": 3,
     "metadata": {},
     "output_type": "execute_result"
    }
   ],
   "source": [
    "# Useing 'Randomized' to filter out the 146 that passed the criteria and were randomly assigned for the study \n",
    "(impact_ad['Randomized']==\"Yes\").sum() #output = 146\n",
    "\n",
    "# filtering out two more participants that failed during the initial dose escalation (IDE)\n",
    "# These are the two that terminated after being randomized 146-2 -> n=144\n",
    "\n",
    "(impact_ad['Study Termination Reason']==\"Inability to reach 3 mg peanut/placebo flour (1.5 mg peanut/placebo protein) during the initial dose escalation\").sum()\n",
    "#output = 2"
   ]
  },
  {
   "cell_type": "markdown",
   "metadata": {},
   "source": [
    "### Creating a new DF for just the eligible 144 randomly assigned participants \n",
    "- and removing unnecessary columns "
   ]
  },
  {
   "cell_type": "code",
   "execution_count": 4,
   "metadata": {},
   "outputs": [],
   "source": [
    "impact_ad_eligible = impact_ad.loc[(impact_ad['Randomized'] == 'Yes') & ~(impact_ad['Study Termination Reason'] == 'Inability to reach 3 mg peanut/placebo flour (1.5 mg peanut/placebo protein) during the initial dose escalation')]\n",
    "\n",
    "impact_ad_cols_to_keep = [\n",
    "     'Participant ID',\n",
    "     'Visit', # -2 is the initial participant screening \n",
    "     'Date of Screening Visit',\n",
    "     'Randomized', # Use this to filter out participants that did not pass the study screening\n",
    "     'Study Status', # Values: 'Discontinued Therapy', 'Completed Study', 'Enrolled but not Randomized', 'Early Termination', 'Screen Failure', 'Screened but not Enrolled'\n",
    "     'Completed Study Protocol', # Values: 'No', 'Yes'\n",
    "     'Sex (character)',\n",
    "     'Race',\n",
    "     'Completed Study Assessments Numeric', #1 for yes/ 0 for no (means attended all visits up to 26, excluding 27)\n",
    "     'Age at screening (years)',\n",
    "     'Age at Screening (years) Not Rounded'\n",
    "]\n",
    "\n",
    "# this DF only contains the 144 eligible participants \n",
    "impact_ad_eligible_filtered = impact_ad_eligible[impact_ad_cols_to_keep]\n",
    "\n",
    "impact_ad_eligible_filtered = impact_ad_eligible_filtered.drop(columns=['Randomized'])"
   ]
  },
  {
   "cell_type": "code",
   "execution_count": 6,
   "metadata": {},
   "outputs": [],
   "source": [
    "# renaming'Date of Screening Visit' to 'Collection Date' to match the other datasets \n",
    "impact_ad_eligible_filtered.rename(columns={'Date of Screening Visit': 'Collection Date'}, inplace=True)\n"
   ]
  },
  {
   "cell_type": "code",
   "execution_count": 7,
   "metadata": {},
   "outputs": [
    {
     "name": "stdout",
     "output_type": "stream",
     "text": [
      "(144, 10)\n"
     ]
    },
    {
     "data": {
      "text/html": [
       "<div>\n",
       "<style scoped>\n",
       "    .dataframe tbody tr th:only-of-type {\n",
       "        vertical-align: middle;\n",
       "    }\n",
       "\n",
       "    .dataframe tbody tr th {\n",
       "        vertical-align: top;\n",
       "    }\n",
       "\n",
       "    .dataframe thead th {\n",
       "        text-align: right;\n",
       "    }\n",
       "</style>\n",
       "<table border=\"1\" class=\"dataframe\">\n",
       "  <thead>\n",
       "    <tr style=\"text-align: right;\">\n",
       "      <th></th>\n",
       "      <th>Participant ID</th>\n",
       "      <th>Visit</th>\n",
       "      <th>Collection Date</th>\n",
       "      <th>Study Status</th>\n",
       "      <th>Completed Study Protocol</th>\n",
       "      <th>Sex (character)</th>\n",
       "      <th>Race</th>\n",
       "      <th>Completed Study Assessments Numeric</th>\n",
       "      <th>Age at screening (years)</th>\n",
       "      <th>Age at Screening (years) Not Rounded</th>\n",
       "    </tr>\n",
       "  </thead>\n",
       "  <tbody>\n",
       "    <tr>\n",
       "      <th>0</th>\n",
       "      <td>IMPACT_101655</td>\n",
       "      <td>NaN</td>\n",
       "      <td>2012-10-11</td>\n",
       "      <td>Discontinued Therapy</td>\n",
       "      <td>No</td>\n",
       "      <td>Male</td>\n",
       "      <td>White/Caucasian</td>\n",
       "      <td>0</td>\n",
       "      <td>4</td>\n",
       "      <td>3.8</td>\n",
       "    </tr>\n",
       "    <tr>\n",
       "      <th>1</th>\n",
       "      <td>IMPACT_102436</td>\n",
       "      <td>NaN</td>\n",
       "      <td>2013-03-14</td>\n",
       "      <td>Completed Study</td>\n",
       "      <td>Yes</td>\n",
       "      <td>Male</td>\n",
       "      <td>White/Caucasian</td>\n",
       "      <td>1</td>\n",
       "      <td>4</td>\n",
       "      <td>3.9</td>\n",
       "    </tr>\n",
       "    <tr>\n",
       "      <th>2</th>\n",
       "      <td>IMPACT_105670</td>\n",
       "      <td>NaN</td>\n",
       "      <td>2013-04-04</td>\n",
       "      <td>Completed Study</td>\n",
       "      <td>Yes</td>\n",
       "      <td>Female</td>\n",
       "      <td>White/Caucasian</td>\n",
       "      <td>1</td>\n",
       "      <td>3</td>\n",
       "      <td>3.0</td>\n",
       "    </tr>\n",
       "    <tr>\n",
       "      <th>4</th>\n",
       "      <td>IMPACT_113135</td>\n",
       "      <td>NaN</td>\n",
       "      <td>2013-11-25</td>\n",
       "      <td>Early Termination</td>\n",
       "      <td>No</td>\n",
       "      <td>Female</td>\n",
       "      <td>White/Caucasian</td>\n",
       "      <td>0</td>\n",
       "      <td>3</td>\n",
       "      <td>2.6</td>\n",
       "    </tr>\n",
       "    <tr>\n",
       "      <th>5</th>\n",
       "      <td>IMPACT_115876</td>\n",
       "      <td>NaN</td>\n",
       "      <td>2014-03-19</td>\n",
       "      <td>Completed Study</td>\n",
       "      <td>Yes</td>\n",
       "      <td>Male</td>\n",
       "      <td>Mixed Race</td>\n",
       "      <td>1</td>\n",
       "      <td>2</td>\n",
       "      <td>2.2</td>\n",
       "    </tr>\n",
       "  </tbody>\n",
       "</table>\n",
       "</div>"
      ],
      "text/plain": [
       "  Participant ID  Visit Collection Date          Study Status  \\\n",
       "0  IMPACT_101655    NaN      2012-10-11  Discontinued Therapy   \n",
       "1  IMPACT_102436    NaN      2013-03-14       Completed Study   \n",
       "2  IMPACT_105670    NaN      2013-04-04       Completed Study   \n",
       "4  IMPACT_113135    NaN      2013-11-25     Early Termination   \n",
       "5  IMPACT_115876    NaN      2014-03-19       Completed Study   \n",
       "\n",
       "  Completed Study Protocol Sex (character)             Race  \\\n",
       "0                       No            Male  White/Caucasian   \n",
       "1                      Yes            Male  White/Caucasian   \n",
       "2                      Yes          Female  White/Caucasian   \n",
       "4                       No          Female  White/Caucasian   \n",
       "5                      Yes            Male       Mixed Race   \n",
       "\n",
       "   Completed Study Assessments Numeric  Age at screening (years)  \\\n",
       "0                                    0                         4   \n",
       "1                                    1                         4   \n",
       "2                                    1                         3   \n",
       "4                                    0                         3   \n",
       "5                                    1                         2   \n",
       "\n",
       "   Age at Screening (years) Not Rounded  \n",
       "0                                   3.8  \n",
       "1                                   3.9  \n",
       "2                                   3.0  \n",
       "4                                   2.6  \n",
       "5                                   2.2  "
      ]
     },
     "execution_count": 7,
     "metadata": {},
     "output_type": "execute_result"
    }
   ],
   "source": [
    "print(impact_ad_eligible_filtered.shape)\n",
    "# correct number of participants now (144)\n",
    "impact_ad_eligible_filtered.head()"
   ]
  },
  {
   "cell_type": "markdown",
   "metadata": {},
   "source": [
    "#### Getting a list of the 144 participant IDs "
   ]
  },
  {
   "cell_type": "code",
   "execution_count": 8,
   "metadata": {},
   "outputs": [
    {
     "name": "stdout",
     "output_type": "stream",
     "text": [
      "144\n"
     ]
    }
   ],
   "source": [
    "participant_ids = impact_ad_eligible_filtered['Participant ID'].unique()\n",
    "print(len(participant_ids)) #output 144 unique participant IDs"
   ]
  },
  {
   "cell_type": "code",
   "execution_count": null,
   "metadata": {},
   "outputs": [],
   "source": []
  },
  {
   "cell_type": "code",
   "execution_count": null,
   "metadata": {},
   "outputs": [],
   "source": []
  },
  {
   "cell_type": "code",
   "execution_count": null,
   "metadata": {},
   "outputs": [],
   "source": []
  },
  {
   "cell_type": "markdown",
   "metadata": {},
   "source": [
    "---\n",
    "# Serum Dataset & IgE_IgG4_component Common Features\n",
    "\n",
    "Duplicate OFC data between both data sets with different labels.  \n",
    "These columns in Serum:\n",
    "\n",
    "- 'Passed Visit 24 OFC for ITT',\n",
    "- 'Passed Visit 24 OFC No Imputation',\n",
    "- 'Passed Visit 26 OFC for ITT',\n",
    "- 'Passed Visit 26 OFC No Imputation',\n",
    " \n",
    "are the same data as these columns in IgE_IgG4_component\n",
    "\n",
    "- OUT24ITT\t\n",
    "- OUT24NOI\t\n",
    "- OUT26ITT\t\n",
    "- OUT26NOI\n",
    "\n",
    "---\n",
    "\n",
    "#### Will take 'Peanut IgE' and 'Total IgE' from column 'Test Name' in Serum data  \n",
    "#### Will take 'Component' and values columns from IgE_IgG4_component \n"
   ]
  },
  {
   "cell_type": "code",
   "execution_count": null,
   "metadata": {},
   "outputs": [],
   "source": []
  },
  {
   "cell_type": "markdown",
   "metadata": {},
   "source": [
    "# Serum Cleaning\n",
    "- taking Peanut IgE and Total IgE from this data set"
   ]
  },
  {
   "cell_type": "code",
   "execution_count": 9,
   "metadata": {},
   "outputs": [
    {
     "data": {
      "text/plain": [
       "146"
      ]
     },
     "execution_count": 9,
     "metadata": {},
     "output_type": "execute_result"
    }
   ],
   "source": [
    "# checking total unique participants is the same\n",
    "len(impact_serum['Participant ID'].unique().tolist())\n",
    "# output 146"
   ]
  },
  {
   "cell_type": "code",
   "execution_count": null,
   "metadata": {},
   "outputs": [],
   "source": [
    "impact_serum.columns.tolist()"
   ]
  },
  {
   "cell_type": "code",
   "execution_count": 13,
   "metadata": {},
   "outputs": [],
   "source": [
    "#filtering by just the participant IDs in the eligible list\n",
    "impact_serum_eligible = impact_serum[impact_serum['Participant ID'].isin(participant_ids)]\n",
    "\n",
    "impact_serum_cols_to_keep = [\n",
    "    'Participant ID',\n",
    "    'Collection Date',\n",
    "    'Visit',\n",
    "    'Test Name', # Peanut IgE, Peanut IgE/Total IgE ratio, Peanut IgG4*, Peanut IgG4/IgE ratio, Total IgE\n",
    "    'Unit',\n",
    "    'Value', # results from 'Test Name'\n",
    "    'Baseline Value', # IgE values taken during initial screening\n",
    "    'Passed Visit 24 OFC No Imputation',\n",
    "    'Passed Visit 26 OFC No Imputation',\n",
    "#     'Tolerance outcome', # has values of nan,  2.,  4.,  1.,  3.\n",
    "#     'Tolerance outcome (character)' # has values of nan, 'Desen_no_Tol', 'No_Desen_no_Tol', 'Desen_Tol', 'No_Desen_Tol\n",
    "]\n",
    "\n",
    "# question for Dr. Gryak on what these mean: \n",
    "# 'Tolerance outcome', has values of nan,  2.,  4.,  1.,  3.\n",
    "# 'Tolerance outcome (character)', has values of nan, 'Desen_no_Tol', 'No_Desen_no_Tol', 'Desen_Tol', 'No_Desen_Tol\n",
    "\n",
    "impact_serum_eligible_filtered = impact_serum_eligible[impact_serum_cols_to_keep]\n"
   ]
  },
  {
   "cell_type": "code",
   "execution_count": 14,
   "metadata": {},
   "outputs": [
    {
     "data": {
      "text/plain": [
       "144"
      ]
     },
     "execution_count": 14,
     "metadata": {},
     "output_type": "execute_result"
    }
   ],
   "source": [
    "#checking to see the above filtering kept the correct number of 144 participants \n",
    "len(impact_serum_eligible_filtered['Participant ID'].unique().tolist()) #output 144 - correct"
   ]
  },
  {
   "cell_type": "code",
   "execution_count": 15,
   "metadata": {},
   "outputs": [
    {
     "name": "stdout",
     "output_type": "stream",
     "text": [
      "(3059, 9)\n"
     ]
    },
    {
     "data": {
      "text/html": [
       "<div>\n",
       "<style scoped>\n",
       "    .dataframe tbody tr th:only-of-type {\n",
       "        vertical-align: middle;\n",
       "    }\n",
       "\n",
       "    .dataframe tbody tr th {\n",
       "        vertical-align: top;\n",
       "    }\n",
       "\n",
       "    .dataframe thead th {\n",
       "        text-align: right;\n",
       "    }\n",
       "</style>\n",
       "<table border=\"1\" class=\"dataframe\">\n",
       "  <thead>\n",
       "    <tr style=\"text-align: right;\">\n",
       "      <th></th>\n",
       "      <th>Participant ID</th>\n",
       "      <th>Collection Date</th>\n",
       "      <th>Visit</th>\n",
       "      <th>Test Name</th>\n",
       "      <th>Unit</th>\n",
       "      <th>Value</th>\n",
       "      <th>Baseline Value</th>\n",
       "      <th>Passed Visit 24 OFC No Imputation</th>\n",
       "      <th>Passed Visit 26 OFC No Imputation</th>\n",
       "    </tr>\n",
       "  </thead>\n",
       "  <tbody>\n",
       "    <tr>\n",
       "      <th>0</th>\n",
       "      <td>IMPACT_101655</td>\n",
       "      <td>2012-10-11</td>\n",
       "      <td>-2</td>\n",
       "      <td>Peanut IgE</td>\n",
       "      <td>kU/L</td>\n",
       "      <td>25.700000</td>\n",
       "      <td>25.700000</td>\n",
       "      <td>NaN</td>\n",
       "      <td>NaN</td>\n",
       "    </tr>\n",
       "    <tr>\n",
       "      <th>1</th>\n",
       "      <td>IMPACT_101655</td>\n",
       "      <td>2012-10-11</td>\n",
       "      <td>-2</td>\n",
       "      <td>Peanut IgE/Total IgE ratio</td>\n",
       "      <td>Ratio</td>\n",
       "      <td>27.934783</td>\n",
       "      <td>27.934783</td>\n",
       "      <td>NaN</td>\n",
       "      <td>NaN</td>\n",
       "    </tr>\n",
       "    <tr>\n",
       "      <th>2</th>\n",
       "      <td>IMPACT_101655</td>\n",
       "      <td>2012-10-11</td>\n",
       "      <td>-2</td>\n",
       "      <td>Peanut IgG4*</td>\n",
       "      <td>mcg/mL</td>\n",
       "      <td>0.300000</td>\n",
       "      <td>0.300000</td>\n",
       "      <td>NaN</td>\n",
       "      <td>NaN</td>\n",
       "    </tr>\n",
       "    <tr>\n",
       "      <th>3</th>\n",
       "      <td>IMPACT_101655</td>\n",
       "      <td>2012-10-11</td>\n",
       "      <td>-2</td>\n",
       "      <td>Peanut IgG4/IgE ratio</td>\n",
       "      <td>Ratio</td>\n",
       "      <td>0.004864</td>\n",
       "      <td>0.004864</td>\n",
       "      <td>NaN</td>\n",
       "      <td>NaN</td>\n",
       "    </tr>\n",
       "    <tr>\n",
       "      <th>4</th>\n",
       "      <td>IMPACT_101655</td>\n",
       "      <td>2012-10-11</td>\n",
       "      <td>-2</td>\n",
       "      <td>Total IgE</td>\n",
       "      <td>IU/mL</td>\n",
       "      <td>92.000000</td>\n",
       "      <td>92.000000</td>\n",
       "      <td>NaN</td>\n",
       "      <td>NaN</td>\n",
       "    </tr>\n",
       "  </tbody>\n",
       "</table>\n",
       "</div>"
      ],
      "text/plain": [
       "  Participant ID Collection Date  Visit                   Test Name    Unit  \\\n",
       "0  IMPACT_101655      2012-10-11     -2                  Peanut IgE    kU/L   \n",
       "1  IMPACT_101655      2012-10-11     -2  Peanut IgE/Total IgE ratio   Ratio   \n",
       "2  IMPACT_101655      2012-10-11     -2                Peanut IgG4*  mcg/mL   \n",
       "3  IMPACT_101655      2012-10-11     -2       Peanut IgG4/IgE ratio   Ratio   \n",
       "4  IMPACT_101655      2012-10-11     -2                   Total IgE   IU/mL   \n",
       "\n",
       "       Value  Baseline Value  Passed Visit 24 OFC No Imputation  \\\n",
       "0  25.700000       25.700000                                NaN   \n",
       "1  27.934783       27.934783                                NaN   \n",
       "2   0.300000        0.300000                                NaN   \n",
       "3   0.004864        0.004864                                NaN   \n",
       "4  92.000000       92.000000                                NaN   \n",
       "\n",
       "   Passed Visit 26 OFC No Imputation  \n",
       "0                                NaN  \n",
       "1                                NaN  \n",
       "2                                NaN  \n",
       "3                                NaN  \n",
       "4                                NaN  "
      ]
     },
     "execution_count": 15,
     "metadata": {},
     "output_type": "execute_result"
    }
   ],
   "source": [
    "print(impact_serum_eligible_filtered.shape)\n",
    "impact_serum_eligible_filtered.head()"
   ]
  },
  {
   "cell_type": "markdown",
   "metadata": {},
   "source": [
    "### Making a new DF with a new column capturing initial OFC fail \n",
    "calling it \"Passed Visit -2 OFC\" to match other OFC columns\n",
    "- Doing this because according to protocol, 144 participants enterered the study because they passed all the eligibility criteria AND __had a clinical reaction to the intake OFC, thus all 144 participants had a failed OFC status for their -2 visit__"
   ]
  },
  {
   "cell_type": "code",
   "execution_count": 16,
   "metadata": {},
   "outputs": [
    {
     "name": "stderr",
     "output_type": "stream",
     "text": [
      "<ipython-input-16-a8695515e8b0>:1: SettingWithCopyWarning: \n",
      "A value is trying to be set on a copy of a slice from a DataFrame.\n",
      "Try using .loc[row_indexer,col_indexer] = value instead\n",
      "\n",
      "See the caveats in the documentation: https://pandas.pydata.org/pandas-docs/stable/user_guide/indexing.html#returning-a-view-versus-a-copy\n",
      "  impact_serum_eligible_filtered['Passed Visit -2 OFC'] = 0\n"
     ]
    },
    {
     "data": {
      "text/html": [
       "<div>\n",
       "<style scoped>\n",
       "    .dataframe tbody tr th:only-of-type {\n",
       "        vertical-align: middle;\n",
       "    }\n",
       "\n",
       "    .dataframe tbody tr th {\n",
       "        vertical-align: top;\n",
       "    }\n",
       "\n",
       "    .dataframe thead th {\n",
       "        text-align: right;\n",
       "    }\n",
       "</style>\n",
       "<table border=\"1\" class=\"dataframe\">\n",
       "  <thead>\n",
       "    <tr style=\"text-align: right;\">\n",
       "      <th></th>\n",
       "      <th>Participant ID</th>\n",
       "      <th>Collection Date</th>\n",
       "      <th>Visit</th>\n",
       "      <th>Test Name</th>\n",
       "      <th>Unit</th>\n",
       "      <th>Value</th>\n",
       "      <th>Baseline Value</th>\n",
       "      <th>Passed Visit 24 OFC No Imputation</th>\n",
       "      <th>Passed Visit 26 OFC No Imputation</th>\n",
       "      <th>Passed Visit -2 OFC</th>\n",
       "    </tr>\n",
       "  </thead>\n",
       "  <tbody>\n",
       "    <tr>\n",
       "      <th>0</th>\n",
       "      <td>IMPACT_101655</td>\n",
       "      <td>2012-10-11</td>\n",
       "      <td>-2</td>\n",
       "      <td>Peanut IgE</td>\n",
       "      <td>kU/L</td>\n",
       "      <td>25.700000</td>\n",
       "      <td>25.700000</td>\n",
       "      <td>NaN</td>\n",
       "      <td>NaN</td>\n",
       "      <td>0</td>\n",
       "    </tr>\n",
       "    <tr>\n",
       "      <th>1</th>\n",
       "      <td>IMPACT_101655</td>\n",
       "      <td>2012-10-11</td>\n",
       "      <td>-2</td>\n",
       "      <td>Peanut IgE/Total IgE ratio</td>\n",
       "      <td>Ratio</td>\n",
       "      <td>27.934783</td>\n",
       "      <td>27.934783</td>\n",
       "      <td>NaN</td>\n",
       "      <td>NaN</td>\n",
       "      <td>0</td>\n",
       "    </tr>\n",
       "    <tr>\n",
       "      <th>2</th>\n",
       "      <td>IMPACT_101655</td>\n",
       "      <td>2012-10-11</td>\n",
       "      <td>-2</td>\n",
       "      <td>Peanut IgG4*</td>\n",
       "      <td>mcg/mL</td>\n",
       "      <td>0.300000</td>\n",
       "      <td>0.300000</td>\n",
       "      <td>NaN</td>\n",
       "      <td>NaN</td>\n",
       "      <td>0</td>\n",
       "    </tr>\n",
       "    <tr>\n",
       "      <th>3</th>\n",
       "      <td>IMPACT_101655</td>\n",
       "      <td>2012-10-11</td>\n",
       "      <td>-2</td>\n",
       "      <td>Peanut IgG4/IgE ratio</td>\n",
       "      <td>Ratio</td>\n",
       "      <td>0.004864</td>\n",
       "      <td>0.004864</td>\n",
       "      <td>NaN</td>\n",
       "      <td>NaN</td>\n",
       "      <td>0</td>\n",
       "    </tr>\n",
       "    <tr>\n",
       "      <th>4</th>\n",
       "      <td>IMPACT_101655</td>\n",
       "      <td>2012-10-11</td>\n",
       "      <td>-2</td>\n",
       "      <td>Total IgE</td>\n",
       "      <td>IU/mL</td>\n",
       "      <td>92.000000</td>\n",
       "      <td>92.000000</td>\n",
       "      <td>NaN</td>\n",
       "      <td>NaN</td>\n",
       "      <td>0</td>\n",
       "    </tr>\n",
       "  </tbody>\n",
       "</table>\n",
       "</div>"
      ],
      "text/plain": [
       "  Participant ID Collection Date  Visit                   Test Name    Unit  \\\n",
       "0  IMPACT_101655      2012-10-11     -2                  Peanut IgE    kU/L   \n",
       "1  IMPACT_101655      2012-10-11     -2  Peanut IgE/Total IgE ratio   Ratio   \n",
       "2  IMPACT_101655      2012-10-11     -2                Peanut IgG4*  mcg/mL   \n",
       "3  IMPACT_101655      2012-10-11     -2       Peanut IgG4/IgE ratio   Ratio   \n",
       "4  IMPACT_101655      2012-10-11     -2                   Total IgE   IU/mL   \n",
       "\n",
       "       Value  Baseline Value  Passed Visit 24 OFC No Imputation  \\\n",
       "0  25.700000       25.700000                                NaN   \n",
       "1  27.934783       27.934783                                NaN   \n",
       "2   0.300000        0.300000                                NaN   \n",
       "3   0.004864        0.004864                                NaN   \n",
       "4  92.000000       92.000000                                NaN   \n",
       "\n",
       "   Passed Visit 26 OFC No Imputation  Passed Visit -2 OFC  \n",
       "0                                NaN                    0  \n",
       "1                                NaN                    0  \n",
       "2                                NaN                    0  \n",
       "3                                NaN                    0  \n",
       "4                                NaN                    0  "
      ]
     },
     "execution_count": 16,
     "metadata": {},
     "output_type": "execute_result"
    }
   ],
   "source": [
    "impact_serum_eligible_filtered['Passed Visit -2 OFC'] = 0\n",
    "impact_serum_eligible_filtered.head()"
   ]
  },
  {
   "cell_type": "markdown",
   "metadata": {},
   "source": [
    "### filtering out from 'Test Name' everything but 'Peanut IgE' and 'Total IgE'"
   ]
  },
  {
   "cell_type": "code",
   "execution_count": 17,
   "metadata": {},
   "outputs": [],
   "source": [
    "# removing rows from 'Test Name' for everything except 'Peanut IgE' and 'Total IgE'\n",
    "\n",
    "#defining list to keep\n",
    "keep_IgEs = ['Peanut IgE', 'Total IgE']\n",
    "\n",
    "impact_serum_eligible_filtered = impact_serum_eligible_filtered[impact_serum_eligible_filtered['Test Name'].isin(keep_IgEs)]\n"
   ]
  },
  {
   "cell_type": "code",
   "execution_count": 18,
   "metadata": {},
   "outputs": [
    {
     "data": {
      "text/plain": [
       "array(['Peanut IgE', 'Total IgE'], dtype=object)"
      ]
     },
     "execution_count": 18,
     "metadata": {},
     "output_type": "execute_result"
    }
   ],
   "source": [
    "impact_serum_eligible_filtered['Test Name'].unique()"
   ]
  },
  {
   "cell_type": "code",
   "execution_count": 19,
   "metadata": {},
   "outputs": [
    {
     "name": "stdout",
     "output_type": "stream",
     "text": [
      "(1221, 10)\n"
     ]
    },
    {
     "data": {
      "text/html": [
       "<div>\n",
       "<style scoped>\n",
       "    .dataframe tbody tr th:only-of-type {\n",
       "        vertical-align: middle;\n",
       "    }\n",
       "\n",
       "    .dataframe tbody tr th {\n",
       "        vertical-align: top;\n",
       "    }\n",
       "\n",
       "    .dataframe thead th {\n",
       "        text-align: right;\n",
       "    }\n",
       "</style>\n",
       "<table border=\"1\" class=\"dataframe\">\n",
       "  <thead>\n",
       "    <tr style=\"text-align: right;\">\n",
       "      <th></th>\n",
       "      <th>Participant ID</th>\n",
       "      <th>Collection Date</th>\n",
       "      <th>Visit</th>\n",
       "      <th>Test Name</th>\n",
       "      <th>Unit</th>\n",
       "      <th>Value</th>\n",
       "      <th>Baseline Value</th>\n",
       "      <th>Passed Visit 24 OFC No Imputation</th>\n",
       "      <th>Passed Visit 26 OFC No Imputation</th>\n",
       "      <th>Passed Visit -2 OFC</th>\n",
       "    </tr>\n",
       "  </thead>\n",
       "  <tbody>\n",
       "    <tr>\n",
       "      <th>0</th>\n",
       "      <td>IMPACT_101655</td>\n",
       "      <td>2012-10-11</td>\n",
       "      <td>-2</td>\n",
       "      <td>Peanut IgE</td>\n",
       "      <td>kU/L</td>\n",
       "      <td>25.7</td>\n",
       "      <td>25.7</td>\n",
       "      <td>NaN</td>\n",
       "      <td>NaN</td>\n",
       "      <td>0</td>\n",
       "    </tr>\n",
       "    <tr>\n",
       "      <th>4</th>\n",
       "      <td>IMPACT_101655</td>\n",
       "      <td>2012-10-11</td>\n",
       "      <td>-2</td>\n",
       "      <td>Total IgE</td>\n",
       "      <td>IU/mL</td>\n",
       "      <td>92.0</td>\n",
       "      <td>92.0</td>\n",
       "      <td>NaN</td>\n",
       "      <td>NaN</td>\n",
       "      <td>0</td>\n",
       "    </tr>\n",
       "    <tr>\n",
       "      <th>5</th>\n",
       "      <td>IMPACT_101655</td>\n",
       "      <td>2013-05-28</td>\n",
       "      <td>16</td>\n",
       "      <td>Peanut IgE</td>\n",
       "      <td>kU/L</td>\n",
       "      <td>80.8</td>\n",
       "      <td>25.7</td>\n",
       "      <td>NaN</td>\n",
       "      <td>NaN</td>\n",
       "      <td>0</td>\n",
       "    </tr>\n",
       "    <tr>\n",
       "      <th>9</th>\n",
       "      <td>IMPACT_101655</td>\n",
       "      <td>2013-05-28</td>\n",
       "      <td>16</td>\n",
       "      <td>Total IgE</td>\n",
       "      <td>IU/mL</td>\n",
       "      <td>442.0</td>\n",
       "      <td>92.0</td>\n",
       "      <td>NaN</td>\n",
       "      <td>NaN</td>\n",
       "      <td>0</td>\n",
       "    </tr>\n",
       "    <tr>\n",
       "      <th>10</th>\n",
       "      <td>IMPACT_102436</td>\n",
       "      <td>2013-03-14</td>\n",
       "      <td>-2</td>\n",
       "      <td>Peanut IgE</td>\n",
       "      <td>kU/L</td>\n",
       "      <td>36.2</td>\n",
       "      <td>36.2</td>\n",
       "      <td>1.0</td>\n",
       "      <td>0.0</td>\n",
       "      <td>0</td>\n",
       "    </tr>\n",
       "  </tbody>\n",
       "</table>\n",
       "</div>"
      ],
      "text/plain": [
       "   Participant ID Collection Date  Visit   Test Name   Unit  Value  \\\n",
       "0   IMPACT_101655      2012-10-11     -2  Peanut IgE   kU/L   25.7   \n",
       "4   IMPACT_101655      2012-10-11     -2   Total IgE  IU/mL   92.0   \n",
       "5   IMPACT_101655      2013-05-28     16  Peanut IgE   kU/L   80.8   \n",
       "9   IMPACT_101655      2013-05-28     16   Total IgE  IU/mL  442.0   \n",
       "10  IMPACT_102436      2013-03-14     -2  Peanut IgE   kU/L   36.2   \n",
       "\n",
       "    Baseline Value  Passed Visit 24 OFC No Imputation  \\\n",
       "0             25.7                                NaN   \n",
       "4             92.0                                NaN   \n",
       "5             25.7                                NaN   \n",
       "9             92.0                                NaN   \n",
       "10            36.2                                1.0   \n",
       "\n",
       "    Passed Visit 26 OFC No Imputation  Passed Visit -2 OFC  \n",
       "0                                 NaN                    0  \n",
       "4                                 NaN                    0  \n",
       "5                                 NaN                    0  \n",
       "9                                 NaN                    0  \n",
       "10                                0.0                    0  "
      ]
     },
     "execution_count": 19,
     "metadata": {},
     "output_type": "execute_result"
    }
   ],
   "source": [
    "print(impact_serum_eligible_filtered.shape)\n",
    "impact_serum_eligible_filtered.head()"
   ]
  },
  {
   "cell_type": "markdown",
   "metadata": {},
   "source": [
    "--- \n",
    "# IgE_IgG4_component Cleaning\n",
    "- taking the components from this data set"
   ]
  },
  {
   "cell_type": "code",
   "execution_count": null,
   "metadata": {},
   "outputs": [],
   "source": [
    "impact_ige.columns.tolist()"
   ]
  },
  {
   "cell_type": "code",
   "execution_count": 20,
   "metadata": {},
   "outputs": [],
   "source": [
    "#filtering by just the participant IDs in the eligible list\n",
    "impact_ige_eligible = impact_ige[impact_ige['Participant ID'].isin(participant_ids)]\n",
    "\n",
    "impact_ige_cols_to_keep = [\n",
    "    'Participant ID',\n",
    "    'Visit',\n",
    "    'Antibody', #IgE, IgG4\n",
    "    'Component', #rAra h 1, rAra h 2, rAra h 3, rAra h 6\n",
    "    'Value',\n",
    "    'Unit',\n",
    "    'Baseline Value',\n",
    "    'Collection Date',   \n",
    "]\n",
    "\n",
    "impact_ige_eligible_filtered = impact_ige_eligible[impact_ige_cols_to_keep]\n"
   ]
  },
  {
   "cell_type": "code",
   "execution_count": 21,
   "metadata": {},
   "outputs": [],
   "source": [
    "#dropping IgG4 from Antibody column, only want IgE\n",
    "impact_ige_eligible_filtered = impact_ige_eligible_filtered[impact_ige_eligible_filtered['Antibody']=='IgE']"
   ]
  },
  {
   "cell_type": "code",
   "execution_count": 22,
   "metadata": {},
   "outputs": [
    {
     "name": "stdout",
     "output_type": "stream",
     "text": [
      "(2416, 8)\n"
     ]
    },
    {
     "data": {
      "text/html": [
       "<div>\n",
       "<style scoped>\n",
       "    .dataframe tbody tr th:only-of-type {\n",
       "        vertical-align: middle;\n",
       "    }\n",
       "\n",
       "    .dataframe tbody tr th {\n",
       "        vertical-align: top;\n",
       "    }\n",
       "\n",
       "    .dataframe thead th {\n",
       "        text-align: right;\n",
       "    }\n",
       "</style>\n",
       "<table border=\"1\" class=\"dataframe\">\n",
       "  <thead>\n",
       "    <tr style=\"text-align: right;\">\n",
       "      <th></th>\n",
       "      <th>Participant ID</th>\n",
       "      <th>Visit</th>\n",
       "      <th>Antibody</th>\n",
       "      <th>Component</th>\n",
       "      <th>Value</th>\n",
       "      <th>Unit</th>\n",
       "      <th>Baseline Value</th>\n",
       "      <th>Collection Date</th>\n",
       "    </tr>\n",
       "  </thead>\n",
       "  <tbody>\n",
       "    <tr>\n",
       "      <th>0</th>\n",
       "      <td>IMPACT_101655</td>\n",
       "      <td>-2</td>\n",
       "      <td>IgE</td>\n",
       "      <td>rAra h 1</td>\n",
       "      <td>8.76</td>\n",
       "      <td>KU/L</td>\n",
       "      <td>8.76</td>\n",
       "      <td>2012-10-11</td>\n",
       "    </tr>\n",
       "    <tr>\n",
       "      <th>1</th>\n",
       "      <td>IMPACT_101655</td>\n",
       "      <td>-2</td>\n",
       "      <td>IgE</td>\n",
       "      <td>rAra h 2</td>\n",
       "      <td>27.50</td>\n",
       "      <td>KU/L</td>\n",
       "      <td>27.50</td>\n",
       "      <td>2012-10-11</td>\n",
       "    </tr>\n",
       "    <tr>\n",
       "      <th>2</th>\n",
       "      <td>IMPACT_101655</td>\n",
       "      <td>-2</td>\n",
       "      <td>IgE</td>\n",
       "      <td>rAra h 3</td>\n",
       "      <td>0.50</td>\n",
       "      <td>KU/L</td>\n",
       "      <td>0.50</td>\n",
       "      <td>2012-10-11</td>\n",
       "    </tr>\n",
       "    <tr>\n",
       "      <th>3</th>\n",
       "      <td>IMPACT_101655</td>\n",
       "      <td>-2</td>\n",
       "      <td>IgE</td>\n",
       "      <td>rAra h 6</td>\n",
       "      <td>17.30</td>\n",
       "      <td>kUA/L</td>\n",
       "      <td>17.30</td>\n",
       "      <td>2012-10-11</td>\n",
       "    </tr>\n",
       "    <tr>\n",
       "      <th>8</th>\n",
       "      <td>IMPACT_101655</td>\n",
       "      <td>16</td>\n",
       "      <td>IgE</td>\n",
       "      <td>rAra h 1</td>\n",
       "      <td>58.00</td>\n",
       "      <td>kUA/L</td>\n",
       "      <td>8.76</td>\n",
       "      <td>2013-05-28</td>\n",
       "    </tr>\n",
       "    <tr>\n",
       "      <th>9</th>\n",
       "      <td>IMPACT_101655</td>\n",
       "      <td>16</td>\n",
       "      <td>IgE</td>\n",
       "      <td>rAra h 2</td>\n",
       "      <td>81.80</td>\n",
       "      <td>kUA/L</td>\n",
       "      <td>27.50</td>\n",
       "      <td>2013-05-28</td>\n",
       "    </tr>\n",
       "    <tr>\n",
       "      <th>10</th>\n",
       "      <td>IMPACT_101655</td>\n",
       "      <td>16</td>\n",
       "      <td>IgE</td>\n",
       "      <td>rAra h 3</td>\n",
       "      <td>1.02</td>\n",
       "      <td>kUA/L</td>\n",
       "      <td>0.50</td>\n",
       "      <td>2013-05-28</td>\n",
       "    </tr>\n",
       "    <tr>\n",
       "      <th>11</th>\n",
       "      <td>IMPACT_101655</td>\n",
       "      <td>16</td>\n",
       "      <td>IgE</td>\n",
       "      <td>rAra h 6</td>\n",
       "      <td>72.90</td>\n",
       "      <td>kUA/L</td>\n",
       "      <td>17.30</td>\n",
       "      <td>2013-05-28</td>\n",
       "    </tr>\n",
       "    <tr>\n",
       "      <th>16</th>\n",
       "      <td>IMPACT_102436</td>\n",
       "      <td>-2</td>\n",
       "      <td>IgE</td>\n",
       "      <td>rAra h 1</td>\n",
       "      <td>2.34</td>\n",
       "      <td>KU/L</td>\n",
       "      <td>2.34</td>\n",
       "      <td>2013-03-14</td>\n",
       "    </tr>\n",
       "    <tr>\n",
       "      <th>17</th>\n",
       "      <td>IMPACT_102436</td>\n",
       "      <td>-2</td>\n",
       "      <td>IgE</td>\n",
       "      <td>rAra h 2</td>\n",
       "      <td>48.10</td>\n",
       "      <td>KU/L</td>\n",
       "      <td>48.10</td>\n",
       "      <td>2013-03-14</td>\n",
       "    </tr>\n",
       "  </tbody>\n",
       "</table>\n",
       "</div>"
      ],
      "text/plain": [
       "   Participant ID  Visit Antibody Component  Value   Unit  Baseline Value  \\\n",
       "0   IMPACT_101655     -2      IgE  rAra h 1   8.76   KU/L            8.76   \n",
       "1   IMPACT_101655     -2      IgE  rAra h 2  27.50   KU/L           27.50   \n",
       "2   IMPACT_101655     -2      IgE  rAra h 3   0.50   KU/L            0.50   \n",
       "3   IMPACT_101655     -2      IgE  rAra h 6  17.30  kUA/L           17.30   \n",
       "8   IMPACT_101655     16      IgE  rAra h 1  58.00  kUA/L            8.76   \n",
       "9   IMPACT_101655     16      IgE  rAra h 2  81.80  kUA/L           27.50   \n",
       "10  IMPACT_101655     16      IgE  rAra h 3   1.02  kUA/L            0.50   \n",
       "11  IMPACT_101655     16      IgE  rAra h 6  72.90  kUA/L           17.30   \n",
       "16  IMPACT_102436     -2      IgE  rAra h 1   2.34   KU/L            2.34   \n",
       "17  IMPACT_102436     -2      IgE  rAra h 2  48.10   KU/L           48.10   \n",
       "\n",
       "   Collection Date  \n",
       "0       2012-10-11  \n",
       "1       2012-10-11  \n",
       "2       2012-10-11  \n",
       "3       2012-10-11  \n",
       "8       2013-05-28  \n",
       "9       2013-05-28  \n",
       "10      2013-05-28  \n",
       "11      2013-05-28  \n",
       "16      2013-03-14  \n",
       "17      2013-03-14  "
      ]
     },
     "execution_count": 22,
     "metadata": {},
     "output_type": "execute_result"
    }
   ],
   "source": [
    "print(impact_ige_eligible_filtered.shape)\n",
    "impact_ige_eligible_filtered.head(10)"
   ]
  },
  {
   "cell_type": "code",
   "execution_count": null,
   "metadata": {},
   "outputs": [],
   "source": []
  },
  {
   "cell_type": "markdown",
   "metadata": {},
   "source": [
    "# Skin Prick Test cleaning \n",
    "(Skin Prick Test_2023-05-25_06-31-04.xlsx)\n",
    "\n",
    "- taking wheal from this data set"
   ]
  },
  {
   "cell_type": "code",
   "execution_count": 23,
   "metadata": {},
   "outputs": [
    {
     "data": {
      "text/plain": [
       "146"
      ]
     },
     "execution_count": 23,
     "metadata": {},
     "output_type": "execute_result"
    }
   ],
   "source": [
    "# checking total unique participants is the same\n",
    "len(impact_spt['Participant ID'].unique().tolist())\n",
    "# output 146"
   ]
  },
  {
   "cell_type": "code",
   "execution_count": 24,
   "metadata": {},
   "outputs": [
    {
     "data": {
      "text/plain": [
       "['Participant ID',\n",
       " 'Visit',\n",
       " 'DataStream code',\n",
       " 'PHASE',\n",
       " 'SEQNO',\n",
       " 'VISITNUM',\n",
       " 'Date of Allergy Skin Test (Character)',\n",
       " 'Positive Control Wheal',\n",
       " 'Positive Control Wheal (Character)',\n",
       " 'Negative Control Wheal',\n",
       " 'Negative Control Wheal (Character)',\n",
       " 'Allergen',\n",
       " 'Wheal (mm)',\n",
       " 'Wheal (mm) (Character)',\n",
       " 'Calculated Wheal',\n",
       " 'Calculated Wheal (Character)',\n",
       " 'Planned Treatment',\n",
       " 'Planned Treatment (N)',\n",
       " 'Randomized',\n",
       " 'Intent to Treat Sample',\n",
       " 'Age at screening (years)',\n",
       " 'Age at screening (years) Not Rounded',\n",
       " 'Sex (character)',\n",
       " 'OUT24ITT',\n",
       " 'OUT24NOI',\n",
       " 'OUT26ITT',\n",
       " 'OUT26NOI',\n",
       " 'Week',\n",
       " 'Tolerance outcome',\n",
       " 'Tolerance outcome (character)',\n",
       " 'Wheal (mm) baseline',\n",
       " 'Calculated Wheal baseline',\n",
       " 'Wheal fold change from baseline',\n",
       " 'Calculated wheal fold change from baseline',\n",
       " 'Per-protocol Primary Endpoint',\n",
       " 'Per-protocol Secondary Endpoint']"
      ]
     },
     "execution_count": 24,
     "metadata": {},
     "output_type": "execute_result"
    }
   ],
   "source": [
    "impact_spt.columns.tolist()"
   ]
  },
  {
   "cell_type": "code",
   "execution_count": 25,
   "metadata": {},
   "outputs": [],
   "source": [
    "#filtering by just the participant IDs in the eligible list\n",
    "impact_spt_eligible = impact_spt[impact_spt['Participant ID'].isin(participant_ids)]\n",
    "\n",
    "impact_spt_cols_to_keep = [\n",
    "    'Participant ID',\n",
    "    'Date of Allergy Skin Test (Character)', # this is similar to 'Collection Date' in other datasets \n",
    "    'Visit',\n",
    "    'Wheal (mm)',\n",
    "    'Wheal (mm) baseline'\n",
    "]\n",
    "\n",
    "impact_spt_eligible_filtered = impact_spt_eligible[impact_spt_cols_to_keep]\n"
   ]
  },
  {
   "cell_type": "code",
   "execution_count": 26,
   "metadata": {},
   "outputs": [
    {
     "data": {
      "text/plain": [
       "144"
      ]
     },
     "execution_count": 26,
     "metadata": {},
     "output_type": "execute_result"
    }
   ],
   "source": [
    "#checking to see the above filtering kept the correct number of 144 participants \n",
    "len(impact_spt_eligible_filtered['Participant ID'].unique().tolist()) #output 144 - correct"
   ]
  },
  {
   "cell_type": "code",
   "execution_count": 27,
   "metadata": {
    "scrolled": true
   },
   "outputs": [
    {
     "name": "stdout",
     "output_type": "stream",
     "text": [
      "(619, 5)\n"
     ]
    },
    {
     "data": {
      "text/html": [
       "<div>\n",
       "<style scoped>\n",
       "    .dataframe tbody tr th:only-of-type {\n",
       "        vertical-align: middle;\n",
       "    }\n",
       "\n",
       "    .dataframe tbody tr th {\n",
       "        vertical-align: top;\n",
       "    }\n",
       "\n",
       "    .dataframe thead th {\n",
       "        text-align: right;\n",
       "    }\n",
       "</style>\n",
       "<table border=\"1\" class=\"dataframe\">\n",
       "  <thead>\n",
       "    <tr style=\"text-align: right;\">\n",
       "      <th></th>\n",
       "      <th>Participant ID</th>\n",
       "      <th>Date of Allergy Skin Test (Character)</th>\n",
       "      <th>Visit</th>\n",
       "      <th>Wheal (mm)</th>\n",
       "      <th>Wheal (mm) baseline</th>\n",
       "    </tr>\n",
       "  </thead>\n",
       "  <tbody>\n",
       "    <tr>\n",
       "      <th>0</th>\n",
       "      <td>IMPACT_101655</td>\n",
       "      <td>2012-10-11</td>\n",
       "      <td>-2</td>\n",
       "      <td>17.5</td>\n",
       "      <td>17.5</td>\n",
       "    </tr>\n",
       "    <tr>\n",
       "      <th>1</th>\n",
       "      <td>IMPACT_101655</td>\n",
       "      <td>2013-05-28</td>\n",
       "      <td>16</td>\n",
       "      <td>4.5</td>\n",
       "      <td>17.5</td>\n",
       "    </tr>\n",
       "    <tr>\n",
       "      <th>2</th>\n",
       "      <td>IMPACT_102436</td>\n",
       "      <td>2013-03-14</td>\n",
       "      <td>-2</td>\n",
       "      <td>16.0</td>\n",
       "      <td>16.0</td>\n",
       "    </tr>\n",
       "    <tr>\n",
       "      <th>3</th>\n",
       "      <td>IMPACT_102436</td>\n",
       "      <td>2013-11-26</td>\n",
       "      <td>16</td>\n",
       "      <td>9.5</td>\n",
       "      <td>16.0</td>\n",
       "    </tr>\n",
       "    <tr>\n",
       "      <th>4</th>\n",
       "      <td>IMPACT_102436</td>\n",
       "      <td>2014-11-28</td>\n",
       "      <td>20</td>\n",
       "      <td>NaN</td>\n",
       "      <td>16.0</td>\n",
       "    </tr>\n",
       "  </tbody>\n",
       "</table>\n",
       "</div>"
      ],
      "text/plain": [
       "  Participant ID Date of Allergy Skin Test (Character)  Visit  Wheal (mm)  \\\n",
       "0  IMPACT_101655                            2012-10-11     -2        17.5   \n",
       "1  IMPACT_101655                            2013-05-28     16         4.5   \n",
       "2  IMPACT_102436                            2013-03-14     -2        16.0   \n",
       "3  IMPACT_102436                            2013-11-26     16         9.5   \n",
       "4  IMPACT_102436                            2014-11-28     20         NaN   \n",
       "\n",
       "   Wheal (mm) baseline  \n",
       "0                 17.5  \n",
       "1                 17.5  \n",
       "2                 16.0  \n",
       "3                 16.0  \n",
       "4                 16.0  "
      ]
     },
     "execution_count": 27,
     "metadata": {},
     "output_type": "execute_result"
    }
   ],
   "source": [
    "print(impact_spt_eligible_filtered.shape)\n",
    "impact_spt_eligible_filtered.head()"
   ]
  },
  {
   "cell_type": "code",
   "execution_count": null,
   "metadata": {},
   "outputs": [],
   "source": []
  },
  {
   "cell_type": "code",
   "execution_count": null,
   "metadata": {},
   "outputs": [],
   "source": []
  },
  {
   "cell_type": "code",
   "execution_count": null,
   "metadata": {},
   "outputs": [],
   "source": []
  },
  {
   "cell_type": "code",
   "execution_count": null,
   "metadata": {},
   "outputs": [],
   "source": []
  },
  {
   "cell_type": "code",
   "execution_count": null,
   "metadata": {},
   "outputs": [],
   "source": []
  },
  {
   "cell_type": "markdown",
   "metadata": {},
   "source": [
    "---\n",
    "# Building Baseline Datasets\n",
    "Separating baseline data from rest of data.  \n",
    "Baseline data varies from rest of the test visits in a few ways:\n",
    "- interpretting OFC pass results from protocol and filtering\n",
    "- components units are different than that of the follow up visits (16,21,24,26)"
   ]
  },
  {
   "cell_type": "code",
   "execution_count": null,
   "metadata": {},
   "outputs": [],
   "source": [
    "# impact_ad_eligible_filtered (144, 12)\n",
    "# impact_serum_eligible_filtered\n",
    "# impact_ige_eligible_filtered\n",
    "# impact_spt_eligible_filtered"
   ]
  },
  {
   "cell_type": "markdown",
   "metadata": {},
   "source": [
    "---\n",
    "# Cleaning ad baseline\n",
    "\n",
    "summary:\n",
    "- dropping all rows for visits that are not -2 the initial visit\n",
    "- dropping all non baseline columns\n",
    "- Create new columns for Age in months "
   ]
  },
  {
   "cell_type": "code",
   "execution_count": null,
   "metadata": {},
   "outputs": [],
   "source": [
    "#updating the 'Visit' column to say -2 since this is intake information\n",
    "impact_ad_eligible_baseline = impact_ad_eligible_filtered\n",
    "impact_ad_eligible_baseline['Visit'] = '-2'\n",
    "print(impact_ad_eligible_baseline.shape) #144 total entries in the DF = 144 unique participant IDs\n",
    "impact_ad_eligible_baseline.head()"
   ]
  },
  {
   "cell_type": "code",
   "execution_count": null,
   "metadata": {},
   "outputs": [],
   "source": [
    "impact_ad_eligible_baseline = impact_ad_eligible_baseline.drop(columns=['Age at screening (years)', 'Race Listing', 'Ethnicity'])\n",
    "impact_ad_eligible_baseline.head()"
   ]
  },
  {
   "cell_type": "code",
   "execution_count": null,
   "metadata": {},
   "outputs": [],
   "source": [
    "#convering the 'Age at Screening (years) Not Rounded' to months \n",
    "impact_ad_eligible_baseline['Age'] = impact_ad_eligible_baseline['Age at Screening (years) Not Rounded'] * 12\n",
    "impact_ad_eligible_baseline = impact_ad_eligible_baseline.drop(columns=['Age at Screening (years) Not Rounded','Visit'])\n",
    "\n"
   ]
  },
  {
   "cell_type": "code",
   "execution_count": null,
   "metadata": {},
   "outputs": [],
   "source": [
    "print(impact_ad_eligible_baseline.shape)\n",
    "impact_ad_eligible_baseline.head()"
   ]
  },
  {
   "cell_type": "code",
   "execution_count": null,
   "metadata": {},
   "outputs": [],
   "source": [
    "# renaming 'Date of Screening Visit' to 'Collection Date' for merger later\n",
    "impact_ad_eligible_baseline = impact_ad_eligible_baseline.rename(columns={'Date of Screening Visit': 'Collection Date'})\n"
   ]
  },
  {
   "cell_type": "code",
   "execution_count": null,
   "metadata": {},
   "outputs": [],
   "source": [
    "print(impact_ad_eligible_baseline.shape)\n",
    "impact_ad_eligible_baseline.head()"
   ]
  },
  {
   "cell_type": "markdown",
   "metadata": {},
   "source": [
    "# Conclusion about 'impact_ad_eligible_baseline' dataframe: \n",
    "\n",
    "144 unique participant IDs  \n",
    "144 rows "
   ]
  },
  {
   "cell_type": "code",
   "execution_count": null,
   "metadata": {},
   "outputs": [],
   "source": []
  },
  {
   "cell_type": "code",
   "execution_count": null,
   "metadata": {},
   "outputs": [],
   "source": []
  },
  {
   "cell_type": "code",
   "execution_count": null,
   "metadata": {},
   "outputs": [],
   "source": []
  },
  {
   "cell_type": "markdown",
   "metadata": {},
   "source": [
    "---\n",
    "# Cleaning serum baseline \n",
    "summary:\n",
    "- dropping all rows for visits that are not -2 the initial visit\n",
    "- dropping all non baseline columns\n",
    "- Create new columns for 'Peanut IgE kU/L', 'Total IgE IU/mL'\n",
    "- Merging duplicate rows and overwriting NaN values"
   ]
  },
  {
   "cell_type": "code",
   "execution_count": null,
   "metadata": {},
   "outputs": [],
   "source": [
    "impact_serum_eligible_baseline = impact_serum_eligible_filtered\n",
    "\n",
    "# dropping all rows for visits that are not -2 the initial visit\n",
    "impact_serum_eligible_baseline = impact_serum_eligible_baseline[impact_serum_eligible_baseline['Visit'] == -2]\n",
    "\n",
    "# dropping all non baseline columns\n",
    "impact_serum_eligible_baseline = impact_serum_eligible_baseline.drop(columns=['Passed Visit 24 OFC No Imputation', \n",
    "                                                                        'Passed Visit 26 OFC No Imputation',\n",
    "                                                                        'Tolerance outcome',\n",
    "                                                                        'Tolerance outcome (character)',\n",
    "                                                                        'Value',\n",
    "                                                                        'Visit',\n",
    "                                                                        'Planned Treatment'\n",
    "                                                                       ])"
   ]
  },
  {
   "cell_type": "code",
   "execution_count": null,
   "metadata": {},
   "outputs": [],
   "source": [
    "len(impact_serum_eligible_baseline['Participant ID'].unique().tolist())"
   ]
  },
  {
   "cell_type": "code",
   "execution_count": null,
   "metadata": {},
   "outputs": [],
   "source": [
    "impact_serum_eligible_baseline.head()"
   ]
  },
  {
   "cell_type": "code",
   "execution_count": null,
   "metadata": {},
   "outputs": [],
   "source": [
    "# Create new columns with initial NaN values\n",
    "impact_serum_eligible_baseline['Peanut IgE kU/L'] = np.nan\n",
    "impact_serum_eligible_baseline['Total IgE IU/mL'] = np.nan\n",
    "\n",
    "# Populate the new columns based on conditions\n",
    "impact_serum_eligible_baseline.loc[impact_serum_eligible_baseline['Test Name'] == 'Peanut IgE', 'Peanut IgE kU/L'] = impact_serum_eligible_baseline.loc[impact_serum_eligible_baseline['Test Name'] == 'Peanut IgE', 'Baseline Value']\n",
    "impact_serum_eligible_baseline.loc[impact_serum_eligible_baseline['Test Name'] == 'Total IgE', 'Total IgE IU/mL'] = impact_serum_eligible_baseline.loc[impact_serum_eligible_baseline['Test Name'] == 'Total IgE', 'Baseline Value']\n",
    "\n",
    "# Drop the specified columns\n",
    "impact_serum_eligible_baseline = impact_serum_eligible_baseline.drop(columns=['Test Name', 'Unit', 'Baseline Value'])\n"
   ]
  },
  {
   "cell_type": "code",
   "execution_count": null,
   "metadata": {},
   "outputs": [],
   "source": [
    "len(impact_serum_eligible_baseline['Participant ID'].unique().tolist())"
   ]
  },
  {
   "cell_type": "code",
   "execution_count": null,
   "metadata": {},
   "outputs": [],
   "source": [
    "print(impact_serum_eligible_baseline.shape) # (284, 6)\n",
    "impact_serum_eligible_baseline.head()\n",
    "# note if all of the 144 participants had 2 rows for Peanut and Total, we'd have 288, but we have 284"
   ]
  },
  {
   "cell_type": "code",
   "execution_count": null,
   "metadata": {},
   "outputs": [],
   "source": [
    "# Merging duplicate rows and overwriting NaN values\n",
    "\n",
    "# Group by columns and aggregate using the mean (for numeric columns) or first (for non-numeric columns)\n",
    "impact_serum_eligible_baseline_merged = impact_serum_eligible_baseline.groupby(['Participant ID', 'Collection Date', 'Passed Visit -2 OFC'], as_index=False).agg({'Peanut IgE kU/L': 'mean', 'Total IgE IU/mL': 'mean'})\n",
    "\n",
    "# Reset the index\n",
    "impact_serum_eligible_baseline_merged.reset_index(drop=True, inplace=True)\n"
   ]
  },
  {
   "cell_type": "code",
   "execution_count": null,
   "metadata": {},
   "outputs": [],
   "source": [
    "impact_serum_eligible_baseline_merged.head(10)"
   ]
  },
  {
   "cell_type": "code",
   "execution_count": null,
   "metadata": {},
   "outputs": [],
   "source": [
    "print(len(impact_serum_eligible_baseline_merged['Participant ID'].unique().tolist()))\n",
    "print(impact_serum_eligible_baseline_merged.shape)"
   ]
  },
  {
   "cell_type": "code",
   "execution_count": null,
   "metadata": {},
   "outputs": [],
   "source": [
    "##### WHY ARE THERE NOT 144 ROWS?! if eveyrthing merged correctly there should only be 144 rows "
   ]
  },
  {
   "cell_type": "code",
   "execution_count": null,
   "metadata": {},
   "outputs": [],
   "source": [
    "#making a df of just the rows with nan values\n",
    "serum_nan_rows = impact_serum_eligible_baseline_merged[impact_serum_eligible_baseline_merged.isna().any(axis=1)]\n"
   ]
  },
  {
   "cell_type": "code",
   "execution_count": null,
   "metadata": {},
   "outputs": [],
   "source": [
    "print(serum_nan_rows.shape)\n",
    "serum_nan_rows.head(34)"
   ]
  },
  {
   "cell_type": "code",
   "execution_count": null,
   "metadata": {},
   "outputs": [],
   "source": [
    "len(serum_nan_rows['Participant ID'].unique().tolist())\n"
   ]
  },
  {
   "cell_type": "markdown",
   "metadata": {},
   "source": [
    "# Conclusion about 'impact_serum_eligible_baseline_merged' dataframe: \n",
    "\n",
    "144 unique participant IDs  \n",
    "159 rows becauase couldn't merge all of them due to:\n",
    "- 15 participants had their IgE values read on different dates\n",
    "- 4 only had ONE of their IgE values read during intake"
   ]
  },
  {
   "cell_type": "code",
   "execution_count": null,
   "metadata": {},
   "outputs": [],
   "source": []
  },
  {
   "cell_type": "code",
   "execution_count": null,
   "metadata": {},
   "outputs": [],
   "source": []
  },
  {
   "cell_type": "code",
   "execution_count": null,
   "metadata": {},
   "outputs": [],
   "source": []
  },
  {
   "cell_type": "markdown",
   "metadata": {},
   "source": [
    "---\n",
    "# Cleaning IgE baseline \n",
    "summary:\n",
    "- dropping all rows for visits that are not -2 the initial visit\n",
    "- dropping all non baseline columns\n",
    "- Create new columns for components\n",
    "- Merging duplicate rows and overwriting NaN values"
   ]
  },
  {
   "cell_type": "code",
   "execution_count": null,
   "metadata": {},
   "outputs": [],
   "source": [
    "impact_ige_eligible_baseline = impact_ige_eligible_filtered"
   ]
  },
  {
   "cell_type": "code",
   "execution_count": null,
   "metadata": {},
   "outputs": [],
   "source": [
    "print(len(impact_ige['Participant ID'].unique().tolist()))"
   ]
  },
  {
   "cell_type": "code",
   "execution_count": null,
   "metadata": {},
   "outputs": [],
   "source": [
    "print(len(impact_ige_eligible_filtered['Participant ID'].unique().tolist()))\n"
   ]
  },
  {
   "cell_type": "code",
   "execution_count": null,
   "metadata": {},
   "outputs": [],
   "source": [
    "print(len(impact_ige_eligible_baseline['Participant ID'].unique().tolist()))"
   ]
  },
  {
   "cell_type": "code",
   "execution_count": null,
   "metadata": {},
   "outputs": [],
   "source": [
    "# just the participant IDs for those who don't have -2 in their history\n",
    "impact_ige_eligible_baseline_2 = impact_ige_eligible_baseline[impact_ige_eligible_baseline['Visit'] == -2]"
   ]
  },
  {
   "cell_type": "code",
   "execution_count": null,
   "metadata": {},
   "outputs": [],
   "source": [
    "len(impact_ige_eligible_baseline_2['Participant ID'].unique().tolist())"
   ]
  },
  {
   "cell_type": "code",
   "execution_count": null,
   "metadata": {},
   "outputs": [],
   "source": [
    "participant_ids = impact_ige_eligible_baseline[~impact_ige_eligible_baseline['Participant ID'].isin(impact_ige_eligible_baseline_2['Participant ID'])]['Participant ID'].tolist()\n"
   ]
  },
  {
   "cell_type": "code",
   "execution_count": null,
   "metadata": {},
   "outputs": [],
   "source": [
    "#dropping duplicates\n",
    "participant_ids = list(set(participant_ids))\n",
    "participant_ids\n",
    "\n",
    "# output: ['IMPACT_149018', 'IMPACT_746400', 'IMPACT_920870'] THESE ARE THE 3 \n",
    "\n",
    "# manually checking these IDs in the IgE spreadsheet; \n",
    "\n",
    "# IMPACT_149018 \n",
    "# in IgE dataset; missing -2 and 16  visit, missing component baseline values \n",
    "# in serum dataset; Confirming baseline obtained for Peanut IgE but missing Total IgE\n",
    "# in ad dataset; Study Statys = Early Termination\n",
    "\n",
    "# IMPACT_746400\n",
    "# in IgE dataset; missing -2 visit, missing component baseline values \n",
    "# in serum dataset; Confirming baseline obtained for Peanut IgE but missing Total IgE\n",
    "# in ad dataset; Study Status = Completed Study\n",
    "\n",
    "# IMPACT_920870\n",
    "# in IgE dataset; missing -2 visit, missing component baseline values\n",
    "# in serum dataset; Confirming baseline obtained for Peanut IgE but missing Total IgE\n",
    "# in ad dataset; Study Status = Completed Study"
   ]
  },
  {
   "cell_type": "code",
   "execution_count": null,
   "metadata": {},
   "outputs": [],
   "source": [
    "# removing these from the baseline data \n",
    "impact_ige_eligible_baseline = impact_ige_eligible_filtered[~impact_ige_eligible_filtered['Participant ID'].isin(participant_ids)]\n"
   ]
  },
  {
   "cell_type": "code",
   "execution_count": null,
   "metadata": {},
   "outputs": [],
   "source": [
    "print(len(impact_ige_eligible_baseline['Participant ID'].unique().tolist()))\n",
    "# output 141, correctly filtered out the participants with missing baseline data "
   ]
  },
  {
   "cell_type": "code",
   "execution_count": null,
   "metadata": {},
   "outputs": [],
   "source": [
    "# dropping all rows for visits that are not -2 the initial visit\n",
    "impact_ige_eligible_baseline = impact_ige_eligible_baseline[impact_ige_eligible_baseline['Visit'] == -2]\n",
    "\n",
    "# dropping all non baseline columns\n",
    "impact_ige_eligible_baseline = impact_ige_eligible_baseline.drop(columns=['Value', \n",
    "                                                                        'Visit'\n",
    "                                                                         ])"
   ]
  },
  {
   "cell_type": "code",
   "execution_count": null,
   "metadata": {},
   "outputs": [],
   "source": [
    "print(impact_ige_eligible_baseline.shape)\n",
    "impact_ige_eligible_baseline.head()"
   ]
  },
  {
   "cell_type": "code",
   "execution_count": null,
   "metadata": {},
   "outputs": [],
   "source": [
    "# Creating new columns for each component\n",
    "\n",
    "# Create new columns with initial NaN values\n",
    "impact_ige_eligible_baseline['Ara h1 (kU/L)'] = np.nan\n",
    "impact_ige_eligible_baseline['Ara h2 (kU/L)'] = np.nan\n",
    "impact_ige_eligible_baseline['Ara h3 (kU/L)'] = np.nan\n",
    "impact_ige_eligible_baseline['Ara h6 (kUA/L)'] = np.nan\n",
    "\n",
    "# Populate the new columns based on conditions\n",
    "impact_ige_eligible_baseline.loc[impact_ige_eligible_baseline['Component'] == 'rAra h 1', 'Ara h1 (kU/L)'] = impact_ige_eligible_baseline.loc[impact_ige_eligible_baseline['Component'] == 'rAra h 1', 'Baseline Value']\n",
    "impact_ige_eligible_baseline.loc[impact_ige_eligible_baseline['Component'] == 'rAra h 2', 'Ara h2 (kU/L)'] = impact_ige_eligible_baseline.loc[impact_ige_eligible_baseline['Component'] == 'rAra h 2', 'Baseline Value']\n",
    "impact_ige_eligible_baseline.loc[impact_ige_eligible_baseline['Component'] == 'rAra h 3', 'Ara h3 (kU/L)'] = impact_ige_eligible_baseline.loc[impact_ige_eligible_baseline['Component'] == 'rAra h 3', 'Baseline Value']\n",
    "impact_ige_eligible_baseline.loc[impact_ige_eligible_baseline['Component'] == 'rAra h 6', 'Ara h6 (kUA/L)'] = impact_ige_eligible_baseline.loc[impact_ige_eligible_baseline['Component'] == 'rAra h 6', 'Baseline Value']\n",
    "\n",
    "# Drop the specified columns\n",
    "impact_ige_eligible_baseline = impact_ige_eligible_baseline.drop(columns=['Antibody', 'Component', 'Baseline Value', 'Unit'])\n"
   ]
  },
  {
   "cell_type": "code",
   "execution_count": null,
   "metadata": {},
   "outputs": [],
   "source": [
    "print(impact_ige_eligible_baseline.shape)\n",
    "impact_ige_eligible_baseline.head()"
   ]
  },
  {
   "cell_type": "code",
   "execution_count": null,
   "metadata": {},
   "outputs": [],
   "source": [
    "# Merging duplicate rows and overwriting NaN values\n",
    "\n",
    "# Group by columns and aggregate using the mean (for numeric columns) or first (for non-numeric columns)\n",
    "impact_ige_eligible_baseline_merged = impact_ige_eligible_baseline.groupby(['Participant ID', 'Collection Date'], as_index=False).agg({'Ara h1 (kU/L)': 'mean', 'Ara h2 (kU/L)': 'mean', 'Ara h3 (kU/L)': 'mean', 'Ara h6 (kUA/L)': 'mean'})\n",
    "\n",
    "# Reset the index\n",
    "impact_ige_eligible_baseline_merged.reset_index(drop=True, inplace=True)\n"
   ]
  },
  {
   "cell_type": "code",
   "execution_count": null,
   "metadata": {},
   "outputs": [],
   "source": [
    "print(impact_ige_eligible_baseline_merged.shape)\n",
    "impact_ige_eligible_baseline_merged.head(50)"
   ]
  },
  {
   "cell_type": "code",
   "execution_count": null,
   "metadata": {},
   "outputs": [],
   "source": [
    "print(len(impact_ige_eligible_baseline_merged['Participant ID'].unique().tolist()))"
   ]
  },
  {
   "cell_type": "code",
   "execution_count": null,
   "metadata": {},
   "outputs": [],
   "source": [
    "# checking which rows have NaN Values \n",
    "ig_nan_rows = impact_ige_eligible_baseline_merged[impact_ige_eligible_baseline_merged.isna().any(axis=1)]\n"
   ]
  },
  {
   "cell_type": "code",
   "execution_count": null,
   "metadata": {},
   "outputs": [],
   "source": [
    "print(ig_nan_rows.shape)\n",
    "ig_nan_rows.head(72)"
   ]
  },
  {
   "cell_type": "code",
   "execution_count": null,
   "metadata": {},
   "outputs": [],
   "source": [
    "# getting the participant IDs with the NaN values\n",
    "nan_participant_ids = impact_ige_eligible_baseline_merged.loc[impact_ige_eligible_baseline_merged.isna().any(axis=1), 'Participant ID'].tolist()\n",
    "nan_participant_ids"
   ]
  },
  {
   "cell_type": "code",
   "execution_count": null,
   "metadata": {},
   "outputs": [],
   "source": [
    "#dropping duplicates\n",
    "nan_participant_ids = list(set(nan_participant_ids))\n",
    "nan_participant_ids\n",
    "\n",
    "len(nan_participant_ids)"
   ]
  },
  {
   "cell_type": "markdown",
   "metadata": {},
   "source": [
    "# Conclusion about 'impact_ige_eligible_baseline_merged' dataframe: \n",
    "\n",
    "141 unique participant IDs because\n",
    "- 3 did not have baseline data for initial visit  \n",
    "177 rows becauase couldn't merge all of them due to:\n",
    "- 36 participants had their component values read on different dates"
   ]
  },
  {
   "cell_type": "code",
   "execution_count": null,
   "metadata": {},
   "outputs": [],
   "source": []
  },
  {
   "cell_type": "code",
   "execution_count": null,
   "metadata": {},
   "outputs": [],
   "source": []
  },
  {
   "cell_type": "markdown",
   "metadata": {},
   "source": [
    "# Seeing all baseline columns so far \n"
   ]
  },
  {
   "cell_type": "code",
   "execution_count": null,
   "metadata": {},
   "outputs": [],
   "source": [
    "#impact_ige_eligible_baseline_merged\n",
    "#impact_serum_eligible_baseline_merged\n",
    "#impact_ad_eligible_baseline"
   ]
  },
  {
   "cell_type": "code",
   "execution_count": null,
   "metadata": {},
   "outputs": [],
   "source": [
    "# Finding the participant IDs that are common among all 3 baseline data frames\n",
    "ige_list = impact_ige_eligible_baseline_merged['Participant ID'].tolist()\n",
    "serum_list = impact_serum_eligible_baseline_merged['Participant ID'].tolist()\n",
    "ad_list = impact_ad_eligible_baseline['Participant ID'].tolist()\n",
    "\n",
    "common_participants = set(ige_list).intersection(serum_list, ad_list)\n",
    "common_participants = list(common_participants)\n"
   ]
  },
  {
   "cell_type": "code",
   "execution_count": null,
   "metadata": {},
   "outputs": [],
   "source": [
    "len(common_participants)\n",
    "#output 141"
   ]
  },
  {
   "cell_type": "code",
   "execution_count": null,
   "metadata": {},
   "outputs": [],
   "source": [
    "# Updating each data frame so that they only contain the common participants \n",
    "impact_ige_eligible_baseline_merged_common = impact_ige_eligible_baseline_merged[impact_ige_eligible_baseline_merged['Participant ID'].isin(common_participants)]\n",
    "impact_serum_eligible_baseline_merged_common = impact_serum_eligible_baseline_merged[impact_serum_eligible_baseline_merged['Participant ID'].isin(common_participants)]\n",
    "impact_ad_eligible_baseline_common = impact_ad_eligible_baseline[impact_ad_eligible_baseline['Participant ID'].isin(common_participants)]\n"
   ]
  },
  {
   "cell_type": "code",
   "execution_count": null,
   "metadata": {},
   "outputs": [],
   "source": []
  },
  {
   "cell_type": "code",
   "execution_count": null,
   "metadata": {},
   "outputs": [],
   "source": [
    "print(impact_ige_eligible_baseline_merged_common.shape)\n",
    "print(impact_serum_eligible_baseline_merged_common.shape)\n",
    "print(impact_ad_eligible_baseline_common.shape)"
   ]
  },
  {
   "cell_type": "code",
   "execution_count": null,
   "metadata": {},
   "outputs": [],
   "source": []
  },
  {
   "cell_type": "code",
   "execution_count": null,
   "metadata": {},
   "outputs": [],
   "source": [
    "impact_ige_eligible_baseline_merged_common.head()\n"
   ]
  },
  {
   "cell_type": "code",
   "execution_count": null,
   "metadata": {},
   "outputs": [],
   "source": [
    "impact_serum_eligible_baseline_merged_common.head()\n"
   ]
  },
  {
   "cell_type": "code",
   "execution_count": null,
   "metadata": {},
   "outputs": [],
   "source": [
    "impact_ad_eligible_baseline_common.head()"
   ]
  },
  {
   "cell_type": "code",
   "execution_count": null,
   "metadata": {},
   "outputs": [],
   "source": []
  },
  {
   "cell_type": "code",
   "execution_count": null,
   "metadata": {},
   "outputs": [],
   "source": [
    "#Merging Serum and Ad baselines\n",
    "# outer: use union of keys from both frames, similar to a SQL full outer join; sort keys lexicographically.\n",
    "merged_serum_ad = impact_serum_eligible_baseline_merged_common.merge(impact_ad_eligible_baseline_common, \n",
    "                                                               how='outer', \n",
    "                                                               on=['Participant ID', 'Collection Date'])\n"
   ]
  },
  {
   "cell_type": "code",
   "execution_count": null,
   "metadata": {},
   "outputs": [],
   "source": [
    "print(merged_serum_ad.shape)\n",
    "merged_serum_ad.head()"
   ]
  },
  {
   "cell_type": "code",
   "execution_count": null,
   "metadata": {},
   "outputs": [],
   "source": [
    "#Merging the merged with impact_ige_eligible_baseline_merged_common baselines\n",
    "merged_serum_ad_ige_baseline = impact_ige_eligible_baseline_merged_common.merge(merged_serum_ad, \n",
    "                                                               how='outer', \n",
    "                                                               on=['Participant ID', 'Collection Date'])"
   ]
  },
  {
   "cell_type": "code",
   "execution_count": null,
   "metadata": {},
   "outputs": [],
   "source": [
    "print(merged_serum_ad_ige_baseline.shape)\n",
    "merged_serum_ad_ige_baseline.head()"
   ]
  },
  {
   "cell_type": "code",
   "execution_count": null,
   "metadata": {},
   "outputs": [],
   "source": [
    "# exporting this to .xlsx to finish parsing manually\n",
    "\n",
    "merged_serum_ad_ige_baseline.to_excel('merged_serum_ad_ige_baseline.xlsx', index=False)"
   ]
  },
  {
   "cell_type": "code",
   "execution_count": null,
   "metadata": {},
   "outputs": [],
   "source": [
    "# importing back in the cleaned file \n",
    "\n",
    "merged_serum_ad_ige_baseline_clean = pd.read_excel(\"Data/Impact_Study/merged_serum_ad_ige_baseline_clean.xlsx\")\n"
   ]
  },
  {
   "cell_type": "code",
   "execution_count": null,
   "metadata": {},
   "outputs": [],
   "source": [
    "print(merged_serum_ad_ige_baseline_clean.shape)\n",
    "merged_serum_ad_ige_baseline_clean.head()"
   ]
  },
  {
   "cell_type": "code",
   "execution_count": null,
   "metadata": {},
   "outputs": [],
   "source": [
    "merged_serum_ad_ige_baseline_clean = merged_serum_ad_ige_baseline_clean.drop(columns=['Collection Date', \n",
    "                                                                                      'Study Status',\n",
    "                                                                                      'Completed Study Assessments Numeric',\n",
    "                                                                                      'Collection Date',\n",
    "                                                                                      'Completed Study Protocol'\n",
    "                                                                                     ])"
   ]
  },
  {
   "cell_type": "code",
   "execution_count": null,
   "metadata": {},
   "outputs": [],
   "source": [
    "print(merged_serum_ad_ige_baseline_clean.shape)\n",
    "merged_serum_ad_ige_baseline_clean.head()"
   ]
  },
  {
   "cell_type": "markdown",
   "metadata": {},
   "source": [
    "# STOPED HERE Just need to add the baseline Wheal \n",
    "Pick up from here:\n",
    "- add the wheal \n",
    "- break out 1-hot columns \n",
    "- clean up this document; break it into baseline cleaning and save separately "
   ]
  },
  {
   "cell_type": "code",
   "execution_count": null,
   "metadata": {},
   "outputs": [],
   "source": []
  },
  {
   "cell_type": "code",
   "execution_count": null,
   "metadata": {},
   "outputs": [],
   "source": []
  },
  {
   "cell_type": "code",
   "execution_count": null,
   "metadata": {},
   "outputs": [],
   "source": []
  },
  {
   "cell_type": "code",
   "execution_count": null,
   "metadata": {},
   "outputs": [],
   "source": []
  },
  {
   "cell_type": "code",
   "execution_count": null,
   "metadata": {},
   "outputs": [],
   "source": []
  },
  {
   "cell_type": "code",
   "execution_count": null,
   "metadata": {},
   "outputs": [],
   "source": []
  },
  {
   "cell_type": "code",
   "execution_count": null,
   "metadata": {},
   "outputs": [],
   "source": []
  },
  {
   "cell_type": "code",
   "execution_count": null,
   "metadata": {},
   "outputs": [],
   "source": []
  },
  {
   "cell_type": "code",
   "execution_count": null,
   "metadata": {},
   "outputs": [],
   "source": []
  },
  {
   "cell_type": "code",
   "execution_count": null,
   "metadata": {},
   "outputs": [],
   "source": []
  },
  {
   "cell_type": "code",
   "execution_count": null,
   "metadata": {},
   "outputs": [],
   "source": []
  },
  {
   "cell_type": "code",
   "execution_count": null,
   "metadata": {},
   "outputs": [],
   "source": []
  },
  {
   "cell_type": "code",
   "execution_count": null,
   "metadata": {},
   "outputs": [],
   "source": []
  },
  {
   "cell_type": "code",
   "execution_count": null,
   "metadata": {},
   "outputs": [],
   "source": []
  },
  {
   "cell_type": "code",
   "execution_count": null,
   "metadata": {},
   "outputs": [],
   "source": []
  },
  {
   "cell_type": "code",
   "execution_count": null,
   "metadata": {},
   "outputs": [],
   "source": []
  },
  {
   "cell_type": "code",
   "execution_count": null,
   "metadata": {},
   "outputs": [],
   "source": []
  },
  {
   "cell_type": "markdown",
   "metadata": {},
   "source": [
    "# Everything after this is code saved \"for later\" - Ignore for now\n",
    "\n",
    "Seeing all non-baseline columns so far \n"
   ]
  },
  {
   "cell_type": "code",
   "execution_count": null,
   "metadata": {},
   "outputs": [],
   "source": [
    "impact_ad_eligible_filtered.columns.tolist()"
   ]
  },
  {
   "cell_type": "code",
   "execution_count": null,
   "metadata": {},
   "outputs": [],
   "source": [
    "impact_serum_eligible_filtered.columns.tolist()"
   ]
  },
  {
   "cell_type": "code",
   "execution_count": null,
   "metadata": {},
   "outputs": [],
   "source": [
    "impact_ige_eligible_filtered.columns.tolist()"
   ]
  },
  {
   "cell_type": "code",
   "execution_count": null,
   "metadata": {},
   "outputs": [],
   "source": [
    "# seeing if ad['Date of Screening Visit'] is the same as serum['Collection Date'] and ige['Collection Date']\n",
    "filtered_rows_ad = impact_ad_eligible_filtered[impact_ad_eligible_filtered['Participant ID'] == 'IMPACT_101655']\n",
    "filtered_rows_serum = impact_serum_eligible_filtered[impact_serum_eligible_filtered['Participant ID'] == 'IMPACT_101655']\n",
    "filtered_rows_ige = impact_ige_eligible_filtered[impact_ige_eligible_filtered['Participant ID'] == 'IMPACT_101655']\n"
   ]
  },
  {
   "cell_type": "code",
   "execution_count": null,
   "metadata": {},
   "outputs": [],
   "source": [
    "filtered_rows_ad.head()"
   ]
  },
  {
   "cell_type": "code",
   "execution_count": null,
   "metadata": {},
   "outputs": [],
   "source": [
    "filtered_rows_serum.head()"
   ]
  },
  {
   "cell_type": "code",
   "execution_count": null,
   "metadata": {},
   "outputs": [],
   "source": [
    "filtered_rows_ige.head(10)"
   ]
  },
  {
   "cell_type": "markdown",
   "metadata": {},
   "source": [
    "### Confirming \n",
    "ad['Date of Screening Visit'],  \n",
    "serum['Collection Date'], and  \n",
    "ige['Collection Date']  \n",
    "__are the same date for -2 visit__\n",
    "\n",
    "\n",
    "\n"
   ]
  },
  {
   "cell_type": "code",
   "execution_count": null,
   "metadata": {},
   "outputs": [],
   "source": []
  },
  {
   "cell_type": "code",
   "execution_count": null,
   "metadata": {},
   "outputs": [],
   "source": []
  },
  {
   "cell_type": "code",
   "execution_count": null,
   "metadata": {},
   "outputs": [],
   "source": []
  },
  {
   "cell_type": "code",
   "execution_count": null,
   "metadata": {},
   "outputs": [],
   "source": []
  },
  {
   "cell_type": "code",
   "execution_count": null,
   "metadata": {},
   "outputs": [],
   "source": []
  },
  {
   "cell_type": "code",
   "execution_count": null,
   "metadata": {},
   "outputs": [],
   "source": []
  },
  {
   "cell_type": "code",
   "execution_count": null,
   "metadata": {},
   "outputs": [],
   "source": []
  },
  {
   "cell_type": "code",
   "execution_count": null,
   "metadata": {},
   "outputs": [],
   "source": []
  },
  {
   "cell_type": "code",
   "execution_count": null,
   "metadata": {},
   "outputs": [],
   "source": []
  },
  {
   "cell_type": "code",
   "execution_count": null,
   "metadata": {},
   "outputs": [],
   "source": []
  },
  {
   "cell_type": "code",
   "execution_count": null,
   "metadata": {},
   "outputs": [],
   "source": []
  },
  {
   "cell_type": "code",
   "execution_count": null,
   "metadata": {},
   "outputs": [],
   "source": []
  },
  {
   "cell_type": "code",
   "execution_count": null,
   "metadata": {},
   "outputs": [],
   "source": [
    "######ISSUEEEEEE\n",
    "# For the components: In IgE_IgG4_component dataset, looks like baseline IgE measurements (-2 visit) are \n",
    "# measured in kU/L whereas all following visits(16, 21, 24, 26) are measured in kUA/L. \n",
    "\n",
    "######HAVE to alter the following code \n",
    "\n",
    "# Create new columns with initial NaN values\n",
    "impact_ige_eligible_filtered['Ara h1 (kU/L)'] = ''\n",
    "impact_ige_eligible_filtered['Ara h2 (kU/L)'] = ''\n",
    "impact_ige_eligible_filtered['Ara h3 (kU/L)'] = ''\n",
    "impact_ige_eligible_filtered['Ara h6 (kUA/L)'] = ''\n",
    "\n",
    "# Populate the new columns based on conditions\n",
    "impact_ige_eligible_filtered.loc[impact_ige_eligible_filtered['Component'] == 'rAra h 1', 'Ara h1 (kU/L)'] = impact_ige_eligible_filtered.loc[impact_ige_eligible_filtered['Component'] == 'rAra h 1', 'Value']\n",
    "impact_ige_eligible_filtered.loc[impact_ige_eligible_filtered['Component'] == 'rAra h 2', 'Ara h2 (kU/L)'] = impact_ige_eligible_filtered.loc[impact_ige_eligible_filtered['Component'] == 'rAra h 2', 'Value']\n",
    "impact_ige_eligible_filtered.loc[impact_ige_eligible_filtered['Component'] == 'rAra h 3', 'Ara h3 (kU/L)'] = impact_ige_eligible_filtered.loc[impact_ige_eligible_filtered['Component'] == 'rAra h 3', 'Value']\n",
    "impact_ige_eligible_filtered.loc[impact_ige_eligible_filtered['Component'] == 'rAra h 6', 'Ara h6 (kUA/L)'] = impact_ige_eligible_filtered.loc[impact_ige_eligible_filtered['Component'] == 'rAra h 6', 'Value']\n",
    "\n",
    "# Drop the specified columns\n",
    "impact_ige_eligible_filtered = impact_ige_eligible_filtered.drop(columns=['Antibody', 'Component', 'Value', 'Unit'])\n"
   ]
  },
  {
   "cell_type": "code",
   "execution_count": null,
   "metadata": {},
   "outputs": [],
   "source": [
    "impact_ige_eligible_filtered.head()"
   ]
  },
  {
   "cell_type": "code",
   "execution_count": null,
   "metadata": {},
   "outputs": [],
   "source": []
  },
  {
   "cell_type": "code",
   "execution_count": null,
   "metadata": {},
   "outputs": [],
   "source": []
  },
  {
   "cell_type": "code",
   "execution_count": null,
   "metadata": {},
   "outputs": [],
   "source": []
  },
  {
   "cell_type": "code",
   "execution_count": null,
   "metadata": {},
   "outputs": [],
   "source": []
  },
  {
   "cell_type": "code",
   "execution_count": null,
   "metadata": {},
   "outputs": [],
   "source": []
  },
  {
   "cell_type": "code",
   "execution_count": null,
   "metadata": {},
   "outputs": [],
   "source": []
  },
  {
   "cell_type": "code",
   "execution_count": null,
   "metadata": {},
   "outputs": [],
   "source": []
  },
  {
   "cell_type": "code",
   "execution_count": null,
   "metadata": {},
   "outputs": [],
   "source": []
  },
  {
   "cell_type": "code",
   "execution_count": null,
   "metadata": {},
   "outputs": [],
   "source": []
  },
  {
   "cell_type": "code",
   "execution_count": null,
   "metadata": {},
   "outputs": [],
   "source": []
  },
  {
   "cell_type": "code",
   "execution_count": null,
   "metadata": {},
   "outputs": [],
   "source": []
  },
  {
   "cell_type": "code",
   "execution_count": null,
   "metadata": {},
   "outputs": [],
   "source": [
    "# Breaking out Peanut IgE and Total IgE into their own columns \n",
    "\n",
    "# Create new columns with initial NaN values\n",
    "impact_serum_eligible_filtered['Peanut IgE kU/L'] = ''\n",
    "impact_serum_eligible_filtered['Total IgE IU/mL'] = ''\n",
    "\n",
    "# Populate the new columns based on conditions\n",
    "impact_serum_eligible_filtered.loc[impact_serum_eligible_filtered['Test Name'] == 'Peanut IgE', 'Peanut IgE kU/L'] = impact_serum_eligible_filtered.loc[impact_serum_eligible_filtered['Test Name'] == 'Peanut IgE', 'Value']\n",
    "impact_serum_eligible_filtered.loc[impact_serum_eligible_filtered['Test Name'] == 'Total IgE', 'Total IgE IU/mL'] = impact_serum_eligible_filtered.loc[impact_serum_eligible_filtered['Test Name'] == 'Total IgE', 'Value']\n",
    "\n",
    "# Remove the 'Test Name', 'Unit', and 'Value' columns\n",
    "impact_serum_eligible_filtered = impact_serum_eligible_filtered.drop(columns=['Test Name', 'Unit', 'Value'])\n"
   ]
  },
  {
   "cell_type": "code",
   "execution_count": null,
   "metadata": {},
   "outputs": [],
   "source": [
    "impact_serum_eligible_filtered.head()"
   ]
  },
  {
   "cell_type": "code",
   "execution_count": null,
   "metadata": {},
   "outputs": [],
   "source": []
  },
  {
   "cell_type": "code",
   "execution_count": null,
   "metadata": {},
   "outputs": [],
   "source": []
  },
  {
   "cell_type": "code",
   "execution_count": null,
   "metadata": {},
   "outputs": [],
   "source": []
  },
  {
   "cell_type": "code",
   "execution_count": null,
   "metadata": {},
   "outputs": [],
   "source": []
  },
  {
   "cell_type": "code",
   "execution_count": null,
   "metadata": {},
   "outputs": [],
   "source": []
  },
  {
   "cell_type": "code",
   "execution_count": null,
   "metadata": {},
   "outputs": [],
   "source": []
  },
  {
   "cell_type": "code",
   "execution_count": null,
   "metadata": {},
   "outputs": [],
   "source": []
  },
  {
   "cell_type": "code",
   "execution_count": null,
   "metadata": {},
   "outputs": [],
   "source": []
  },
  {
   "cell_type": "code",
   "execution_count": null,
   "metadata": {},
   "outputs": [],
   "source": []
  },
  {
   "cell_type": "code",
   "execution_count": null,
   "metadata": {},
   "outputs": [],
   "source": []
  },
  {
   "cell_type": "markdown",
   "metadata": {},
   "source": [
    "### OFC Results column notes\n",
    "\n",
    "#### Will use 'Passed Visit 24 OFC No Imputation' and 'Passed Visit 26 OFC No Imputation' columns for OFC results.  \n",
    "\n",
    "This is because the other OFC column uses a model/imputation to fill in the values. I validated that this is true by counting the unique participant IDs for those who had NaN values in the No Imputation column and read (somewhere) that a model was made to impute these values. \n",
    "\n",
    "In reality: \n",
    "Total participants from OIT and Placebo side that dropped between n=144 initial dose escalation and visit 24 is (4+6)+(9+9) = __28 dropped before week 24 visit__\n",
    "\n",
    "#### Rule: If column contains Nan, then they did not take the OFC during that visit"
   ]
  },
  {
   "cell_type": "code",
   "execution_count": null,
   "metadata": {},
   "outputs": [],
   "source": [
    "# counting the number of unique participant IDs who have NaN values for 'Passed Visit 24 OFC No Imputation'. \n",
    "# Should be 28\n",
    "\n",
    "filtered_df = impact_serum_eligible_filtered[(impact_serum_eligible_filtered['Passed Visit 24 OFC No Imputation'].isnull() | \n",
    "                                             (impact_serum_eligible_filtered['Passed Visit 24 OFC No Imputation'] == \"\") |\n",
    "                                             impact_serum_eligible_filtered['Passed Visit 24 OFC No Imputation'].isna())]\n",
    "\n"
   ]
  },
  {
   "cell_type": "code",
   "execution_count": null,
   "metadata": {},
   "outputs": [],
   "source": [
    "len(filtered_df['Participant ID'].unique().tolist())\n",
    "# output is 28 as expected"
   ]
  },
  {
   "cell_type": "code",
   "execution_count": null,
   "metadata": {},
   "outputs": [],
   "source": []
  },
  {
   "cell_type": "code",
   "execution_count": null,
   "metadata": {},
   "outputs": [],
   "source": []
  },
  {
   "cell_type": "code",
   "execution_count": null,
   "metadata": {},
   "outputs": [],
   "source": []
  },
  {
   "cell_type": "code",
   "execution_count": null,
   "metadata": {},
   "outputs": [],
   "source": []
  },
  {
   "cell_type": "markdown",
   "metadata": {},
   "source": [
    "\n",
    "## To Do - keep filtering to determine who finished the study\n",
    "determine 70 completed (peanut) + 23 completed (placebo) = 103 completed\n",
    "- 'Last Visit Number from Scheduled Visits'] == 26 only gave 84. Pick up exploring from here"
   ]
  },
  {
   "cell_type": "code",
   "execution_count": null,
   "metadata": {},
   "outputs": [],
   "source": []
  }
 ],
 "metadata": {
  "kernelspec": {
   "display_name": "Python 3",
   "language": "python",
   "name": "python3"
  },
  "language_info": {
   "codemirror_mode": {
    "name": "ipython",
    "version": 3
   },
   "file_extension": ".py",
   "mimetype": "text/x-python",
   "name": "python",
   "nbconvert_exporter": "python",
   "pygments_lexer": "ipython3",
   "version": "3.8.3"
  }
 },
 "nbformat": 4,
 "nbformat_minor": 5
}
